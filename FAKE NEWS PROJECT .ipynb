{
 "cells": [
  {
   "cell_type": "markdown",
   "id": "c99518ef",
   "metadata": {},
   "source": [
    "# FAKE NEWS PROJECT "
   ]
  },
  {
   "cell_type": "code",
   "execution_count": 103,
   "id": "6402a475",
   "metadata": {},
   "outputs": [],
   "source": [
    "import pandas as pd\n",
    "import numpy as np"
   ]
  },
  {
   "cell_type": "markdown",
   "id": "010b6f4c",
   "metadata": {},
   "source": [
    "## TRUE DATA SET"
   ]
  },
  {
   "cell_type": "code",
   "execution_count": 104,
   "id": "3c200889",
   "metadata": {},
   "outputs": [],
   "source": [
    "a=pd.read_csv('True.csv')"
   ]
  },
  {
   "cell_type": "code",
   "execution_count": 105,
   "id": "f1dccdad",
   "metadata": {},
   "outputs": [
    {
     "data": {
      "text/html": [
       "<div>\n",
       "<style scoped>\n",
       "    .dataframe tbody tr th:only-of-type {\n",
       "        vertical-align: middle;\n",
       "    }\n",
       "\n",
       "    .dataframe tbody tr th {\n",
       "        vertical-align: top;\n",
       "    }\n",
       "\n",
       "    .dataframe thead th {\n",
       "        text-align: right;\n",
       "    }\n",
       "</style>\n",
       "<table border=\"1\" class=\"dataframe\">\n",
       "  <thead>\n",
       "    <tr style=\"text-align: right;\">\n",
       "      <th></th>\n",
       "      <th>title</th>\n",
       "      <th>text</th>\n",
       "      <th>subject</th>\n",
       "      <th>date</th>\n",
       "    </tr>\n",
       "  </thead>\n",
       "  <tbody>\n",
       "    <tr>\n",
       "      <th>0</th>\n",
       "      <td>As U.S. budget fight looms, Republicans flip t...</td>\n",
       "      <td>WASHINGTON (Reuters) - The head of a conservat...</td>\n",
       "      <td>politicsNews</td>\n",
       "      <td>December 31, 2017</td>\n",
       "    </tr>\n",
       "    <tr>\n",
       "      <th>1</th>\n",
       "      <td>U.S. military to accept transgender recruits o...</td>\n",
       "      <td>WASHINGTON (Reuters) - Transgender people will...</td>\n",
       "      <td>politicsNews</td>\n",
       "      <td>December 29, 2017</td>\n",
       "    </tr>\n",
       "    <tr>\n",
       "      <th>2</th>\n",
       "      <td>Senior U.S. Republican senator: 'Let Mr. Muell...</td>\n",
       "      <td>WASHINGTON (Reuters) - The special counsel inv...</td>\n",
       "      <td>politicsNews</td>\n",
       "      <td>December 31, 2017</td>\n",
       "    </tr>\n",
       "    <tr>\n",
       "      <th>3</th>\n",
       "      <td>FBI Russia probe helped by Australian diplomat...</td>\n",
       "      <td>WASHINGTON (Reuters) - Trump campaign adviser ...</td>\n",
       "      <td>politicsNews</td>\n",
       "      <td>December 30, 2017</td>\n",
       "    </tr>\n",
       "    <tr>\n",
       "      <th>4</th>\n",
       "      <td>Trump wants Postal Service to charge 'much mor...</td>\n",
       "      <td>SEATTLE/WASHINGTON (Reuters) - President Donal...</td>\n",
       "      <td>politicsNews</td>\n",
       "      <td>December 29, 2017</td>\n",
       "    </tr>\n",
       "    <tr>\n",
       "      <th>...</th>\n",
       "      <td>...</td>\n",
       "      <td>...</td>\n",
       "      <td>...</td>\n",
       "      <td>...</td>\n",
       "    </tr>\n",
       "    <tr>\n",
       "      <th>21412</th>\n",
       "      <td>'Fully committed' NATO backs new U.S. approach...</td>\n",
       "      <td>BRUSSELS (Reuters) - NATO allies on Tuesday we...</td>\n",
       "      <td>worldnews</td>\n",
       "      <td>August 22, 2017</td>\n",
       "    </tr>\n",
       "    <tr>\n",
       "      <th>21413</th>\n",
       "      <td>LexisNexis withdrew two products from Chinese ...</td>\n",
       "      <td>LONDON (Reuters) - LexisNexis, a provider of l...</td>\n",
       "      <td>worldnews</td>\n",
       "      <td>August 22, 2017</td>\n",
       "    </tr>\n",
       "    <tr>\n",
       "      <th>21414</th>\n",
       "      <td>Minsk cultural hub becomes haven from authorities</td>\n",
       "      <td>MINSK (Reuters) - In the shadow of disused Sov...</td>\n",
       "      <td>worldnews</td>\n",
       "      <td>August 22, 2017</td>\n",
       "    </tr>\n",
       "    <tr>\n",
       "      <th>21415</th>\n",
       "      <td>Vatican upbeat on possibility of Pope Francis ...</td>\n",
       "      <td>MOSCOW (Reuters) - Vatican Secretary of State ...</td>\n",
       "      <td>worldnews</td>\n",
       "      <td>August 22, 2017</td>\n",
       "    </tr>\n",
       "    <tr>\n",
       "      <th>21416</th>\n",
       "      <td>Indonesia to buy $1.14 billion worth of Russia...</td>\n",
       "      <td>JAKARTA (Reuters) - Indonesia will buy 11 Sukh...</td>\n",
       "      <td>worldnews</td>\n",
       "      <td>August 22, 2017</td>\n",
       "    </tr>\n",
       "  </tbody>\n",
       "</table>\n",
       "<p>21417 rows × 4 columns</p>\n",
       "</div>"
      ],
      "text/plain": [
       "                                                   title  \\\n",
       "0      As U.S. budget fight looms, Republicans flip t...   \n",
       "1      U.S. military to accept transgender recruits o...   \n",
       "2      Senior U.S. Republican senator: 'Let Mr. Muell...   \n",
       "3      FBI Russia probe helped by Australian diplomat...   \n",
       "4      Trump wants Postal Service to charge 'much mor...   \n",
       "...                                                  ...   \n",
       "21412  'Fully committed' NATO backs new U.S. approach...   \n",
       "21413  LexisNexis withdrew two products from Chinese ...   \n",
       "21414  Minsk cultural hub becomes haven from authorities   \n",
       "21415  Vatican upbeat on possibility of Pope Francis ...   \n",
       "21416  Indonesia to buy $1.14 billion worth of Russia...   \n",
       "\n",
       "                                                    text       subject  \\\n",
       "0      WASHINGTON (Reuters) - The head of a conservat...  politicsNews   \n",
       "1      WASHINGTON (Reuters) - Transgender people will...  politicsNews   \n",
       "2      WASHINGTON (Reuters) - The special counsel inv...  politicsNews   \n",
       "3      WASHINGTON (Reuters) - Trump campaign adviser ...  politicsNews   \n",
       "4      SEATTLE/WASHINGTON (Reuters) - President Donal...  politicsNews   \n",
       "...                                                  ...           ...   \n",
       "21412  BRUSSELS (Reuters) - NATO allies on Tuesday we...     worldnews   \n",
       "21413  LONDON (Reuters) - LexisNexis, a provider of l...     worldnews   \n",
       "21414  MINSK (Reuters) - In the shadow of disused Sov...     worldnews   \n",
       "21415  MOSCOW (Reuters) - Vatican Secretary of State ...     worldnews   \n",
       "21416  JAKARTA (Reuters) - Indonesia will buy 11 Sukh...     worldnews   \n",
       "\n",
       "                     date  \n",
       "0      December 31, 2017   \n",
       "1      December 29, 2017   \n",
       "2      December 31, 2017   \n",
       "3      December 30, 2017   \n",
       "4      December 29, 2017   \n",
       "...                   ...  \n",
       "21412    August 22, 2017   \n",
       "21413    August 22, 2017   \n",
       "21414    August 22, 2017   \n",
       "21415    August 22, 2017   \n",
       "21416    August 22, 2017   \n",
       "\n",
       "[21417 rows x 4 columns]"
      ]
     },
     "execution_count": 105,
     "metadata": {},
     "output_type": "execute_result"
    }
   ],
   "source": [
    "a"
   ]
  },
  {
   "cell_type": "code",
   "execution_count": 106,
   "id": "1c5f4fd4",
   "metadata": {},
   "outputs": [],
   "source": [
    "true=[]\n",
    "true.append('True')\n",
    "true=true*21417"
   ]
  },
  {
   "cell_type": "code",
   "execution_count": 107,
   "id": "91c6301f",
   "metadata": {},
   "outputs": [],
   "source": [
    "a['News']=true"
   ]
  },
  {
   "cell_type": "code",
   "execution_count": 108,
   "id": "e534abd8",
   "metadata": {},
   "outputs": [
    {
     "data": {
      "text/html": [
       "<div>\n",
       "<style scoped>\n",
       "    .dataframe tbody tr th:only-of-type {\n",
       "        vertical-align: middle;\n",
       "    }\n",
       "\n",
       "    .dataframe tbody tr th {\n",
       "        vertical-align: top;\n",
       "    }\n",
       "\n",
       "    .dataframe thead th {\n",
       "        text-align: right;\n",
       "    }\n",
       "</style>\n",
       "<table border=\"1\" class=\"dataframe\">\n",
       "  <thead>\n",
       "    <tr style=\"text-align: right;\">\n",
       "      <th></th>\n",
       "      <th>title</th>\n",
       "      <th>text</th>\n",
       "      <th>subject</th>\n",
       "      <th>date</th>\n",
       "      <th>News</th>\n",
       "    </tr>\n",
       "  </thead>\n",
       "  <tbody>\n",
       "    <tr>\n",
       "      <th>0</th>\n",
       "      <td>As U.S. budget fight looms, Republicans flip t...</td>\n",
       "      <td>WASHINGTON (Reuters) - The head of a conservat...</td>\n",
       "      <td>politicsNews</td>\n",
       "      <td>December 31, 2017</td>\n",
       "      <td>True</td>\n",
       "    </tr>\n",
       "    <tr>\n",
       "      <th>1</th>\n",
       "      <td>U.S. military to accept transgender recruits o...</td>\n",
       "      <td>WASHINGTON (Reuters) - Transgender people will...</td>\n",
       "      <td>politicsNews</td>\n",
       "      <td>December 29, 2017</td>\n",
       "      <td>True</td>\n",
       "    </tr>\n",
       "    <tr>\n",
       "      <th>2</th>\n",
       "      <td>Senior U.S. Republican senator: 'Let Mr. Muell...</td>\n",
       "      <td>WASHINGTON (Reuters) - The special counsel inv...</td>\n",
       "      <td>politicsNews</td>\n",
       "      <td>December 31, 2017</td>\n",
       "      <td>True</td>\n",
       "    </tr>\n",
       "    <tr>\n",
       "      <th>3</th>\n",
       "      <td>FBI Russia probe helped by Australian diplomat...</td>\n",
       "      <td>WASHINGTON (Reuters) - Trump campaign adviser ...</td>\n",
       "      <td>politicsNews</td>\n",
       "      <td>December 30, 2017</td>\n",
       "      <td>True</td>\n",
       "    </tr>\n",
       "    <tr>\n",
       "      <th>4</th>\n",
       "      <td>Trump wants Postal Service to charge 'much mor...</td>\n",
       "      <td>SEATTLE/WASHINGTON (Reuters) - President Donal...</td>\n",
       "      <td>politicsNews</td>\n",
       "      <td>December 29, 2017</td>\n",
       "      <td>True</td>\n",
       "    </tr>\n",
       "    <tr>\n",
       "      <th>...</th>\n",
       "      <td>...</td>\n",
       "      <td>...</td>\n",
       "      <td>...</td>\n",
       "      <td>...</td>\n",
       "      <td>...</td>\n",
       "    </tr>\n",
       "    <tr>\n",
       "      <th>21412</th>\n",
       "      <td>'Fully committed' NATO backs new U.S. approach...</td>\n",
       "      <td>BRUSSELS (Reuters) - NATO allies on Tuesday we...</td>\n",
       "      <td>worldnews</td>\n",
       "      <td>August 22, 2017</td>\n",
       "      <td>True</td>\n",
       "    </tr>\n",
       "    <tr>\n",
       "      <th>21413</th>\n",
       "      <td>LexisNexis withdrew two products from Chinese ...</td>\n",
       "      <td>LONDON (Reuters) - LexisNexis, a provider of l...</td>\n",
       "      <td>worldnews</td>\n",
       "      <td>August 22, 2017</td>\n",
       "      <td>True</td>\n",
       "    </tr>\n",
       "    <tr>\n",
       "      <th>21414</th>\n",
       "      <td>Minsk cultural hub becomes haven from authorities</td>\n",
       "      <td>MINSK (Reuters) - In the shadow of disused Sov...</td>\n",
       "      <td>worldnews</td>\n",
       "      <td>August 22, 2017</td>\n",
       "      <td>True</td>\n",
       "    </tr>\n",
       "    <tr>\n",
       "      <th>21415</th>\n",
       "      <td>Vatican upbeat on possibility of Pope Francis ...</td>\n",
       "      <td>MOSCOW (Reuters) - Vatican Secretary of State ...</td>\n",
       "      <td>worldnews</td>\n",
       "      <td>August 22, 2017</td>\n",
       "      <td>True</td>\n",
       "    </tr>\n",
       "    <tr>\n",
       "      <th>21416</th>\n",
       "      <td>Indonesia to buy $1.14 billion worth of Russia...</td>\n",
       "      <td>JAKARTA (Reuters) - Indonesia will buy 11 Sukh...</td>\n",
       "      <td>worldnews</td>\n",
       "      <td>August 22, 2017</td>\n",
       "      <td>True</td>\n",
       "    </tr>\n",
       "  </tbody>\n",
       "</table>\n",
       "<p>21417 rows × 5 columns</p>\n",
       "</div>"
      ],
      "text/plain": [
       "                                                   title  \\\n",
       "0      As U.S. budget fight looms, Republicans flip t...   \n",
       "1      U.S. military to accept transgender recruits o...   \n",
       "2      Senior U.S. Republican senator: 'Let Mr. Muell...   \n",
       "3      FBI Russia probe helped by Australian diplomat...   \n",
       "4      Trump wants Postal Service to charge 'much mor...   \n",
       "...                                                  ...   \n",
       "21412  'Fully committed' NATO backs new U.S. approach...   \n",
       "21413  LexisNexis withdrew two products from Chinese ...   \n",
       "21414  Minsk cultural hub becomes haven from authorities   \n",
       "21415  Vatican upbeat on possibility of Pope Francis ...   \n",
       "21416  Indonesia to buy $1.14 billion worth of Russia...   \n",
       "\n",
       "                                                    text       subject  \\\n",
       "0      WASHINGTON (Reuters) - The head of a conservat...  politicsNews   \n",
       "1      WASHINGTON (Reuters) - Transgender people will...  politicsNews   \n",
       "2      WASHINGTON (Reuters) - The special counsel inv...  politicsNews   \n",
       "3      WASHINGTON (Reuters) - Trump campaign adviser ...  politicsNews   \n",
       "4      SEATTLE/WASHINGTON (Reuters) - President Donal...  politicsNews   \n",
       "...                                                  ...           ...   \n",
       "21412  BRUSSELS (Reuters) - NATO allies on Tuesday we...     worldnews   \n",
       "21413  LONDON (Reuters) - LexisNexis, a provider of l...     worldnews   \n",
       "21414  MINSK (Reuters) - In the shadow of disused Sov...     worldnews   \n",
       "21415  MOSCOW (Reuters) - Vatican Secretary of State ...     worldnews   \n",
       "21416  JAKARTA (Reuters) - Indonesia will buy 11 Sukh...     worldnews   \n",
       "\n",
       "                     date  News  \n",
       "0      December 31, 2017   True  \n",
       "1      December 29, 2017   True  \n",
       "2      December 31, 2017   True  \n",
       "3      December 30, 2017   True  \n",
       "4      December 29, 2017   True  \n",
       "...                   ...   ...  \n",
       "21412    August 22, 2017   True  \n",
       "21413    August 22, 2017   True  \n",
       "21414    August 22, 2017   True  \n",
       "21415    August 22, 2017   True  \n",
       "21416    August 22, 2017   True  \n",
       "\n",
       "[21417 rows x 5 columns]"
      ]
     },
     "execution_count": 108,
     "metadata": {},
     "output_type": "execute_result"
    }
   ],
   "source": [
    "a"
   ]
  },
  {
   "cell_type": "markdown",
   "id": "082c3a86",
   "metadata": {},
   "source": [
    "## FAKE DATA SET"
   ]
  },
  {
   "cell_type": "code",
   "execution_count": 109,
   "id": "997af82e",
   "metadata": {},
   "outputs": [],
   "source": [
    "b=pd.read_csv('Fake.csv')"
   ]
  },
  {
   "cell_type": "code",
   "execution_count": 110,
   "id": "3d9b0caa",
   "metadata": {},
   "outputs": [
    {
     "data": {
      "text/html": [
       "<div>\n",
       "<style scoped>\n",
       "    .dataframe tbody tr th:only-of-type {\n",
       "        vertical-align: middle;\n",
       "    }\n",
       "\n",
       "    .dataframe tbody tr th {\n",
       "        vertical-align: top;\n",
       "    }\n",
       "\n",
       "    .dataframe thead th {\n",
       "        text-align: right;\n",
       "    }\n",
       "</style>\n",
       "<table border=\"1\" class=\"dataframe\">\n",
       "  <thead>\n",
       "    <tr style=\"text-align: right;\">\n",
       "      <th></th>\n",
       "      <th>title</th>\n",
       "      <th>text</th>\n",
       "      <th>subject</th>\n",
       "      <th>date</th>\n",
       "    </tr>\n",
       "  </thead>\n",
       "  <tbody>\n",
       "    <tr>\n",
       "      <th>0</th>\n",
       "      <td>Donald Trump Sends Out Embarrassing New Year’...</td>\n",
       "      <td>Donald Trump just couldn t wish all Americans ...</td>\n",
       "      <td>News</td>\n",
       "      <td>December 31, 2017</td>\n",
       "    </tr>\n",
       "    <tr>\n",
       "      <th>1</th>\n",
       "      <td>Drunk Bragging Trump Staffer Started Russian ...</td>\n",
       "      <td>House Intelligence Committee Chairman Devin Nu...</td>\n",
       "      <td>News</td>\n",
       "      <td>December 31, 2017</td>\n",
       "    </tr>\n",
       "    <tr>\n",
       "      <th>2</th>\n",
       "      <td>Sheriff David Clarke Becomes An Internet Joke...</td>\n",
       "      <td>On Friday, it was revealed that former Milwauk...</td>\n",
       "      <td>News</td>\n",
       "      <td>December 30, 2017</td>\n",
       "    </tr>\n",
       "    <tr>\n",
       "      <th>3</th>\n",
       "      <td>Trump Is So Obsessed He Even Has Obama’s Name...</td>\n",
       "      <td>On Christmas day, Donald Trump announced that ...</td>\n",
       "      <td>News</td>\n",
       "      <td>December 29, 2017</td>\n",
       "    </tr>\n",
       "    <tr>\n",
       "      <th>4</th>\n",
       "      <td>Pope Francis Just Called Out Donald Trump Dur...</td>\n",
       "      <td>Pope Francis used his annual Christmas Day mes...</td>\n",
       "      <td>News</td>\n",
       "      <td>December 25, 2017</td>\n",
       "    </tr>\n",
       "    <tr>\n",
       "      <th>...</th>\n",
       "      <td>...</td>\n",
       "      <td>...</td>\n",
       "      <td>...</td>\n",
       "      <td>...</td>\n",
       "    </tr>\n",
       "    <tr>\n",
       "      <th>23476</th>\n",
       "      <td>McPain: John McCain Furious That Iran Treated ...</td>\n",
       "      <td>21st Century Wire says As 21WIRE reported earl...</td>\n",
       "      <td>Middle-east</td>\n",
       "      <td>January 16, 2016</td>\n",
       "    </tr>\n",
       "    <tr>\n",
       "      <th>23477</th>\n",
       "      <td>JUSTICE? Yahoo Settles E-mail Privacy Class-ac...</td>\n",
       "      <td>21st Century Wire says It s a familiar theme. ...</td>\n",
       "      <td>Middle-east</td>\n",
       "      <td>January 16, 2016</td>\n",
       "    </tr>\n",
       "    <tr>\n",
       "      <th>23478</th>\n",
       "      <td>Sunnistan: US and Allied ‘Safe Zone’ Plan to T...</td>\n",
       "      <td>Patrick Henningsen  21st Century WireRemember ...</td>\n",
       "      <td>Middle-east</td>\n",
       "      <td>January 15, 2016</td>\n",
       "    </tr>\n",
       "    <tr>\n",
       "      <th>23479</th>\n",
       "      <td>How to Blow $700 Million: Al Jazeera America F...</td>\n",
       "      <td>21st Century Wire says Al Jazeera America will...</td>\n",
       "      <td>Middle-east</td>\n",
       "      <td>January 14, 2016</td>\n",
       "    </tr>\n",
       "    <tr>\n",
       "      <th>23480</th>\n",
       "      <td>10 U.S. Navy Sailors Held by Iranian Military ...</td>\n",
       "      <td>21st Century Wire says As 21WIRE predicted in ...</td>\n",
       "      <td>Middle-east</td>\n",
       "      <td>January 12, 2016</td>\n",
       "    </tr>\n",
       "  </tbody>\n",
       "</table>\n",
       "<p>23481 rows × 4 columns</p>\n",
       "</div>"
      ],
      "text/plain": [
       "                                                   title  \\\n",
       "0       Donald Trump Sends Out Embarrassing New Year’...   \n",
       "1       Drunk Bragging Trump Staffer Started Russian ...   \n",
       "2       Sheriff David Clarke Becomes An Internet Joke...   \n",
       "3       Trump Is So Obsessed He Even Has Obama’s Name...   \n",
       "4       Pope Francis Just Called Out Donald Trump Dur...   \n",
       "...                                                  ...   \n",
       "23476  McPain: John McCain Furious That Iran Treated ...   \n",
       "23477  JUSTICE? Yahoo Settles E-mail Privacy Class-ac...   \n",
       "23478  Sunnistan: US and Allied ‘Safe Zone’ Plan to T...   \n",
       "23479  How to Blow $700 Million: Al Jazeera America F...   \n",
       "23480  10 U.S. Navy Sailors Held by Iranian Military ...   \n",
       "\n",
       "                                                    text      subject  \\\n",
       "0      Donald Trump just couldn t wish all Americans ...         News   \n",
       "1      House Intelligence Committee Chairman Devin Nu...         News   \n",
       "2      On Friday, it was revealed that former Milwauk...         News   \n",
       "3      On Christmas day, Donald Trump announced that ...         News   \n",
       "4      Pope Francis used his annual Christmas Day mes...         News   \n",
       "...                                                  ...          ...   \n",
       "23476  21st Century Wire says As 21WIRE reported earl...  Middle-east   \n",
       "23477  21st Century Wire says It s a familiar theme. ...  Middle-east   \n",
       "23478  Patrick Henningsen  21st Century WireRemember ...  Middle-east   \n",
       "23479  21st Century Wire says Al Jazeera America will...  Middle-east   \n",
       "23480  21st Century Wire says As 21WIRE predicted in ...  Middle-east   \n",
       "\n",
       "                    date  \n",
       "0      December 31, 2017  \n",
       "1      December 31, 2017  \n",
       "2      December 30, 2017  \n",
       "3      December 29, 2017  \n",
       "4      December 25, 2017  \n",
       "...                  ...  \n",
       "23476   January 16, 2016  \n",
       "23477   January 16, 2016  \n",
       "23478   January 15, 2016  \n",
       "23479   January 14, 2016  \n",
       "23480   January 12, 2016  \n",
       "\n",
       "[23481 rows x 4 columns]"
      ]
     },
     "execution_count": 110,
     "metadata": {},
     "output_type": "execute_result"
    }
   ],
   "source": [
    "b"
   ]
  },
  {
   "cell_type": "code",
   "execution_count": 111,
   "id": "d6737027",
   "metadata": {},
   "outputs": [],
   "source": [
    "Fake=[]\n",
    "Fake.append('Fake')\n",
    "Fake=Fake*23481"
   ]
  },
  {
   "cell_type": "code",
   "execution_count": 112,
   "id": "5b120aea",
   "metadata": {},
   "outputs": [],
   "source": [
    "b['News']=Fake"
   ]
  },
  {
   "cell_type": "code",
   "execution_count": 113,
   "id": "e3fb362c",
   "metadata": {},
   "outputs": [
    {
     "data": {
      "text/html": [
       "<div>\n",
       "<style scoped>\n",
       "    .dataframe tbody tr th:only-of-type {\n",
       "        vertical-align: middle;\n",
       "    }\n",
       "\n",
       "    .dataframe tbody tr th {\n",
       "        vertical-align: top;\n",
       "    }\n",
       "\n",
       "    .dataframe thead th {\n",
       "        text-align: right;\n",
       "    }\n",
       "</style>\n",
       "<table border=\"1\" class=\"dataframe\">\n",
       "  <thead>\n",
       "    <tr style=\"text-align: right;\">\n",
       "      <th></th>\n",
       "      <th>title</th>\n",
       "      <th>text</th>\n",
       "      <th>subject</th>\n",
       "      <th>date</th>\n",
       "      <th>News</th>\n",
       "    </tr>\n",
       "  </thead>\n",
       "  <tbody>\n",
       "    <tr>\n",
       "      <th>0</th>\n",
       "      <td>Donald Trump Sends Out Embarrassing New Year’...</td>\n",
       "      <td>Donald Trump just couldn t wish all Americans ...</td>\n",
       "      <td>News</td>\n",
       "      <td>December 31, 2017</td>\n",
       "      <td>Fake</td>\n",
       "    </tr>\n",
       "    <tr>\n",
       "      <th>1</th>\n",
       "      <td>Drunk Bragging Trump Staffer Started Russian ...</td>\n",
       "      <td>House Intelligence Committee Chairman Devin Nu...</td>\n",
       "      <td>News</td>\n",
       "      <td>December 31, 2017</td>\n",
       "      <td>Fake</td>\n",
       "    </tr>\n",
       "    <tr>\n",
       "      <th>2</th>\n",
       "      <td>Sheriff David Clarke Becomes An Internet Joke...</td>\n",
       "      <td>On Friday, it was revealed that former Milwauk...</td>\n",
       "      <td>News</td>\n",
       "      <td>December 30, 2017</td>\n",
       "      <td>Fake</td>\n",
       "    </tr>\n",
       "    <tr>\n",
       "      <th>3</th>\n",
       "      <td>Trump Is So Obsessed He Even Has Obama’s Name...</td>\n",
       "      <td>On Christmas day, Donald Trump announced that ...</td>\n",
       "      <td>News</td>\n",
       "      <td>December 29, 2017</td>\n",
       "      <td>Fake</td>\n",
       "    </tr>\n",
       "    <tr>\n",
       "      <th>4</th>\n",
       "      <td>Pope Francis Just Called Out Donald Trump Dur...</td>\n",
       "      <td>Pope Francis used his annual Christmas Day mes...</td>\n",
       "      <td>News</td>\n",
       "      <td>December 25, 2017</td>\n",
       "      <td>Fake</td>\n",
       "    </tr>\n",
       "    <tr>\n",
       "      <th>...</th>\n",
       "      <td>...</td>\n",
       "      <td>...</td>\n",
       "      <td>...</td>\n",
       "      <td>...</td>\n",
       "      <td>...</td>\n",
       "    </tr>\n",
       "    <tr>\n",
       "      <th>23476</th>\n",
       "      <td>McPain: John McCain Furious That Iran Treated ...</td>\n",
       "      <td>21st Century Wire says As 21WIRE reported earl...</td>\n",
       "      <td>Middle-east</td>\n",
       "      <td>January 16, 2016</td>\n",
       "      <td>Fake</td>\n",
       "    </tr>\n",
       "    <tr>\n",
       "      <th>23477</th>\n",
       "      <td>JUSTICE? Yahoo Settles E-mail Privacy Class-ac...</td>\n",
       "      <td>21st Century Wire says It s a familiar theme. ...</td>\n",
       "      <td>Middle-east</td>\n",
       "      <td>January 16, 2016</td>\n",
       "      <td>Fake</td>\n",
       "    </tr>\n",
       "    <tr>\n",
       "      <th>23478</th>\n",
       "      <td>Sunnistan: US and Allied ‘Safe Zone’ Plan to T...</td>\n",
       "      <td>Patrick Henningsen  21st Century WireRemember ...</td>\n",
       "      <td>Middle-east</td>\n",
       "      <td>January 15, 2016</td>\n",
       "      <td>Fake</td>\n",
       "    </tr>\n",
       "    <tr>\n",
       "      <th>23479</th>\n",
       "      <td>How to Blow $700 Million: Al Jazeera America F...</td>\n",
       "      <td>21st Century Wire says Al Jazeera America will...</td>\n",
       "      <td>Middle-east</td>\n",
       "      <td>January 14, 2016</td>\n",
       "      <td>Fake</td>\n",
       "    </tr>\n",
       "    <tr>\n",
       "      <th>23480</th>\n",
       "      <td>10 U.S. Navy Sailors Held by Iranian Military ...</td>\n",
       "      <td>21st Century Wire says As 21WIRE predicted in ...</td>\n",
       "      <td>Middle-east</td>\n",
       "      <td>January 12, 2016</td>\n",
       "      <td>Fake</td>\n",
       "    </tr>\n",
       "  </tbody>\n",
       "</table>\n",
       "<p>23481 rows × 5 columns</p>\n",
       "</div>"
      ],
      "text/plain": [
       "                                                   title  \\\n",
       "0       Donald Trump Sends Out Embarrassing New Year’...   \n",
       "1       Drunk Bragging Trump Staffer Started Russian ...   \n",
       "2       Sheriff David Clarke Becomes An Internet Joke...   \n",
       "3       Trump Is So Obsessed He Even Has Obama’s Name...   \n",
       "4       Pope Francis Just Called Out Donald Trump Dur...   \n",
       "...                                                  ...   \n",
       "23476  McPain: John McCain Furious That Iran Treated ...   \n",
       "23477  JUSTICE? Yahoo Settles E-mail Privacy Class-ac...   \n",
       "23478  Sunnistan: US and Allied ‘Safe Zone’ Plan to T...   \n",
       "23479  How to Blow $700 Million: Al Jazeera America F...   \n",
       "23480  10 U.S. Navy Sailors Held by Iranian Military ...   \n",
       "\n",
       "                                                    text      subject  \\\n",
       "0      Donald Trump just couldn t wish all Americans ...         News   \n",
       "1      House Intelligence Committee Chairman Devin Nu...         News   \n",
       "2      On Friday, it was revealed that former Milwauk...         News   \n",
       "3      On Christmas day, Donald Trump announced that ...         News   \n",
       "4      Pope Francis used his annual Christmas Day mes...         News   \n",
       "...                                                  ...          ...   \n",
       "23476  21st Century Wire says As 21WIRE reported earl...  Middle-east   \n",
       "23477  21st Century Wire says It s a familiar theme. ...  Middle-east   \n",
       "23478  Patrick Henningsen  21st Century WireRemember ...  Middle-east   \n",
       "23479  21st Century Wire says Al Jazeera America will...  Middle-east   \n",
       "23480  21st Century Wire says As 21WIRE predicted in ...  Middle-east   \n",
       "\n",
       "                    date  News  \n",
       "0      December 31, 2017  Fake  \n",
       "1      December 31, 2017  Fake  \n",
       "2      December 30, 2017  Fake  \n",
       "3      December 29, 2017  Fake  \n",
       "4      December 25, 2017  Fake  \n",
       "...                  ...   ...  \n",
       "23476   January 16, 2016  Fake  \n",
       "23477   January 16, 2016  Fake  \n",
       "23478   January 15, 2016  Fake  \n",
       "23479   January 14, 2016  Fake  \n",
       "23480   January 12, 2016  Fake  \n",
       "\n",
       "[23481 rows x 5 columns]"
      ]
     },
     "execution_count": 113,
     "metadata": {},
     "output_type": "execute_result"
    }
   ],
   "source": [
    "b"
   ]
  },
  {
   "cell_type": "markdown",
   "id": "9f9e2872",
   "metadata": {},
   "source": [
    "## MERGING BOTH THE DATA SETS"
   ]
  },
  {
   "cell_type": "code",
   "execution_count": 114,
   "id": "4e4bbf71",
   "metadata": {},
   "outputs": [],
   "source": [
    "df=pd.concat([a,b])"
   ]
  },
  {
   "cell_type": "code",
   "execution_count": 115,
   "id": "217f7a57",
   "metadata": {},
   "outputs": [
    {
     "data": {
      "text/html": [
       "<div>\n",
       "<style scoped>\n",
       "    .dataframe tbody tr th:only-of-type {\n",
       "        vertical-align: middle;\n",
       "    }\n",
       "\n",
       "    .dataframe tbody tr th {\n",
       "        vertical-align: top;\n",
       "    }\n",
       "\n",
       "    .dataframe thead th {\n",
       "        text-align: right;\n",
       "    }\n",
       "</style>\n",
       "<table border=\"1\" class=\"dataframe\">\n",
       "  <thead>\n",
       "    <tr style=\"text-align: right;\">\n",
       "      <th></th>\n",
       "      <th>title</th>\n",
       "      <th>text</th>\n",
       "      <th>subject</th>\n",
       "      <th>date</th>\n",
       "      <th>News</th>\n",
       "    </tr>\n",
       "  </thead>\n",
       "  <tbody>\n",
       "    <tr>\n",
       "      <th>0</th>\n",
       "      <td>As U.S. budget fight looms, Republicans flip t...</td>\n",
       "      <td>WASHINGTON (Reuters) - The head of a conservat...</td>\n",
       "      <td>politicsNews</td>\n",
       "      <td>December 31, 2017</td>\n",
       "      <td>True</td>\n",
       "    </tr>\n",
       "    <tr>\n",
       "      <th>1</th>\n",
       "      <td>U.S. military to accept transgender recruits o...</td>\n",
       "      <td>WASHINGTON (Reuters) - Transgender people will...</td>\n",
       "      <td>politicsNews</td>\n",
       "      <td>December 29, 2017</td>\n",
       "      <td>True</td>\n",
       "    </tr>\n",
       "    <tr>\n",
       "      <th>2</th>\n",
       "      <td>Senior U.S. Republican senator: 'Let Mr. Muell...</td>\n",
       "      <td>WASHINGTON (Reuters) - The special counsel inv...</td>\n",
       "      <td>politicsNews</td>\n",
       "      <td>December 31, 2017</td>\n",
       "      <td>True</td>\n",
       "    </tr>\n",
       "    <tr>\n",
       "      <th>3</th>\n",
       "      <td>FBI Russia probe helped by Australian diplomat...</td>\n",
       "      <td>WASHINGTON (Reuters) - Trump campaign adviser ...</td>\n",
       "      <td>politicsNews</td>\n",
       "      <td>December 30, 2017</td>\n",
       "      <td>True</td>\n",
       "    </tr>\n",
       "    <tr>\n",
       "      <th>4</th>\n",
       "      <td>Trump wants Postal Service to charge 'much mor...</td>\n",
       "      <td>SEATTLE/WASHINGTON (Reuters) - President Donal...</td>\n",
       "      <td>politicsNews</td>\n",
       "      <td>December 29, 2017</td>\n",
       "      <td>True</td>\n",
       "    </tr>\n",
       "    <tr>\n",
       "      <th>...</th>\n",
       "      <td>...</td>\n",
       "      <td>...</td>\n",
       "      <td>...</td>\n",
       "      <td>...</td>\n",
       "      <td>...</td>\n",
       "    </tr>\n",
       "    <tr>\n",
       "      <th>23476</th>\n",
       "      <td>McPain: John McCain Furious That Iran Treated ...</td>\n",
       "      <td>21st Century Wire says As 21WIRE reported earl...</td>\n",
       "      <td>Middle-east</td>\n",
       "      <td>January 16, 2016</td>\n",
       "      <td>Fake</td>\n",
       "    </tr>\n",
       "    <tr>\n",
       "      <th>23477</th>\n",
       "      <td>JUSTICE? Yahoo Settles E-mail Privacy Class-ac...</td>\n",
       "      <td>21st Century Wire says It s a familiar theme. ...</td>\n",
       "      <td>Middle-east</td>\n",
       "      <td>January 16, 2016</td>\n",
       "      <td>Fake</td>\n",
       "    </tr>\n",
       "    <tr>\n",
       "      <th>23478</th>\n",
       "      <td>Sunnistan: US and Allied ‘Safe Zone’ Plan to T...</td>\n",
       "      <td>Patrick Henningsen  21st Century WireRemember ...</td>\n",
       "      <td>Middle-east</td>\n",
       "      <td>January 15, 2016</td>\n",
       "      <td>Fake</td>\n",
       "    </tr>\n",
       "    <tr>\n",
       "      <th>23479</th>\n",
       "      <td>How to Blow $700 Million: Al Jazeera America F...</td>\n",
       "      <td>21st Century Wire says Al Jazeera America will...</td>\n",
       "      <td>Middle-east</td>\n",
       "      <td>January 14, 2016</td>\n",
       "      <td>Fake</td>\n",
       "    </tr>\n",
       "    <tr>\n",
       "      <th>23480</th>\n",
       "      <td>10 U.S. Navy Sailors Held by Iranian Military ...</td>\n",
       "      <td>21st Century Wire says As 21WIRE predicted in ...</td>\n",
       "      <td>Middle-east</td>\n",
       "      <td>January 12, 2016</td>\n",
       "      <td>Fake</td>\n",
       "    </tr>\n",
       "  </tbody>\n",
       "</table>\n",
       "<p>44898 rows × 5 columns</p>\n",
       "</div>"
      ],
      "text/plain": [
       "                                                   title  \\\n",
       "0      As U.S. budget fight looms, Republicans flip t...   \n",
       "1      U.S. military to accept transgender recruits o...   \n",
       "2      Senior U.S. Republican senator: 'Let Mr. Muell...   \n",
       "3      FBI Russia probe helped by Australian diplomat...   \n",
       "4      Trump wants Postal Service to charge 'much mor...   \n",
       "...                                                  ...   \n",
       "23476  McPain: John McCain Furious That Iran Treated ...   \n",
       "23477  JUSTICE? Yahoo Settles E-mail Privacy Class-ac...   \n",
       "23478  Sunnistan: US and Allied ‘Safe Zone’ Plan to T...   \n",
       "23479  How to Blow $700 Million: Al Jazeera America F...   \n",
       "23480  10 U.S. Navy Sailors Held by Iranian Military ...   \n",
       "\n",
       "                                                    text       subject  \\\n",
       "0      WASHINGTON (Reuters) - The head of a conservat...  politicsNews   \n",
       "1      WASHINGTON (Reuters) - Transgender people will...  politicsNews   \n",
       "2      WASHINGTON (Reuters) - The special counsel inv...  politicsNews   \n",
       "3      WASHINGTON (Reuters) - Trump campaign adviser ...  politicsNews   \n",
       "4      SEATTLE/WASHINGTON (Reuters) - President Donal...  politicsNews   \n",
       "...                                                  ...           ...   \n",
       "23476  21st Century Wire says As 21WIRE reported earl...   Middle-east   \n",
       "23477  21st Century Wire says It s a familiar theme. ...   Middle-east   \n",
       "23478  Patrick Henningsen  21st Century WireRemember ...   Middle-east   \n",
       "23479  21st Century Wire says Al Jazeera America will...   Middle-east   \n",
       "23480  21st Century Wire says As 21WIRE predicted in ...   Middle-east   \n",
       "\n",
       "                     date  News  \n",
       "0      December 31, 2017   True  \n",
       "1      December 29, 2017   True  \n",
       "2      December 31, 2017   True  \n",
       "3      December 30, 2017   True  \n",
       "4      December 29, 2017   True  \n",
       "...                   ...   ...  \n",
       "23476    January 16, 2016  Fake  \n",
       "23477    January 16, 2016  Fake  \n",
       "23478    January 15, 2016  Fake  \n",
       "23479    January 14, 2016  Fake  \n",
       "23480    January 12, 2016  Fake  \n",
       "\n",
       "[44898 rows x 5 columns]"
      ]
     },
     "execution_count": 115,
     "metadata": {},
     "output_type": "execute_result"
    }
   ],
   "source": [
    "df"
   ]
  },
  {
   "cell_type": "markdown",
   "id": "99451604",
   "metadata": {},
   "source": [
    "## CHECKING FOR NULL VALUES"
   ]
  },
  {
   "cell_type": "code",
   "execution_count": 116,
   "id": "27de6f03",
   "metadata": {},
   "outputs": [
    {
     "data": {
      "text/plain": [
       "title      0\n",
       "text       0\n",
       "subject    0\n",
       "date       0\n",
       "News       0\n",
       "dtype: int64"
      ]
     },
     "execution_count": 116,
     "metadata": {},
     "output_type": "execute_result"
    }
   ],
   "source": [
    "df.isnull().sum()"
   ]
  },
  {
   "cell_type": "markdown",
   "id": "01eba47c",
   "metadata": {},
   "source": [
    "## UNIQUE VALUES IN LABEL COLUMN"
   ]
  },
  {
   "cell_type": "code",
   "execution_count": 117,
   "id": "73ed4e5a",
   "metadata": {},
   "outputs": [
    {
     "data": {
      "text/plain": [
       "array(['True', 'Fake'], dtype=object)"
      ]
     },
     "execution_count": 117,
     "metadata": {},
     "output_type": "execute_result"
    }
   ],
   "source": [
    "df['News'].unique()"
   ]
  },
  {
   "cell_type": "markdown",
   "id": "dc2089fb",
   "metadata": {},
   "source": [
    "## VALUE COUNT OF LABEL COLUMN"
   ]
  },
  {
   "cell_type": "code",
   "execution_count": 118,
   "id": "bb1f531d",
   "metadata": {},
   "outputs": [
    {
     "data": {
      "text/plain": [
       "Fake    23481\n",
       "True    21417\n",
       "Name: News, dtype: int64"
      ]
     },
     "execution_count": 118,
     "metadata": {},
     "output_type": "execute_result"
    }
   ],
   "source": [
    "df['News'].value_counts()"
   ]
  },
  {
   "cell_type": "code",
   "execution_count": 119,
   "id": "8c68e50e",
   "metadata": {},
   "outputs": [],
   "source": [
    "import seaborn as sns\n",
    "import matplotlib.pyplot as plt\n",
    "import warnings\n",
    "warnings.filterwarnings('ignore')\n",
    "import re"
   ]
  },
  {
   "cell_type": "markdown",
   "id": "f61903fa",
   "metadata": {},
   "source": [
    "## DUPLICATE VALUE CHECK & REMOVAL"
   ]
  },
  {
   "cell_type": "code",
   "execution_count": 120,
   "id": "9d287787",
   "metadata": {},
   "outputs": [],
   "source": [
    "df1=df.drop_duplicates()"
   ]
  },
  {
   "cell_type": "code",
   "execution_count": 121,
   "id": "aab5384d",
   "metadata": {},
   "outputs": [
    {
     "data": {
      "text/html": [
       "<div>\n",
       "<style scoped>\n",
       "    .dataframe tbody tr th:only-of-type {\n",
       "        vertical-align: middle;\n",
       "    }\n",
       "\n",
       "    .dataframe tbody tr th {\n",
       "        vertical-align: top;\n",
       "    }\n",
       "\n",
       "    .dataframe thead th {\n",
       "        text-align: right;\n",
       "    }\n",
       "</style>\n",
       "<table border=\"1\" class=\"dataframe\">\n",
       "  <thead>\n",
       "    <tr style=\"text-align: right;\">\n",
       "      <th></th>\n",
       "      <th>title</th>\n",
       "      <th>text</th>\n",
       "      <th>subject</th>\n",
       "      <th>date</th>\n",
       "      <th>News</th>\n",
       "    </tr>\n",
       "  </thead>\n",
       "  <tbody>\n",
       "    <tr>\n",
       "      <th>0</th>\n",
       "      <td>As U.S. budget fight looms, Republicans flip t...</td>\n",
       "      <td>WASHINGTON (Reuters) - The head of a conservat...</td>\n",
       "      <td>politicsNews</td>\n",
       "      <td>December 31, 2017</td>\n",
       "      <td>True</td>\n",
       "    </tr>\n",
       "    <tr>\n",
       "      <th>1</th>\n",
       "      <td>U.S. military to accept transgender recruits o...</td>\n",
       "      <td>WASHINGTON (Reuters) - Transgender people will...</td>\n",
       "      <td>politicsNews</td>\n",
       "      <td>December 29, 2017</td>\n",
       "      <td>True</td>\n",
       "    </tr>\n",
       "    <tr>\n",
       "      <th>2</th>\n",
       "      <td>Senior U.S. Republican senator: 'Let Mr. Muell...</td>\n",
       "      <td>WASHINGTON (Reuters) - The special counsel inv...</td>\n",
       "      <td>politicsNews</td>\n",
       "      <td>December 31, 2017</td>\n",
       "      <td>True</td>\n",
       "    </tr>\n",
       "    <tr>\n",
       "      <th>3</th>\n",
       "      <td>FBI Russia probe helped by Australian diplomat...</td>\n",
       "      <td>WASHINGTON (Reuters) - Trump campaign adviser ...</td>\n",
       "      <td>politicsNews</td>\n",
       "      <td>December 30, 2017</td>\n",
       "      <td>True</td>\n",
       "    </tr>\n",
       "    <tr>\n",
       "      <th>4</th>\n",
       "      <td>Trump wants Postal Service to charge 'much mor...</td>\n",
       "      <td>SEATTLE/WASHINGTON (Reuters) - President Donal...</td>\n",
       "      <td>politicsNews</td>\n",
       "      <td>December 29, 2017</td>\n",
       "      <td>True</td>\n",
       "    </tr>\n",
       "    <tr>\n",
       "      <th>...</th>\n",
       "      <td>...</td>\n",
       "      <td>...</td>\n",
       "      <td>...</td>\n",
       "      <td>...</td>\n",
       "      <td>...</td>\n",
       "    </tr>\n",
       "    <tr>\n",
       "      <th>23476</th>\n",
       "      <td>McPain: John McCain Furious That Iran Treated ...</td>\n",
       "      <td>21st Century Wire says As 21WIRE reported earl...</td>\n",
       "      <td>Middle-east</td>\n",
       "      <td>January 16, 2016</td>\n",
       "      <td>Fake</td>\n",
       "    </tr>\n",
       "    <tr>\n",
       "      <th>23477</th>\n",
       "      <td>JUSTICE? Yahoo Settles E-mail Privacy Class-ac...</td>\n",
       "      <td>21st Century Wire says It s a familiar theme. ...</td>\n",
       "      <td>Middle-east</td>\n",
       "      <td>January 16, 2016</td>\n",
       "      <td>Fake</td>\n",
       "    </tr>\n",
       "    <tr>\n",
       "      <th>23478</th>\n",
       "      <td>Sunnistan: US and Allied ‘Safe Zone’ Plan to T...</td>\n",
       "      <td>Patrick Henningsen  21st Century WireRemember ...</td>\n",
       "      <td>Middle-east</td>\n",
       "      <td>January 15, 2016</td>\n",
       "      <td>Fake</td>\n",
       "    </tr>\n",
       "    <tr>\n",
       "      <th>23479</th>\n",
       "      <td>How to Blow $700 Million: Al Jazeera America F...</td>\n",
       "      <td>21st Century Wire says Al Jazeera America will...</td>\n",
       "      <td>Middle-east</td>\n",
       "      <td>January 14, 2016</td>\n",
       "      <td>Fake</td>\n",
       "    </tr>\n",
       "    <tr>\n",
       "      <th>23480</th>\n",
       "      <td>10 U.S. Navy Sailors Held by Iranian Military ...</td>\n",
       "      <td>21st Century Wire says As 21WIRE predicted in ...</td>\n",
       "      <td>Middle-east</td>\n",
       "      <td>January 12, 2016</td>\n",
       "      <td>Fake</td>\n",
       "    </tr>\n",
       "  </tbody>\n",
       "</table>\n",
       "<p>44689 rows × 5 columns</p>\n",
       "</div>"
      ],
      "text/plain": [
       "                                                   title  \\\n",
       "0      As U.S. budget fight looms, Republicans flip t...   \n",
       "1      U.S. military to accept transgender recruits o...   \n",
       "2      Senior U.S. Republican senator: 'Let Mr. Muell...   \n",
       "3      FBI Russia probe helped by Australian diplomat...   \n",
       "4      Trump wants Postal Service to charge 'much mor...   \n",
       "...                                                  ...   \n",
       "23476  McPain: John McCain Furious That Iran Treated ...   \n",
       "23477  JUSTICE? Yahoo Settles E-mail Privacy Class-ac...   \n",
       "23478  Sunnistan: US and Allied ‘Safe Zone’ Plan to T...   \n",
       "23479  How to Blow $700 Million: Al Jazeera America F...   \n",
       "23480  10 U.S. Navy Sailors Held by Iranian Military ...   \n",
       "\n",
       "                                                    text       subject  \\\n",
       "0      WASHINGTON (Reuters) - The head of a conservat...  politicsNews   \n",
       "1      WASHINGTON (Reuters) - Transgender people will...  politicsNews   \n",
       "2      WASHINGTON (Reuters) - The special counsel inv...  politicsNews   \n",
       "3      WASHINGTON (Reuters) - Trump campaign adviser ...  politicsNews   \n",
       "4      SEATTLE/WASHINGTON (Reuters) - President Donal...  politicsNews   \n",
       "...                                                  ...           ...   \n",
       "23476  21st Century Wire says As 21WIRE reported earl...   Middle-east   \n",
       "23477  21st Century Wire says It s a familiar theme. ...   Middle-east   \n",
       "23478  Patrick Henningsen  21st Century WireRemember ...   Middle-east   \n",
       "23479  21st Century Wire says Al Jazeera America will...   Middle-east   \n",
       "23480  21st Century Wire says As 21WIRE predicted in ...   Middle-east   \n",
       "\n",
       "                     date  News  \n",
       "0      December 31, 2017   True  \n",
       "1      December 29, 2017   True  \n",
       "2      December 31, 2017   True  \n",
       "3      December 30, 2017   True  \n",
       "4      December 29, 2017   True  \n",
       "...                   ...   ...  \n",
       "23476    January 16, 2016  Fake  \n",
       "23477    January 16, 2016  Fake  \n",
       "23478    January 15, 2016  Fake  \n",
       "23479    January 14, 2016  Fake  \n",
       "23480    January 12, 2016  Fake  \n",
       "\n",
       "[44689 rows x 5 columns]"
      ]
     },
     "execution_count": 121,
     "metadata": {},
     "output_type": "execute_result"
    }
   ],
   "source": [
    "df1"
   ]
  },
  {
   "cell_type": "code",
   "execution_count": null,
   "id": "56710ec7",
   "metadata": {},
   "outputs": [],
   "source": []
  },
  {
   "cell_type": "code",
   "execution_count": 122,
   "id": "f47301ce",
   "metadata": {},
   "outputs": [
    {
     "data": {
      "text/plain": [
       "Fake    23478\n",
       "True    21211\n",
       "Name: News, dtype: int64"
      ]
     },
     "execution_count": 122,
     "metadata": {},
     "output_type": "execute_result"
    }
   ],
   "source": [
    "df1['News'].value_counts()"
   ]
  },
  {
   "cell_type": "markdown",
   "id": "68c1571a",
   "metadata": {},
   "source": [
    "## GRAPHICAL REPRESENTATION OF OUTPUT COLUMN"
   ]
  },
  {
   "cell_type": "code",
   "execution_count": 123,
   "id": "6dd9bb6c",
   "metadata": {},
   "outputs": [
    {
     "data": {
      "text/plain": [
       "<AxesSubplot:xlabel='News', ylabel='count'>"
      ]
     },
     "execution_count": 123,
     "metadata": {},
     "output_type": "execute_result"
    },
    {
     "data": {
      "image/png": "[encoded data removed]",
      "text/plain": [
       "<Figure size 432x288 with 1 Axes>"
      ]
     },
     "metadata": {
      "needs_background": "light"
     },
     "output_type": "display_data"
    }
   ],
   "source": [
    "sns.countplot(df1['News'])"
   ]
  },
  {
   "cell_type": "code",
   "execution_count": null,
   "id": "7b4c7225",
   "metadata": {},
   "outputs": [],
   "source": []
  },
  {
   "cell_type": "code",
   "execution_count": 124,
   "id": "1b5fda2b",
   "metadata": {},
   "outputs": [
    {
     "data": {
      "text/html": [
       "<div>\n",
       "<style scoped>\n",
       "    .dataframe tbody tr th:only-of-type {\n",
       "        vertical-align: middle;\n",
       "    }\n",
       "\n",
       "    .dataframe tbody tr th {\n",
       "        vertical-align: top;\n",
       "    }\n",
       "\n",
       "    .dataframe thead th {\n",
       "        text-align: right;\n",
       "    }\n",
       "</style>\n",
       "<table border=\"1\" class=\"dataframe\">\n",
       "  <thead>\n",
       "    <tr style=\"text-align: right;\">\n",
       "      <th></th>\n",
       "      <th>title</th>\n",
       "      <th>text</th>\n",
       "      <th>subject</th>\n",
       "      <th>date</th>\n",
       "      <th>News</th>\n",
       "    </tr>\n",
       "  </thead>\n",
       "  <tbody>\n",
       "    <tr>\n",
       "      <th>0</th>\n",
       "      <td>As U.S. budget fight looms, Republicans flip t...</td>\n",
       "      <td>WASHINGTON (Reuters) - The head of a conservat...</td>\n",
       "      <td>politicsNews</td>\n",
       "      <td>December 31, 2017</td>\n",
       "      <td>True</td>\n",
       "    </tr>\n",
       "    <tr>\n",
       "      <th>1</th>\n",
       "      <td>U.S. military to accept transgender recruits o...</td>\n",
       "      <td>WASHINGTON (Reuters) - Transgender people will...</td>\n",
       "      <td>politicsNews</td>\n",
       "      <td>December 29, 2017</td>\n",
       "      <td>True</td>\n",
       "    </tr>\n",
       "    <tr>\n",
       "      <th>2</th>\n",
       "      <td>Senior U.S. Republican senator: 'Let Mr. Muell...</td>\n",
       "      <td>WASHINGTON (Reuters) - The special counsel inv...</td>\n",
       "      <td>politicsNews</td>\n",
       "      <td>December 31, 2017</td>\n",
       "      <td>True</td>\n",
       "    </tr>\n",
       "    <tr>\n",
       "      <th>3</th>\n",
       "      <td>FBI Russia probe helped by Australian diplomat...</td>\n",
       "      <td>WASHINGTON (Reuters) - Trump campaign adviser ...</td>\n",
       "      <td>politicsNews</td>\n",
       "      <td>December 30, 2017</td>\n",
       "      <td>True</td>\n",
       "    </tr>\n",
       "    <tr>\n",
       "      <th>4</th>\n",
       "      <td>Trump wants Postal Service to charge 'much mor...</td>\n",
       "      <td>SEATTLE/WASHINGTON (Reuters) - President Donal...</td>\n",
       "      <td>politicsNews</td>\n",
       "      <td>December 29, 2017</td>\n",
       "      <td>True</td>\n",
       "    </tr>\n",
       "  </tbody>\n",
       "</table>\n",
       "</div>"
      ],
      "text/plain": [
       "                                               title  \\\n",
       "0  As U.S. budget fight looms, Republicans flip t...   \n",
       "1  U.S. military to accept transgender recruits o...   \n",
       "2  Senior U.S. Republican senator: 'Let Mr. Muell...   \n",
       "3  FBI Russia probe helped by Australian diplomat...   \n",
       "4  Trump wants Postal Service to charge 'much mor...   \n",
       "\n",
       "                                                text       subject  \\\n",
       "0  WASHINGTON (Reuters) - The head of a conservat...  politicsNews   \n",
       "1  WASHINGTON (Reuters) - Transgender people will...  politicsNews   \n",
       "2  WASHINGTON (Reuters) - The special counsel inv...  politicsNews   \n",
       "3  WASHINGTON (Reuters) - Trump campaign adviser ...  politicsNews   \n",
       "4  SEATTLE/WASHINGTON (Reuters) - President Donal...  politicsNews   \n",
       "\n",
       "                 date  News  \n",
       "0  December 31, 2017   True  \n",
       "1  December 29, 2017   True  \n",
       "2  December 31, 2017   True  \n",
       "3  December 30, 2017   True  \n",
       "4  December 29, 2017   True  "
      ]
     },
     "execution_count": 124,
     "metadata": {},
     "output_type": "execute_result"
    }
   ],
   "source": [
    "df1.head()"
   ]
  },
  {
   "cell_type": "code",
   "execution_count": null,
   "id": "e2732c87",
   "metadata": {},
   "outputs": [],
   "source": []
  },
  {
   "cell_type": "code",
   "execution_count": 125,
   "id": "bd520a3c",
   "metadata": {},
   "outputs": [
    {
     "data": {
      "text/html": [
       "<div>\n",
       "<style scoped>\n",
       "    .dataframe tbody tr th:only-of-type {\n",
       "        vertical-align: middle;\n",
       "    }\n",
       "\n",
       "    .dataframe tbody tr th {\n",
       "        vertical-align: top;\n",
       "    }\n",
       "\n",
       "    .dataframe thead th {\n",
       "        text-align: right;\n",
       "    }\n",
       "</style>\n",
       "<table border=\"1\" class=\"dataframe\">\n",
       "  <thead>\n",
       "    <tr style=\"text-align: right;\">\n",
       "      <th></th>\n",
       "      <th>title</th>\n",
       "      <th>text</th>\n",
       "      <th>subject</th>\n",
       "      <th>date</th>\n",
       "      <th>News</th>\n",
       "    </tr>\n",
       "  </thead>\n",
       "  <tbody>\n",
       "    <tr>\n",
       "      <th>23476</th>\n",
       "      <td>McPain: John McCain Furious That Iran Treated ...</td>\n",
       "      <td>21st Century Wire says As 21WIRE reported earl...</td>\n",
       "      <td>Middle-east</td>\n",
       "      <td>January 16, 2016</td>\n",
       "      <td>Fake</td>\n",
       "    </tr>\n",
       "    <tr>\n",
       "      <th>23477</th>\n",
       "      <td>JUSTICE? Yahoo Settles E-mail Privacy Class-ac...</td>\n",
       "      <td>21st Century Wire says It s a familiar theme. ...</td>\n",
       "      <td>Middle-east</td>\n",
       "      <td>January 16, 2016</td>\n",
       "      <td>Fake</td>\n",
       "    </tr>\n",
       "    <tr>\n",
       "      <th>23478</th>\n",
       "      <td>Sunnistan: US and Allied ‘Safe Zone’ Plan to T...</td>\n",
       "      <td>Patrick Henningsen  21st Century WireRemember ...</td>\n",
       "      <td>Middle-east</td>\n",
       "      <td>January 15, 2016</td>\n",
       "      <td>Fake</td>\n",
       "    </tr>\n",
       "    <tr>\n",
       "      <th>23479</th>\n",
       "      <td>How to Blow $700 Million: Al Jazeera America F...</td>\n",
       "      <td>21st Century Wire says Al Jazeera America will...</td>\n",
       "      <td>Middle-east</td>\n",
       "      <td>January 14, 2016</td>\n",
       "      <td>Fake</td>\n",
       "    </tr>\n",
       "    <tr>\n",
       "      <th>23480</th>\n",
       "      <td>10 U.S. Navy Sailors Held by Iranian Military ...</td>\n",
       "      <td>21st Century Wire says As 21WIRE predicted in ...</td>\n",
       "      <td>Middle-east</td>\n",
       "      <td>January 12, 2016</td>\n",
       "      <td>Fake</td>\n",
       "    </tr>\n",
       "  </tbody>\n",
       "</table>\n",
       "</div>"
      ],
      "text/plain": [
       "                                                   title  \\\n",
       "23476  McPain: John McCain Furious That Iran Treated ...   \n",
       "23477  JUSTICE? Yahoo Settles E-mail Privacy Class-ac...   \n",
       "23478  Sunnistan: US and Allied ‘Safe Zone’ Plan to T...   \n",
       "23479  How to Blow $700 Million: Al Jazeera America F...   \n",
       "23480  10 U.S. Navy Sailors Held by Iranian Military ...   \n",
       "\n",
       "                                                    text      subject  \\\n",
       "23476  21st Century Wire says As 21WIRE reported earl...  Middle-east   \n",
       "23477  21st Century Wire says It s a familiar theme. ...  Middle-east   \n",
       "23478  Patrick Henningsen  21st Century WireRemember ...  Middle-east   \n",
       "23479  21st Century Wire says Al Jazeera America will...  Middle-east   \n",
       "23480  21st Century Wire says As 21WIRE predicted in ...  Middle-east   \n",
       "\n",
       "                   date  News  \n",
       "23476  January 16, 2016  Fake  \n",
       "23477  January 16, 2016  Fake  \n",
       "23478  January 15, 2016  Fake  \n",
       "23479  January 14, 2016  Fake  \n",
       "23480  January 12, 2016  Fake  "
      ]
     },
     "execution_count": 125,
     "metadata": {},
     "output_type": "execute_result"
    }
   ],
   "source": [
    "df1.tail()"
   ]
  },
  {
   "cell_type": "code",
   "execution_count": null,
   "id": "9e6a8e06",
   "metadata": {},
   "outputs": [],
   "source": []
  },
  {
   "cell_type": "code",
   "execution_count": 126,
   "id": "cbc61df2",
   "metadata": {},
   "outputs": [
    {
     "data": {
      "text/html": [
       "<div>\n",
       "<style scoped>\n",
       "    .dataframe tbody tr th:only-of-type {\n",
       "        vertical-align: middle;\n",
       "    }\n",
       "\n",
       "    .dataframe tbody tr th {\n",
       "        vertical-align: top;\n",
       "    }\n",
       "\n",
       "    .dataframe thead th {\n",
       "        text-align: right;\n",
       "    }\n",
       "</style>\n",
       "<table border=\"1\" class=\"dataframe\">\n",
       "  <thead>\n",
       "    <tr style=\"text-align: right;\">\n",
       "      <th></th>\n",
       "      <th>title</th>\n",
       "      <th>text</th>\n",
       "      <th>subject</th>\n",
       "      <th>date</th>\n",
       "      <th>News</th>\n",
       "    </tr>\n",
       "  </thead>\n",
       "  <tbody>\n",
       "    <tr>\n",
       "      <th>12993</th>\n",
       "      <td>11 TRUTHS ABOUT OBAMA BIRTHER CLAIMS AND THE M...</td>\n",
       "      <td>Hillary is guilty as hell; she is without que...</td>\n",
       "      <td>politics</td>\n",
       "      <td>Sep 16, 2016</td>\n",
       "      <td>Fake</td>\n",
       "    </tr>\n",
       "  </tbody>\n",
       "</table>\n",
       "</div>"
      ],
      "text/plain": [
       "                                                   title  \\\n",
       "12993  11 TRUTHS ABOUT OBAMA BIRTHER CLAIMS AND THE M...   \n",
       "\n",
       "                                                    text   subject  \\\n",
       "12993   Hillary is guilty as hell; she is without que...  politics   \n",
       "\n",
       "               date  News  \n",
       "12993  Sep 16, 2016  Fake  "
      ]
     },
     "execution_count": 126,
     "metadata": {},
     "output_type": "execute_result"
    }
   ],
   "source": [
    "df1.sample()"
   ]
  },
  {
   "cell_type": "markdown",
   "id": "f511572d",
   "metadata": {},
   "source": [
    "## CORRECTING & REMOVING THE INDEX"
   ]
  },
  {
   "cell_type": "code",
   "execution_count": 137,
   "id": "46145830",
   "metadata": {},
   "outputs": [],
   "source": [
    "df1.reset_index(inplace=True)"
   ]
  },
  {
   "cell_type": "code",
   "execution_count": 139,
   "id": "7d48bb25",
   "metadata": {},
   "outputs": [],
   "source": [
    "df1.drop(['index'],axis=1,inplace=True)"
   ]
  },
  {
   "cell_type": "markdown",
   "id": "86dd85aa",
   "metadata": {},
   "source": [
    "## LABEL ENCODING THE CATEGORICAL OUTPUT COLUMN "
   ]
  },
  {
   "cell_type": "code",
   "execution_count": 140,
   "id": "42662629",
   "metadata": {},
   "outputs": [],
   "source": [
    "from sklearn.preprocessing import LabelEncoder"
   ]
  },
  {
   "cell_type": "code",
   "execution_count": 141,
   "id": "adf687d1",
   "metadata": {},
   "outputs": [],
   "source": [
    "le=LabelEncoder()"
   ]
  },
  {
   "cell_type": "code",
   "execution_count": 142,
   "id": "c3fe6a0b",
   "metadata": {},
   "outputs": [],
   "source": [
    "df1['News']=le.fit_transform(df1['News'])"
   ]
  },
  {
   "cell_type": "code",
   "execution_count": 143,
   "id": "7c1c80d6",
   "metadata": {},
   "outputs": [
    {
     "data": {
      "text/html": [
       "<div>\n",
       "<style scoped>\n",
       "    .dataframe tbody tr th:only-of-type {\n",
       "        vertical-align: middle;\n",
       "    }\n",
       "\n",
       "    .dataframe tbody tr th {\n",
       "        vertical-align: top;\n",
       "    }\n",
       "\n",
       "    .dataframe thead th {\n",
       "        text-align: right;\n",
       "    }\n",
       "</style>\n",
       "<table border=\"1\" class=\"dataframe\">\n",
       "  <thead>\n",
       "    <tr style=\"text-align: right;\">\n",
       "      <th></th>\n",
       "      <th>title</th>\n",
       "      <th>text</th>\n",
       "      <th>subject</th>\n",
       "      <th>date</th>\n",
       "      <th>News</th>\n",
       "    </tr>\n",
       "  </thead>\n",
       "  <tbody>\n",
       "    <tr>\n",
       "      <th>0</th>\n",
       "      <td>As U.S. budget fight looms, Republicans flip t...</td>\n",
       "      <td>WASHINGTON (Reuters) - The head of a conservat...</td>\n",
       "      <td>politicsNews</td>\n",
       "      <td>December 31, 2017</td>\n",
       "      <td>1</td>\n",
       "    </tr>\n",
       "    <tr>\n",
       "      <th>1</th>\n",
       "      <td>U.S. military to accept transgender recruits o...</td>\n",
       "      <td>WASHINGTON (Reuters) - Transgender people will...</td>\n",
       "      <td>politicsNews</td>\n",
       "      <td>December 29, 2017</td>\n",
       "      <td>1</td>\n",
       "    </tr>\n",
       "    <tr>\n",
       "      <th>2</th>\n",
       "      <td>Senior U.S. Republican senator: 'Let Mr. Muell...</td>\n",
       "      <td>WASHINGTON (Reuters) - The special counsel inv...</td>\n",
       "      <td>politicsNews</td>\n",
       "      <td>December 31, 2017</td>\n",
       "      <td>1</td>\n",
       "    </tr>\n",
       "    <tr>\n",
       "      <th>3</th>\n",
       "      <td>FBI Russia probe helped by Australian diplomat...</td>\n",
       "      <td>WASHINGTON (Reuters) - Trump campaign adviser ...</td>\n",
       "      <td>politicsNews</td>\n",
       "      <td>December 30, 2017</td>\n",
       "      <td>1</td>\n",
       "    </tr>\n",
       "    <tr>\n",
       "      <th>4</th>\n",
       "      <td>Trump wants Postal Service to charge 'much mor...</td>\n",
       "      <td>SEATTLE/WASHINGTON (Reuters) - President Donal...</td>\n",
       "      <td>politicsNews</td>\n",
       "      <td>December 29, 2017</td>\n",
       "      <td>1</td>\n",
       "    </tr>\n",
       "    <tr>\n",
       "      <th>...</th>\n",
       "      <td>...</td>\n",
       "      <td>...</td>\n",
       "      <td>...</td>\n",
       "      <td>...</td>\n",
       "      <td>...</td>\n",
       "    </tr>\n",
       "    <tr>\n",
       "      <th>44684</th>\n",
       "      <td>McPain: John McCain Furious That Iran Treated ...</td>\n",
       "      <td>21st Century Wire says As 21WIRE reported earl...</td>\n",
       "      <td>Middle-east</td>\n",
       "      <td>January 16, 2016</td>\n",
       "      <td>0</td>\n",
       "    </tr>\n",
       "    <tr>\n",
       "      <th>44685</th>\n",
       "      <td>JUSTICE? Yahoo Settles E-mail Privacy Class-ac...</td>\n",
       "      <td>21st Century Wire says It s a familiar theme. ...</td>\n",
       "      <td>Middle-east</td>\n",
       "      <td>January 16, 2016</td>\n",
       "      <td>0</td>\n",
       "    </tr>\n",
       "    <tr>\n",
       "      <th>44686</th>\n",
       "      <td>Sunnistan: US and Allied ‘Safe Zone’ Plan to T...</td>\n",
       "      <td>Patrick Henningsen  21st Century WireRemember ...</td>\n",
       "      <td>Middle-east</td>\n",
       "      <td>January 15, 2016</td>\n",
       "      <td>0</td>\n",
       "    </tr>\n",
       "    <tr>\n",
       "      <th>44687</th>\n",
       "      <td>How to Blow $700 Million: Al Jazeera America F...</td>\n",
       "      <td>21st Century Wire says Al Jazeera America will...</td>\n",
       "      <td>Middle-east</td>\n",
       "      <td>January 14, 2016</td>\n",
       "      <td>0</td>\n",
       "    </tr>\n",
       "    <tr>\n",
       "      <th>44688</th>\n",
       "      <td>10 U.S. Navy Sailors Held by Iranian Military ...</td>\n",
       "      <td>21st Century Wire says As 21WIRE predicted in ...</td>\n",
       "      <td>Middle-east</td>\n",
       "      <td>January 12, 2016</td>\n",
       "      <td>0</td>\n",
       "    </tr>\n",
       "  </tbody>\n",
       "</table>\n",
       "<p>44689 rows × 5 columns</p>\n",
       "</div>"
      ],
      "text/plain": [
       "                                                   title  \\\n",
       "0      As U.S. budget fight looms, Republicans flip t...   \n",
       "1      U.S. military to accept transgender recruits o...   \n",
       "2      Senior U.S. Republican senator: 'Let Mr. Muell...   \n",
       "3      FBI Russia probe helped by Australian diplomat...   \n",
       "4      Trump wants Postal Service to charge 'much mor...   \n",
       "...                                                  ...   \n",
       "44684  McPain: John McCain Furious That Iran Treated ...   \n",
       "44685  JUSTICE? Yahoo Settles E-mail Privacy Class-ac...   \n",
       "44686  Sunnistan: US and Allied ‘Safe Zone’ Plan to T...   \n",
       "44687  How to Blow $700 Million: Al Jazeera America F...   \n",
       "44688  10 U.S. Navy Sailors Held by Iranian Military ...   \n",
       "\n",
       "                                                    text       subject  \\\n",
       "0      WASHINGTON (Reuters) - The head of a conservat...  politicsNews   \n",
       "1      WASHINGTON (Reuters) - Transgender people will...  politicsNews   \n",
       "2      WASHINGTON (Reuters) - The special counsel inv...  politicsNews   \n",
       "3      WASHINGTON (Reuters) - Trump campaign adviser ...  politicsNews   \n",
       "4      SEATTLE/WASHINGTON (Reuters) - President Donal...  politicsNews   \n",
       "...                                                  ...           ...   \n",
       "44684  21st Century Wire says As 21WIRE reported earl...   Middle-east   \n",
       "44685  21st Century Wire says It s a familiar theme. ...   Middle-east   \n",
       "44686  Patrick Henningsen  21st Century WireRemember ...   Middle-east   \n",
       "44687  21st Century Wire says Al Jazeera America will...   Middle-east   \n",
       "44688  21st Century Wire says As 21WIRE predicted in ...   Middle-east   \n",
       "\n",
       "                     date  News  \n",
       "0      December 31, 2017      1  \n",
       "1      December 29, 2017      1  \n",
       "2      December 31, 2017      1  \n",
       "3      December 30, 2017      1  \n",
       "4      December 29, 2017      1  \n",
       "...                   ...   ...  \n",
       "44684    January 16, 2016     0  \n",
       "44685    January 16, 2016     0  \n",
       "44686    January 15, 2016     0  \n",
       "44687    January 14, 2016     0  \n",
       "44688    January 12, 2016     0  \n",
       "\n",
       "[44689 rows x 5 columns]"
      ]
     },
     "execution_count": 143,
     "metadata": {},
     "output_type": "execute_result"
    }
   ],
   "source": [
    "df1"
   ]
  },
  {
   "cell_type": "markdown",
   "id": "3f8f44fd",
   "metadata": {},
   "source": [
    "## DROPPING TITLE, SUBJECT AND DATE "
   ]
  },
  {
   "cell_type": "code",
   "execution_count": 144,
   "id": "3718fa59",
   "metadata": {},
   "outputs": [],
   "source": [
    "messages=df1.drop(['title','subject','date'],axis=1)"
   ]
  },
  {
   "cell_type": "code",
   "execution_count": 145,
   "id": "e143952a",
   "metadata": {},
   "outputs": [
    {
     "data": {
      "text/html": [
       "<div>\n",
       "<style scoped>\n",
       "    .dataframe tbody tr th:only-of-type {\n",
       "        vertical-align: middle;\n",
       "    }\n",
       "\n",
       "    .dataframe tbody tr th {\n",
       "        vertical-align: top;\n",
       "    }\n",
       "\n",
       "    .dataframe thead th {\n",
       "        text-align: right;\n",
       "    }\n",
       "</style>\n",
       "<table border=\"1\" class=\"dataframe\">\n",
       "  <thead>\n",
       "    <tr style=\"text-align: right;\">\n",
       "      <th></th>\n",
       "      <th>text</th>\n",
       "      <th>News</th>\n",
       "    </tr>\n",
       "  </thead>\n",
       "  <tbody>\n",
       "    <tr>\n",
       "      <th>0</th>\n",
       "      <td>WASHINGTON (Reuters) - The head of a conservat...</td>\n",
       "      <td>1</td>\n",
       "    </tr>\n",
       "    <tr>\n",
       "      <th>1</th>\n",
       "      <td>WASHINGTON (Reuters) - Transgender people will...</td>\n",
       "      <td>1</td>\n",
       "    </tr>\n",
       "    <tr>\n",
       "      <th>2</th>\n",
       "      <td>WASHINGTON (Reuters) - The special counsel inv...</td>\n",
       "      <td>1</td>\n",
       "    </tr>\n",
       "    <tr>\n",
       "      <th>3</th>\n",
       "      <td>WASHINGTON (Reuters) - Trump campaign adviser ...</td>\n",
       "      <td>1</td>\n",
       "    </tr>\n",
       "    <tr>\n",
       "      <th>4</th>\n",
       "      <td>SEATTLE/WASHINGTON (Reuters) - President Donal...</td>\n",
       "      <td>1</td>\n",
       "    </tr>\n",
       "    <tr>\n",
       "      <th>...</th>\n",
       "      <td>...</td>\n",
       "      <td>...</td>\n",
       "    </tr>\n",
       "    <tr>\n",
       "      <th>44684</th>\n",
       "      <td>21st Century Wire says As 21WIRE reported earl...</td>\n",
       "      <td>0</td>\n",
       "    </tr>\n",
       "    <tr>\n",
       "      <th>44685</th>\n",
       "      <td>21st Century Wire says It s a familiar theme. ...</td>\n",
       "      <td>0</td>\n",
       "    </tr>\n",
       "    <tr>\n",
       "      <th>44686</th>\n",
       "      <td>Patrick Henningsen  21st Century WireRemember ...</td>\n",
       "      <td>0</td>\n",
       "    </tr>\n",
       "    <tr>\n",
       "      <th>44687</th>\n",
       "      <td>21st Century Wire says Al Jazeera America will...</td>\n",
       "      <td>0</td>\n",
       "    </tr>\n",
       "    <tr>\n",
       "      <th>44688</th>\n",
       "      <td>21st Century Wire says As 21WIRE predicted in ...</td>\n",
       "      <td>0</td>\n",
       "    </tr>\n",
       "  </tbody>\n",
       "</table>\n",
       "<p>44689 rows × 2 columns</p>\n",
       "</div>"
      ],
      "text/plain": [
       "                                                    text  News\n",
       "0      WASHINGTON (Reuters) - The head of a conservat...     1\n",
       "1      WASHINGTON (Reuters) - Transgender people will...     1\n",
       "2      WASHINGTON (Reuters) - The special counsel inv...     1\n",
       "3      WASHINGTON (Reuters) - Trump campaign adviser ...     1\n",
       "4      SEATTLE/WASHINGTON (Reuters) - President Donal...     1\n",
       "...                                                  ...   ...\n",
       "44684  21st Century Wire says As 21WIRE reported earl...     0\n",
       "44685  21st Century Wire says It s a familiar theme. ...     0\n",
       "44686  Patrick Henningsen  21st Century WireRemember ...     0\n",
       "44687  21st Century Wire says Al Jazeera America will...     0\n",
       "44688  21st Century Wire says As 21WIRE predicted in ...     0\n",
       "\n",
       "[44689 rows x 2 columns]"
      ]
     },
     "execution_count": 145,
     "metadata": {},
     "output_type": "execute_result"
    }
   ],
   "source": [
    "messages"
   ]
  },
  {
   "cell_type": "markdown",
   "id": "c38d9f28",
   "metadata": {},
   "source": [
    "## CHECKING A SAMPLE TEXT ROW "
   ]
  },
  {
   "cell_type": "code",
   "execution_count": 146,
   "id": "b6688adb",
   "metadata": {},
   "outputs": [
    {
     "data": {
      "text/plain": [
       "'WASHINGTON (Reuters) - Alabama Secretary of State John Merrill said he will certify Democratic Senator-elect Doug Jones as winner on Thursday despite opponent Roy Moore’s challenge, in a phone call on CNN. Moore, a conservative who had faced allegations of groping teenage girls when he was in his 30s, filed a court challenge late on Wednesday to the outcome of a U.S. Senate election he unexpectedly lost. '"
      ]
     },
     "execution_count": 146,
     "metadata": {},
     "output_type": "execute_result"
    }
   ],
   "source": [
    "messages['text'][9]"
   ]
  },
  {
   "cell_type": "code",
   "execution_count": 147,
   "id": "adc20c49",
   "metadata": {},
   "outputs": [],
   "source": [
    "from nltk.corpus import stopwords\n",
    "from nltk.stem.porter import PorterStemmer\n",
    "import re\n",
    "ps = PorterStemmer()\n",
    "corpus = []\n",
    "review=[]\n",
    "for i in range(0, len(messages)):\n",
    "    review = re.sub('[^a-zA-Z]', ' ', messages['text'][i])\n",
    "    review = review.lower()\n",
    "    review = review.split()\n",
    "    \n",
    "    review = [ps.stem(word) for word in review if not word in stopwords.words('english')]\n",
    "    review = ' '.join(review)\n",
    "    corpus.append(review)\n"
   ]
  },
  {
   "cell_type": "markdown",
   "id": "632ae332",
   "metadata": {},
   "source": [
    "## FEATURE EXTRACTION "
   ]
  },
  {
   "cell_type": "code",
   "execution_count": 148,
   "id": "5be677d8",
   "metadata": {},
   "outputs": [],
   "source": [
    "from sklearn.feature_extraction.text import TfidfVectorizer\n",
    "tfidf_v=TfidfVectorizer(max_features=5000,ngram_range=(1,3))"
   ]
  },
  {
   "cell_type": "markdown",
   "id": "e2653b03",
   "metadata": {},
   "source": [
    "## SEPARATING X & Y "
   ]
  },
  {
   "cell_type": "code",
   "execution_count": 149,
   "id": "69a69290",
   "metadata": {},
   "outputs": [],
   "source": [
    "X=tfidf_v.fit_transform(corpus).toarray()"
   ]
  },
  {
   "cell_type": "code",
   "execution_count": 150,
   "id": "c801a17b",
   "metadata": {},
   "outputs": [],
   "source": [
    "Y=messages['News']"
   ]
  },
  {
   "cell_type": "code",
   "execution_count": 154,
   "id": "b3023c69",
   "metadata": {},
   "outputs": [
    {
     "data": {
      "text/plain": [
       "(44689, 5000)"
      ]
     },
     "execution_count": 154,
     "metadata": {},
     "output_type": "execute_result"
    }
   ],
   "source": [
    "X.shape"
   ]
  },
  {
   "cell_type": "code",
   "execution_count": 155,
   "id": "aec9228b",
   "metadata": {},
   "outputs": [
    {
     "data": {
      "text/plain": [
       "(44689,)"
      ]
     },
     "execution_count": 155,
     "metadata": {},
     "output_type": "execute_result"
    }
   ],
   "source": [
    "Y.shape"
   ]
  },
  {
   "cell_type": "markdown",
   "id": "db3722bf",
   "metadata": {},
   "source": [
    "## MODEL TRAINING & TESTING "
   ]
  },
  {
   "cell_type": "code",
   "execution_count": 176,
   "id": "04f308d5",
   "metadata": {},
   "outputs": [],
   "source": [
    "from sklearn.model_selection import train_test_split\n",
    "from sklearn.metrics import r2_score\n",
    "from sklearn.metrics import accuracy_score,confusion_matrix,classification_report\n",
    "from sklearn.model_selection import GridSearchCV\n",
    "from sklearn.svm import SVC\n",
    "from sklearn.tree import DecisionTreeClassifier\n",
    "from sklearn.neighbors import KNeighborsClassifier\n",
    "from sklearn.ensemble import RandomForestClassifier\n",
    "from sklearn.model_selection import cross_val_score\n",
    "from sklearn.naive_bayes import MultinomialNB\n",
    "from sklearn.naive_bayes import GaussianNB\n",
    "from sklearn.linear_model import LogisticRegression\n",
    "from sklearn.ensemble import GradientBoostingClassifier"
   ]
  },
  {
   "cell_type": "markdown",
   "id": "524fe3c6",
   "metadata": {},
   "source": [
    "## LOGISTIC REGRESSION "
   ]
  },
  {
   "cell_type": "code",
   "execution_count": 156,
   "id": "9599c565",
   "metadata": {},
   "outputs": [],
   "source": [
    "lr=LogisticRegression()"
   ]
  },
  {
   "cell_type": "code",
   "execution_count": 157,
   "id": "38e3fd1e",
   "metadata": {},
   "outputs": [
    {
     "name": "stdout",
     "output_type": "stream",
     "text": [
      "At random_state {0} the training accuracy test is 0.992223993734441\n",
      "At random_state {0} the testing accuracy test is 0.9901543969568136\n",
      "\n",
      "\n",
      "At random_state {1} the training accuracy test is 0.9921680512433219\n",
      "At random_state {1} the testing accuracy test is 0.987692996196017\n",
      "\n",
      "\n",
      "At random_state {2} the training accuracy test is 0.9925316774355962\n",
      "At random_state {2} the testing accuracy test is 0.9888118147236519\n",
      "\n",
      "\n",
      "At random_state {3} the training accuracy test is 0.9925037061900367\n",
      "At random_state {3} the testing accuracy test is 0.9883642873125978\n",
      "\n",
      "\n",
      "At random_state {4} the training accuracy test is 0.9916086263321305\n",
      "At random_state {4} the testing accuracy test is 0.9899306332512866\n",
      "\n",
      "\n",
      "At random_state {5} the training accuracy test is 0.9921121087522027\n",
      "At random_state {5} the testing accuracy test is 0.9891474602819422\n",
      "\n",
      "\n",
      "At random_state {6} the training accuracy test is 0.992223993734441\n",
      "At random_state {6} the testing accuracy test is 0.9881405236070709\n",
      "\n",
      "\n",
      "At random_state {7} the training accuracy test is 0.992419792453358\n",
      "At random_state {7} the testing accuracy test is 0.9872454687849631\n",
      "\n",
      "\n",
      "At random_state {8} the training accuracy test is 0.9923079074711197\n",
      "At random_state {8} the testing accuracy test is 0.9883642873125978\n",
      "\n",
      "\n",
      "At random_state {9} the training accuracy test is 0.9916365975776902\n",
      "At random_state {9} the testing accuracy test is 0.9902662788095771\n",
      "\n",
      "\n",
      "At random_state {10} the training accuracy test is 0.9920841375066431\n",
      "At random_state {10} the testing accuracy test is 0.9888118147236519\n",
      "\n",
      "\n",
      "At random_state {11} the training accuracy test is 0.9921960224888814\n",
      "At random_state {11} the testing accuracy test is 0.9884761691653614\n",
      "\n",
      "\n",
      "At random_state {12} the training accuracy test is 0.9920281950155241\n",
      "At random_state {12} the testing accuracy test is 0.9891474602819422\n",
      "\n",
      "\n",
      "At random_state {13} the training accuracy test is 0.9923918212077983\n",
      "At random_state {13} the testing accuracy test is 0.9888118147236519\n",
      "\n",
      "\n",
      "At random_state {14} the training accuracy test is 0.992419792453358\n",
      "At random_state {14} the testing accuracy test is 0.9886999328708883\n",
      "\n",
      "\n",
      "At random_state {15} the training accuracy test is 0.9923079074711197\n",
      "At random_state {15} the testing accuracy test is 0.9894831058402327\n",
      "\n",
      "\n",
      "At random_state {16} the training accuracy test is 0.992419792453358\n",
      "At random_state {16} the testing accuracy test is 0.9894831058402327\n",
      "\n",
      "\n",
      "At random_state {17} the training accuracy test is 0.992223993734441\n",
      "At random_state {17} the testing accuracy test is 0.9883642873125978\n",
      "\n",
      "\n",
      "At random_state {18} the training accuracy test is 0.9922799362255601\n",
      "At random_state {18} the testing accuracy test is 0.987692996196017\n",
      "\n",
      "\n",
      "At random_state {19} the training accuracy test is 0.9916086263321305\n",
      "At random_state {19} the testing accuracy test is 0.9901543969568136\n",
      "\n",
      "\n",
      "At random_state {20} the training accuracy test is 0.991776453805488\n",
      "At random_state {20} the testing accuracy test is 0.9890355784291788\n",
      "\n",
      "\n",
      "At random_state {21} the training accuracy test is 0.9918883387877262\n",
      "At random_state {21} the testing accuracy test is 0.9882524054598344\n",
      "\n",
      "\n",
      "At random_state {22} the training accuracy test is 0.9921960224888814\n",
      "At random_state {22} the testing accuracy test is 0.9888118147236519\n",
      "\n",
      "\n",
      "At random_state {23} the training accuracy test is 0.9923358787166793\n",
      "At random_state {23} the testing accuracy test is 0.9886999328708883\n",
      "\n",
      "\n",
      "At random_state {24} the training accuracy test is 0.992671533663394\n",
      "At random_state {24} the testing accuracy test is 0.9878048780487805\n",
      "\n",
      "\n",
      "At random_state {25} the training accuracy test is 0.9921400799977623\n",
      "At random_state {25} the testing accuracy test is 0.9898187513985232\n",
      "\n",
      "\n",
      "At random_state {26} the training accuracy test is 0.9919722525244049\n",
      "At random_state {26} the testing accuracy test is 0.9890355784291788\n",
      "\n",
      "\n",
      "At random_state {27} the training accuracy test is 0.9923918212077983\n",
      "At random_state {27} the testing accuracy test is 0.9882524054598344\n",
      "\n",
      "\n",
      "At random_state {28} the training accuracy test is 0.9919163100332857\n",
      "At random_state {28} the testing accuracy test is 0.9902662788095771\n",
      "\n",
      "\n",
      "At random_state {29} the training accuracy test is 0.992419792453358\n",
      "At random_state {29} the testing accuracy test is 0.9864622958156187\n",
      "\n",
      "\n",
      "At random_state {30} the training accuracy test is 0.9920281950155241\n",
      "At random_state {30} the testing accuracy test is 0.9893712239874692\n",
      "\n",
      "\n",
      "At random_state {31} the training accuracy test is 0.9926155911722749\n",
      "At random_state {31} the testing accuracy test is 0.9891474602819422\n",
      "\n",
      "\n",
      "At random_state {32} the training accuracy test is 0.9927274761545132\n",
      "At random_state {32} the testing accuracy test is 0.9885880510181249\n",
      "\n",
      "\n",
      "At random_state {33} the training accuracy test is 0.9921680512433219\n",
      "At random_state {33} the testing accuracy test is 0.9893712239874692\n",
      "\n",
      "\n",
      "At random_state {34} the training accuracy test is 0.9923918212077983\n",
      "At random_state {34} the testing accuracy test is 0.9891474602819422\n",
      "\n",
      "\n",
      "At random_state {35} the training accuracy test is 0.9921960224888814\n",
      "At random_state {35} the testing accuracy test is 0.9869098232266726\n",
      "\n",
      "\n",
      "At random_state {36} the training accuracy test is 0.9919442812788454\n",
      "At random_state {36} the testing accuracy test is 0.9914969791899754\n",
      "\n",
      "\n",
      "At random_state {37} the training accuracy test is 0.992223993734441\n",
      "At random_state {37} the testing accuracy test is 0.9891474602819422\n",
      "\n",
      "\n",
      "At random_state {38} the training accuracy test is 0.9922519649800006\n",
      "At random_state {38} the testing accuracy test is 0.9879167599015439\n",
      "\n",
      "\n",
      "At random_state {39} the training accuracy test is 0.9918883387877262\n",
      "At random_state {39} the testing accuracy test is 0.9872454687849631\n",
      "\n",
      "\n",
      "At random_state {40} the training accuracy test is 0.9924477636989175\n",
      "At random_state {40} the testing accuracy test is 0.9881405236070709\n",
      "\n",
      "\n",
      "At random_state {41} the training accuracy test is 0.9920841375066431\n",
      "At random_state {41} the testing accuracy test is 0.9894831058402327\n",
      "\n",
      "\n",
      "At random_state {42} the training accuracy test is 0.9925876199267153\n",
      "At random_state {42} the testing accuracy test is 0.9869098232266726\n",
      "\n",
      "\n",
      "At random_state {43} the training accuracy test is 0.9923079074711197\n",
      "At random_state {43} the testing accuracy test is 0.9889236965764153\n",
      "\n",
      "\n",
      "At random_state {44} the training accuracy test is 0.9920561662610836\n",
      "At random_state {44} the testing accuracy test is 0.9886999328708883\n",
      "\n",
      "\n",
      "At random_state {45} the training accuracy test is 0.9928393611367514\n",
      "At random_state {45} the testing accuracy test is 0.9879167599015439\n",
      "\n",
      "\n",
      "At random_state {46} the training accuracy test is 0.9923918212077983\n",
      "At random_state {46} the testing accuracy test is 0.9878048780487805\n",
      "\n",
      "\n",
      "At random_state {47} the training accuracy test is 0.9921680512433219\n",
      "At random_state {47} the testing accuracy test is 0.9880286417543075\n",
      "\n",
      "\n",
      "At random_state {48} the training accuracy test is 0.9925596486811558\n",
      "At random_state {48} the testing accuracy test is 0.9869098232266726\n",
      "\n",
      "\n",
      "At random_state {49} the training accuracy test is 0.9923918212077983\n",
      "At random_state {49} the testing accuracy test is 0.9888118147236519\n",
      "\n",
      "\n",
      "At random_state {50} the training accuracy test is 0.9921121087522027\n",
      "At random_state {50} the testing accuracy test is 0.9894831058402327\n",
      "\n",
      "\n",
      "At random_state {51} the training accuracy test is 0.9918883387877262\n",
      "At random_state {51} the testing accuracy test is 0.9894831058402327\n",
      "\n",
      "\n",
      "At random_state {52} the training accuracy test is 0.9925037061900367\n",
      "At random_state {52} the testing accuracy test is 0.9891474602819422\n",
      "\n",
      "\n",
      "At random_state {53} the training accuracy test is 0.9918883387877262\n",
      "At random_state {53} the testing accuracy test is 0.9890355784291788\n",
      "\n",
      "\n",
      "At random_state {54} the training accuracy test is 0.9919442812788454\n",
      "At random_state {54} the testing accuracy test is 0.9880286417543075\n",
      "\n",
      "\n",
      "At random_state {55} the training accuracy test is 0.9921400799977623\n",
      "At random_state {55} the testing accuracy test is 0.9890355784291788\n",
      "\n",
      "\n",
      "At random_state {56} the training accuracy test is 0.9924477636989175\n",
      "At random_state {56} the testing accuracy test is 0.9886999328708883\n",
      "\n",
      "\n",
      "At random_state {57} the training accuracy test is 0.9924477636989175\n",
      "At random_state {57} the testing accuracy test is 0.9892593421347058\n",
      "\n",
      "\n",
      "At random_state {58} the training accuracy test is 0.9920281950155241\n",
      "At random_state {58} the testing accuracy test is 0.9904900425151041\n",
      "\n",
      "\n",
      "At random_state {59} the training accuracy test is 0.9925876199267153\n",
      "At random_state {59} the testing accuracy test is 0.9865741776683822\n",
      "\n",
      "\n",
      "At random_state {60} the training accuracy test is 0.9919442812788454\n",
      "At random_state {60} the testing accuracy test is 0.9885880510181249\n",
      "\n",
      "\n",
      "At random_state {61} the training accuracy test is 0.9918323962966071\n",
      "At random_state {61} the testing accuracy test is 0.987692996196017\n",
      "\n",
      "\n",
      "At random_state {62} the training accuracy test is 0.9921680512433219\n",
      "At random_state {62} the testing accuracy test is 0.9891474602819422\n",
      "\n",
      "\n",
      "At random_state {63} the training accuracy test is 0.9925316774355962\n",
      "At random_state {63} the testing accuracy test is 0.9875811143432536\n",
      "\n",
      "\n",
      "At random_state {64} the training accuracy test is 0.9920281950155241\n",
      "At random_state {64} the testing accuracy test is 0.9885880510181249\n",
      "\n",
      "\n",
      "At random_state {65} the training accuracy test is 0.9921960224888814\n",
      "At random_state {65} the testing accuracy test is 0.9869098232266726\n",
      "\n",
      "\n",
      "At random_state {66} the training accuracy test is 0.9920281950155241\n",
      "At random_state {66} the testing accuracy test is 0.9897068695457597\n",
      "\n",
      "\n",
      "At random_state {67} the training accuracy test is 0.9926435624178345\n",
      "At random_state {67} the testing accuracy test is 0.9873573506377266\n",
      "\n",
      "\n",
      "At random_state {68} the training accuracy test is 0.9927834186456322\n",
      "At random_state {68} the testing accuracy test is 0.9882524054598344\n",
      "\n",
      "\n",
      "At random_state {69} the training accuracy test is 0.9918044250510475\n",
      "At random_state {69} the testing accuracy test is 0.9888118147236519\n",
      "\n",
      "\n",
      "At random_state {70} the training accuracy test is 0.9923638499622388\n",
      "At random_state {70} the testing accuracy test is 0.9875811143432536\n",
      "\n",
      "\n",
      "At random_state {71} the training accuracy test is 0.9921680512433219\n",
      "At random_state {71} the testing accuracy test is 0.9894831058402327\n",
      "\n",
      "\n",
      "At random_state {72} the training accuracy test is 0.9916365975776902\n",
      "At random_state {72} the testing accuracy test is 0.9882524054598344\n",
      "\n",
      "\n",
      "At random_state {73} the training accuracy test is 0.9925876199267153\n",
      "At random_state {73} the testing accuracy test is 0.9865741776683822\n",
      "\n",
      "\n",
      "At random_state {74} the training accuracy test is 0.9923918212077983\n",
      "At random_state {74} the testing accuracy test is 0.9888118147236519\n",
      "\n",
      "\n",
      "At random_state {75} the training accuracy test is 0.9921121087522027\n",
      "At random_state {75} the testing accuracy test is 0.9871335869321995\n",
      "\n",
      "\n",
      "At random_state {76} the training accuracy test is 0.9919442812788454\n",
      "At random_state {76} the testing accuracy test is 0.9897068695457597\n",
      "\n",
      "\n",
      "At random_state {77} the training accuracy test is 0.9920841375066431\n",
      "At random_state {77} the testing accuracy test is 0.9895949876929961\n",
      "\n",
      "\n",
      "At random_state {78} the training accuracy test is 0.9920281950155241\n",
      "At random_state {78} the testing accuracy test is 0.9889236965764153\n",
      "\n",
      "\n",
      "At random_state {79} the training accuracy test is 0.9920281950155241\n",
      "At random_state {79} the testing accuracy test is 0.9892593421347058\n",
      "\n",
      "\n",
      "At random_state {80} the training accuracy test is 0.9921680512433219\n",
      "At random_state {80} the testing accuracy test is 0.9885880510181249\n",
      "\n",
      "\n",
      "At random_state {81} the training accuracy test is 0.9920281950155241\n",
      "At random_state {81} the testing accuracy test is 0.9892593421347058\n",
      "\n",
      "\n",
      "At random_state {82} the training accuracy test is 0.9923079074711197\n",
      "At random_state {82} the testing accuracy test is 0.9884761691653614\n",
      "\n",
      "\n",
      "At random_state {83} the training accuracy test is 0.9923638499622388\n",
      "At random_state {83} the testing accuracy test is 0.990713806220631\n",
      "\n",
      "\n",
      "At random_state {84} the training accuracy test is 0.9923358787166793\n",
      "At random_state {84} the testing accuracy test is 0.9865741776683822\n",
      "\n",
      "\n",
      "At random_state {85} the training accuracy test is 0.9924477636989175\n",
      "At random_state {85} the testing accuracy test is 0.9883642873125978\n",
      "\n",
      "\n",
      "At random_state {86} the training accuracy test is 0.9921960224888814\n",
      "At random_state {86} the testing accuracy test is 0.98746923249049\n",
      "\n",
      "\n",
      "At random_state {87} the training accuracy test is 0.9924477636989175\n",
      "At random_state {87} the testing accuracy test is 0.9903781606623405\n",
      "\n",
      "\n",
      "At random_state {88} the training accuracy test is 0.9919442812788454\n",
      "At random_state {88} the testing accuracy test is 0.9882524054598344\n",
      "\n",
      "\n",
      "At random_state {89} the training accuracy test is 0.9922799362255601\n",
      "At random_state {89} the testing accuracy test is 0.9885880510181249\n",
      "\n",
      "\n",
      "At random_state {90} the training accuracy test is 0.9921400799977623\n",
      "At random_state {90} the testing accuracy test is 0.9873573506377266\n",
      "\n",
      "\n",
      "At random_state {91} the training accuracy test is 0.9923358787166793\n",
      "At random_state {91} the testing accuracy test is 0.9881405236070709\n",
      "\n",
      "\n",
      "At random_state {92} the training accuracy test is 0.9920002237699644\n",
      "At random_state {92} the testing accuracy test is 0.9886999328708883\n",
      "\n",
      "\n",
      "At random_state {93} the training accuracy test is 0.9921960224888814\n",
      "At random_state {93} the testing accuracy test is 0.9893712239874692\n",
      "\n",
      "\n",
      "At random_state {94} the training accuracy test is 0.9921960224888814\n",
      "At random_state {94} the testing accuracy test is 0.9904900425151041\n",
      "\n",
      "\n",
      "At random_state {95} the training accuracy test is 0.992475734944477\n",
      "At random_state {95} the testing accuracy test is 0.9892593421347058\n",
      "\n",
      "\n",
      "At random_state {96} the training accuracy test is 0.992419792453358\n",
      "At random_state {96} the testing accuracy test is 0.9878048780487805\n",
      "\n",
      "\n",
      "At random_state {97} the training accuracy test is 0.9921121087522027\n",
      "At random_state {97} the testing accuracy test is 0.9890355784291788\n",
      "\n",
      "\n",
      "At random_state {98} the training accuracy test is 0.9918883387877262\n",
      "At random_state {98} the testing accuracy test is 0.9898187513985232\n",
      "\n",
      "\n",
      "At random_state {99} the training accuracy test is 0.9918603675421667\n",
      "At random_state {99} the testing accuracy test is 0.9894831058402327\n",
      "\n",
      "\n"
     ]
    }
   ],
   "source": [
    "for i in range(0,100):\n",
    "    x_train,x_test,y_train,y_test=train_test_split(X,Y,test_size=0.20,random_state=i)\n",
    "    lr.fit(x_train,y_train)\n",
    "    predr=lr.predict(x_train)\n",
    "    pred=lr.predict(x_test)\n",
    "    print('At random_state' ,{i}, 'the training accuracy test is', accuracy_score(y_train,predr))\n",
    "    print('At random_state' ,{i}, 'the testing accuracy test is', accuracy_score(y_test,pred))\n",
    "    print('\\n')"
   ]
  },
  {
   "cell_type": "markdown",
   "id": "965566c4",
   "metadata": {},
   "source": [
    "## AT RANDOM STATE 36 WE HAVE THE HIGHEST ACCURACY OF 99.14%"
   ]
  },
  {
   "cell_type": "code",
   "execution_count": 158,
   "id": "3f19f655",
   "metadata": {},
   "outputs": [],
   "source": [
    "x_train,x_test,y_train,y_test=train_test_split(X,Y,test_size=0.20,random_state=36)"
   ]
  },
  {
   "cell_type": "code",
   "execution_count": 159,
   "id": "c6af4d82",
   "metadata": {},
   "outputs": [
    {
     "data": {
      "text/html": [
       "<style>#sk-container-id-1 {color: black;background-color: white;}#sk-container-id-1 pre{padding: 0;}#sk-container-id-1 div.sk-toggleable {background-color: white;}#sk-container-id-1 label.sk-toggleable__label {cursor: pointer;display: block;width: 100%;margin-bottom: 0;padding: 0.3em;box-sizing: border-box;text-align: center;}#sk-container-id-1 label.sk-toggleable__label-arrow:before {content: \"▸\";float: left;margin-right: 0.25em;color: #696969;}#sk-container-id-1 label.sk-toggleable__label-arrow:hover:before {color: black;}#sk-container-id-1 div.sk-estimator:hover label.sk-toggleable__label-arrow:before {color: black;}#sk-container-id-1 div.sk-toggleable__content {max-height: 0;max-width: 0;overflow: hidden;text-align: left;background-color: #f0f8ff;}#sk-container-id-1 div.sk-toggleable__content pre {margin: 0.2em;color: black;border-radius: 0.25em;background-color: #f0f8ff;}#sk-container-id-1 input.sk-toggleable__control:checked~div.sk-toggleable__content {max-height: 200px;max-width: 100%;overflow: auto;}#sk-container-id-1 input.sk-toggleable__control:checked~label.sk-toggleable__label-arrow:before {content: \"▾\";}#sk-container-id-1 div.sk-estimator input.sk-toggleable__control:checked~label.sk-toggleable__label {background-color: #d4ebff;}#sk-container-id-1 div.sk-label input.sk-toggleable__control:checked~label.sk-toggleable__label {background-color: #d4ebff;}#sk-container-id-1 input.sk-hidden--visually {border: 0;clip: rect(1px 1px 1px 1px);clip: rect(1px, 1px, 1px, 1px);height: 1px;margin: -1px;overflow: hidden;padding: 0;position: absolute;width: 1px;}#sk-container-id-1 div.sk-estimator {font-family: monospace;background-color: #f0f8ff;border: 1px dotted black;border-radius: 0.25em;box-sizing: border-box;margin-bottom: 0.5em;}#sk-container-id-1 div.sk-estimator:hover {background-color: #d4ebff;}#sk-container-id-1 div.sk-parallel-item::after {content: \"\";width: 100%;border-bottom: 1px solid gray;flex-grow: 1;}#sk-container-id-1 div.sk-label:hover label.sk-toggleable__label {background-color: #d4ebff;}#sk-container-id-1 div.sk-serial::before {content: \"\";position: absolute;border-left: 1px solid gray;box-sizing: border-box;top: 0;bottom: 0;left: 50%;z-index: 0;}#sk-container-id-1 div.sk-serial {display: flex;flex-direction: column;align-items: center;background-color: white;padding-right: 0.2em;padding-left: 0.2em;position: relative;}#sk-container-id-1 div.sk-item {position: relative;z-index: 1;}#sk-container-id-1 div.sk-parallel {display: flex;align-items: stretch;justify-content: center;background-color: white;position: relative;}#sk-container-id-1 div.sk-item::before, #sk-container-id-1 div.sk-parallel-item::before {content: \"\";position: absolute;border-left: 1px solid gray;box-sizing: border-box;top: 0;bottom: 0;left: 50%;z-index: -1;}#sk-container-id-1 div.sk-parallel-item {display: flex;flex-direction: column;z-index: 1;position: relative;background-color: white;}#sk-container-id-1 div.sk-parallel-item:first-child::after {align-self: flex-end;width: 50%;}#sk-container-id-1 div.sk-parallel-item:last-child::after {align-self: flex-start;width: 50%;}#sk-container-id-1 div.sk-parallel-item:only-child::after {width: 0;}#sk-container-id-1 div.sk-dashed-wrapped {border: 1px dashed gray;margin: 0 0.4em 0.5em 0.4em;box-sizing: border-box;padding-bottom: 0.4em;background-color: white;}#sk-container-id-1 div.sk-label label {font-family: monospace;font-weight: bold;display: inline-block;line-height: 1.2em;}#sk-container-id-1 div.sk-label-container {text-align: center;}#sk-container-id-1 div.sk-container {/* jupyter's `normalize.less` sets `[hidden] { display: none; }` but bootstrap.min.css set `[hidden] { display: none !important; }` so we also need the `!important` here to be able to override the default hidden behavior on the sphinx rendered scikit-learn.org. See: https://github.com/scikit-learn/scikit-learn/issues/21755 */display: inline-block !important;position: relative;}#sk-container-id-1 div.sk-text-repr-fallback {display: none;}</style><div id=\"sk-container-id-1\" class=\"sk-top-container\"><div class=\"sk-text-repr-fallback\"><pre>LogisticRegression()</pre><b>In a Jupyter environment, please rerun this cell to show the HTML representation or trust the notebook. <br />On GitHub, the HTML representation is unable to render, please try loading this page with nbviewer.org.</b></div><div class=\"sk-container\" hidden><div class=\"sk-item\"><div class=\"sk-estimator sk-toggleable\"><input class=\"sk-toggleable__control sk-hidden--visually\" id=\"sk-estimator-id-1\" type=\"checkbox\" checked><label for=\"sk-estimator-id-1\" class=\"sk-toggleable__label sk-toggleable__label-arrow\">LogisticRegression</label><div class=\"sk-toggleable__content\"><pre>LogisticRegression()</pre></div></div></div></div></div>"
      ],
      "text/plain": [
       "LogisticRegression()"
      ]
     },
     "execution_count": 159,
     "metadata": {},
     "output_type": "execute_result"
    }
   ],
   "source": [
    "lr.fit(x_train,y_train)"
   ]
  },
  {
   "cell_type": "code",
   "execution_count": 160,
   "id": "04a1deb4",
   "metadata": {},
   "outputs": [],
   "source": [
    "PRELR=lr.predict(x_test)"
   ]
  },
  {
   "cell_type": "markdown",
   "id": "dd179480",
   "metadata": {},
   "source": [
    "## MODEL ACCURACY "
   ]
  },
  {
   "cell_type": "code",
   "execution_count": 161,
   "id": "54c3f98e",
   "metadata": {},
   "outputs": [
    {
     "name": "stdout",
     "output_type": "stream",
     "text": [
      "0.9914969791899754\n"
     ]
    }
   ],
   "source": [
    "print(accuracy_score(y_test,PRELR))"
   ]
  },
  {
   "cell_type": "markdown",
   "id": "4f5c35c8",
   "metadata": {},
   "source": [
    "## CONFUSION MATRIX"
   ]
  },
  {
   "cell_type": "code",
   "execution_count": 162,
   "id": "df0a53f4",
   "metadata": {},
   "outputs": [
    {
     "name": "stdout",
     "output_type": "stream",
     "text": [
      "[[4712   48]\n",
      " [  28 4150]]\n"
     ]
    }
   ],
   "source": [
    "print(confusion_matrix(y_test,PRELR))"
   ]
  },
  {
   "cell_type": "markdown",
   "id": "4a5ab0a4",
   "metadata": {},
   "source": [
    "## CLASSIFICATION REPORT "
   ]
  },
  {
   "cell_type": "code",
   "execution_count": 163,
   "id": "6b835ef3",
   "metadata": {},
   "outputs": [
    {
     "name": "stdout",
     "output_type": "stream",
     "text": [
      "              precision    recall  f1-score   support\n",
      "\n",
      "           0       0.99      0.99      0.99      4760\n",
      "           1       0.99      0.99      0.99      4178\n",
      "\n",
      "    accuracy                           0.99      8938\n",
      "   macro avg       0.99      0.99      0.99      8938\n",
      "weighted avg       0.99      0.99      0.99      8938\n",
      "\n"
     ]
    }
   ],
   "source": [
    "print(classification_report(y_test,PRELR))"
   ]
  },
  {
   "cell_type": "markdown",
   "id": "2b1fd756",
   "metadata": {},
   "source": [
    "## AUC ROC CURVE "
   ]
  },
  {
   "cell_type": "code",
   "execution_count": 164,
   "id": "28704070",
   "metadata": {},
   "outputs": [],
   "source": [
    "from sklearn.metrics import roc_curve\n",
    "from sklearn.metrics import roc_auc_score"
   ]
  },
  {
   "cell_type": "code",
   "execution_count": 165,
   "id": "e87a09a9",
   "metadata": {},
   "outputs": [],
   "source": [
    "y_pred_prob1=lr.predict_proba(x_test)[:,1]"
   ]
  },
  {
   "cell_type": "code",
   "execution_count": 166,
   "id": "b6bc3dbd",
   "metadata": {},
   "outputs": [
    {
     "data": {
      "text/plain": [
       "array([0.01093977, 0.03345766, 0.76835473, ..., 0.01446812, 0.04743983,\n",
       "       0.99832215])"
      ]
     },
     "execution_count": 166,
     "metadata": {},
     "output_type": "execute_result"
    }
   ],
   "source": [
    "y_pred_prob1"
   ]
  },
  {
   "cell_type": "code",
   "execution_count": 167,
   "id": "34aa6d3c",
   "metadata": {},
   "outputs": [],
   "source": [
    "tpr,fpr,thresholds=roc_curve(y_test,y_pred_prob1)"
   ]
  },
  {
   "cell_type": "code",
   "execution_count": 168,
   "id": "cdf3f1a1",
   "metadata": {},
   "outputs": [
    {
     "data": {
      "text/plain": [
       "array([0.00000000e+00, 0.00000000e+00, 0.00000000e+00, 0.00000000e+00,\n",
       "       0.00000000e+00, 0.00000000e+00, 0.00000000e+00, 0.00000000e+00,\n",
       "       0.00000000e+00, 0.00000000e+00, 0.00000000e+00, 0.00000000e+00,\n",
       "       0.00000000e+00, 2.10084034e-04, 2.10084034e-04, 2.10084034e-04,\n",
       "       2.10084034e-04, 2.10084034e-04, 2.10084034e-04, 4.20168067e-04,\n",
       "       4.20168067e-04, 6.30252101e-04, 6.30252101e-04, 8.40336134e-04,\n",
       "       8.40336134e-04, 1.05042017e-03, 1.05042017e-03, 1.26050420e-03,\n",
       "       1.26050420e-03, 1.47058824e-03, 1.47058824e-03, 1.68067227e-03,\n",
       "       1.68067227e-03, 1.89075630e-03, 1.89075630e-03, 2.10084034e-03,\n",
       "       2.10084034e-03, 2.31092437e-03, 2.31092437e-03, 2.52100840e-03,\n",
       "       2.52100840e-03, 2.94117647e-03, 3.15126050e-03, 3.15126050e-03,\n",
       "       3.57142857e-03, 3.57142857e-03, 3.78151261e-03, 3.78151261e-03,\n",
       "       4.20168067e-03, 4.20168067e-03, 4.41176471e-03, 4.41176471e-03,\n",
       "       5.25210084e-03, 5.25210084e-03, 5.46218487e-03, 5.46218487e-03,\n",
       "       5.67226891e-03, 5.67226891e-03, 6.09243697e-03, 6.09243697e-03,\n",
       "       6.30252101e-03, 6.30252101e-03, 6.72268908e-03, 7.14285714e-03,\n",
       "       7.14285714e-03, 7.35294118e-03, 7.35294118e-03, 7.56302521e-03,\n",
       "       7.56302521e-03, 7.77310924e-03, 7.77310924e-03, 8.19327731e-03,\n",
       "       8.19327731e-03, 8.82352941e-03, 8.82352941e-03, 9.24369748e-03,\n",
       "       9.24369748e-03, 9.45378151e-03, 9.45378151e-03, 9.66386555e-03,\n",
       "       9.66386555e-03, 9.87394958e-03, 9.87394958e-03, 1.00840336e-02,\n",
       "       1.00840336e-02, 1.05042017e-02, 1.05042017e-02, 1.07142857e-02,\n",
       "       1.07142857e-02, 1.13445378e-02, 1.13445378e-02, 1.26050420e-02,\n",
       "       1.26050420e-02, 1.28151261e-02, 1.32352941e-02, 1.53361345e-02,\n",
       "       1.53361345e-02, 1.55462185e-02, 1.55462185e-02, 1.68067227e-02,\n",
       "       1.68067227e-02, 1.70168067e-02, 1.70168067e-02, 1.86974790e-02,\n",
       "       1.86974790e-02, 1.91176471e-02, 1.91176471e-02, 1.95378151e-02,\n",
       "       1.99579832e-02, 1.99579832e-02, 2.01680672e-02, 2.01680672e-02,\n",
       "       2.03781513e-02, 2.03781513e-02, 2.20588235e-02, 2.24789916e-02,\n",
       "       2.60504202e-02, 2.64705882e-02, 2.66806723e-02, 2.71008403e-02,\n",
       "       2.77310924e-02, 2.81512605e-02, 3.10924370e-02, 3.15126050e-02,\n",
       "       3.15126050e-02, 3.29831933e-02, 3.34033613e-02, 3.34033613e-02,\n",
       "       3.44537815e-02, 3.44537815e-02, 3.71848739e-02, 3.76050420e-02,\n",
       "       4.11764706e-02, 4.15966387e-02, 4.43277311e-02, 4.47478992e-02,\n",
       "       4.60084034e-02, 4.60084034e-02, 5.10504202e-02, 5.14705882e-02,\n",
       "       5.35714286e-02, 5.35714286e-02, 5.39915966e-02, 5.44117647e-02,\n",
       "       5.58823529e-02, 5.63025210e-02, 5.69327731e-02, 5.73529412e-02,\n",
       "       5.84033613e-02, 5.88235294e-02, 5.90336134e-02, 5.94537815e-02,\n",
       "       6.17647059e-02, 6.21848739e-02, 6.74369748e-02, 6.78571429e-02,\n",
       "       6.99579832e-02, 7.03781513e-02, 7.10084034e-02, 7.18487395e-02,\n",
       "       7.66806723e-02, 7.71008403e-02, 7.73109244e-02, 7.77310924e-02,\n",
       "       8.52941176e-02, 8.52941176e-02, 8.57142857e-02, 8.71848739e-02,\n",
       "       8.76050420e-02, 8.88655462e-02, 8.92857143e-02, 9.45378151e-02,\n",
       "       9.49579832e-02, 9.81092437e-02, 9.87394958e-02, 1.02100840e-01,\n",
       "       1.02521008e-01, 1.02941176e-01, 1.03361345e-01, 1.04201681e-01,\n",
       "       1.04201681e-01, 1.06302521e-01, 1.06722689e-01, 1.11134454e-01,\n",
       "       1.11554622e-01, 1.11554622e-01, 1.19537815e-01, 1.19957983e-01,\n",
       "       1.20798319e-01, 1.21218487e-01, 1.22268908e-01, 1.23109244e-01,\n",
       "       1.26470588e-01, 1.26890756e-01, 1.28151261e-01, 1.28571429e-01,\n",
       "       1.29411765e-01, 1.55672269e-01, 1.57983193e-01, 1.58403361e-01,\n",
       "       1.59033613e-01, 1.59453782e-01, 1.61974790e-01, 1.62394958e-01,\n",
       "       1.67226891e-01, 1.67647059e-01, 1.71008403e-01, 1.71428571e-01,\n",
       "       1.72478992e-01, 1.72899160e-01, 1.77521008e-01, 1.77941176e-01,\n",
       "       1.80042017e-01, 1.80462185e-01, 1.85714286e-01, 1.86134454e-01,\n",
       "       1.91596639e-01, 1.92016807e-01, 2.03151261e-01, 2.03571429e-01,\n",
       "       2.05462185e-01, 2.05882353e-01, 2.12815126e-01, 2.13235294e-01,\n",
       "       2.15126050e-01, 2.15756303e-01, 2.22478992e-01, 2.22899160e-01,\n",
       "       2.25420168e-01, 2.25840336e-01, 2.27521008e-01, 2.28151261e-01,\n",
       "       2.30882353e-01, 2.31302521e-01, 2.32563025e-01, 2.32983193e-01,\n",
       "       2.36764706e-01, 2.37184874e-01, 2.37394958e-01, 2.37815126e-01,\n",
       "       2.40966387e-01, 2.41386555e-01, 2.41596639e-01, 2.42016807e-01,\n",
       "       2.46428571e-01, 2.46848739e-01, 2.47478992e-01, 2.47899160e-01,\n",
       "       2.48529412e-01, 2.48949580e-01, 2.49159664e-01, 2.50000000e-01,\n",
       "       2.54831933e-01, 2.55672269e-01, 2.56302521e-01, 2.56722689e-01,\n",
       "       2.58193277e-01, 2.58613445e-01, 2.59453782e-01, 2.59873950e-01,\n",
       "       2.61764706e-01, 2.62394958e-01, 2.63235294e-01, 2.63655462e-01,\n",
       "       2.70378151e-01, 2.70798319e-01, 2.71218487e-01, 2.71638655e-01,\n",
       "       2.72689076e-01, 2.73109244e-01, 2.76050420e-01, 2.76470588e-01,\n",
       "       2.77100840e-01, 2.77521008e-01, 2.80252101e-01, 2.80672269e-01,\n",
       "       2.86554622e-01, 2.86974790e-01, 2.87605042e-01, 2.88025210e-01,\n",
       "       2.94747899e-01, 2.95168067e-01, 2.97478992e-01, 2.97899160e-01,\n",
       "       3.04201681e-01, 3.04621849e-01, 3.05252101e-01, 3.08403361e-01,\n",
       "       3.08823529e-01, 3.09033613e-01, 3.09453782e-01, 3.11554622e-01,\n",
       "       3.11974790e-01, 3.17647059e-01, 3.18067227e-01, 3.18697479e-01,\n",
       "       3.19117647e-01, 3.31932773e-01, 3.32352941e-01, 3.39705882e-01,\n",
       "       3.40126050e-01, 3.47478992e-01, 3.47899160e-01, 3.51890756e-01,\n",
       "       3.52310924e-01, 3.52941176e-01, 3.53361345e-01, 3.55252101e-01,\n",
       "       3.55672269e-01, 3.58823529e-01, 3.59453782e-01, 3.64285714e-01,\n",
       "       3.64705882e-01, 3.65126050e-01, 3.65546218e-01, 3.66176471e-01,\n",
       "       3.66596639e-01, 3.66806723e-01, 3.67226891e-01, 3.70798319e-01,\n",
       "       3.71218487e-01, 3.81302521e-01, 3.81722689e-01, 3.85084034e-01,\n",
       "       3.85504202e-01, 3.91806723e-01, 3.92647059e-01, 3.94747899e-01,\n",
       "       3.95168067e-01, 3.96008403e-01, 3.96428571e-01, 3.97689076e-01,\n",
       "       3.98109244e-01, 4.05882353e-01, 4.06302521e-01, 4.07563025e-01,\n",
       "       4.07983193e-01, 4.08193277e-01, 4.08613445e-01, 4.12394958e-01,\n",
       "       4.13235294e-01, 4.15546218e-01, 4.15966387e-01, 4.21008403e-01,\n",
       "       4.21428571e-01, 4.23739496e-01, 4.24369748e-01, 4.29831933e-01,\n",
       "       4.30252101e-01, 4.30462185e-01, 4.30882353e-01, 4.34453782e-01,\n",
       "       4.34873950e-01, 4.39915966e-01, 4.40336134e-01, 4.41596639e-01,\n",
       "       4.42016807e-01, 4.43487395e-01, 4.44327731e-01, 4.45798319e-01,\n",
       "       4.46428571e-01, 4.50210084e-01, 4.50630252e-01, 4.52521008e-01,\n",
       "       4.52941176e-01, 4.74579832e-01, 4.75000000e-01, 4.75210084e-01,\n",
       "       4.75630252e-01, 4.83613445e-01, 4.84033613e-01, 4.84873950e-01,\n",
       "       4.85504202e-01, 4.85924370e-01, 4.86554622e-01, 4.86974790e-01,\n",
       "       4.93697479e-01, 4.94537815e-01, 4.94747899e-01, 4.95168067e-01,\n",
       "       5.00630252e-01, 5.01050420e-01, 5.03991597e-01, 5.04621849e-01,\n",
       "       5.09873950e-01, 5.10294118e-01, 5.10504202e-01, 5.10924370e-01,\n",
       "       5.12184874e-01, 5.12605042e-01, 5.13865546e-01, 5.14285714e-01,\n",
       "       5.17016807e-01, 5.17436975e-01, 5.18907563e-01, 5.19327731e-01,\n",
       "       5.21428571e-01, 5.21848739e-01, 5.23949580e-01, 5.24369748e-01,\n",
       "       5.24789916e-01, 5.25210084e-01, 5.34453782e-01, 5.34873950e-01,\n",
       "       5.36764706e-01, 5.37184874e-01, 5.37394958e-01, 5.37815126e-01,\n",
       "       5.38445378e-01, 5.39285714e-01, 5.40756303e-01, 5.41176471e-01,\n",
       "       5.43907563e-01, 5.44327731e-01, 5.51050420e-01, 5.51470588e-01,\n",
       "       5.56722689e-01, 5.57142857e-01, 5.59243697e-01, 5.59663866e-01,\n",
       "       5.62394958e-01, 5.62815126e-01, 5.63025210e-01, 5.63445378e-01,\n",
       "       5.68067227e-01, 5.68487395e-01, 5.69327731e-01, 5.69747899e-01,\n",
       "       5.70588235e-01, 5.71008403e-01, 5.76260504e-01, 5.76680672e-01,\n",
       "       5.81302521e-01, 5.81722689e-01, 5.82983193e-01, 5.83403361e-01,\n",
       "       5.89705882e-01, 5.90126050e-01, 5.92857143e-01, 5.93277311e-01,\n",
       "       5.93697479e-01, 5.94327731e-01, 5.96638655e-01, 5.97058824e-01,\n",
       "       5.97899160e-01, 5.98319328e-01, 5.99789916e-01, 6.00210084e-01,\n",
       "       6.08403361e-01, 6.08823529e-01, 6.10714286e-01, 6.11134454e-01,\n",
       "       6.11554622e-01, 6.11974790e-01, 6.25210084e-01, 6.25630252e-01,\n",
       "       6.33613445e-01, 6.34033613e-01, 6.43907563e-01, 6.44327731e-01,\n",
       "       6.44537815e-01, 6.44957983e-01, 6.46638655e-01, 6.47058824e-01,\n",
       "       6.51680672e-01, 6.52100840e-01, 6.56932773e-01, 6.57352941e-01,\n",
       "       6.57983193e-01, 6.58403361e-01, 6.66386555e-01, 6.66806723e-01,\n",
       "       6.77100840e-01, 6.77521008e-01, 6.78361345e-01, 6.78781513e-01,\n",
       "       6.83193277e-01, 6.83613445e-01, 6.89705882e-01, 6.90126050e-01,\n",
       "       7.05252101e-01, 7.05672269e-01, 7.07352941e-01, 7.07773109e-01,\n",
       "       7.08403361e-01, 7.08823529e-01, 7.10504202e-01, 7.10924370e-01,\n",
       "       7.23109244e-01, 7.23529412e-01, 7.32352941e-01, 7.33613445e-01,\n",
       "       7.35714286e-01, 7.36134454e-01, 7.47689076e-01, 7.48109244e-01,\n",
       "       7.59453782e-01, 7.59873950e-01, 7.66176471e-01, 7.66596639e-01,\n",
       "       7.76680672e-01, 7.77100840e-01, 8.02310924e-01, 8.02731092e-01,\n",
       "       8.23109244e-01, 8.23529412e-01, 8.31302521e-01, 8.31722689e-01,\n",
       "       8.38025210e-01, 8.38025210e-01, 8.40126050e-01, 8.42647059e-01,\n",
       "       8.46428571e-01, 8.46848739e-01, 8.51470588e-01, 8.51890756e-01,\n",
       "       8.58823529e-01, 8.59243697e-01, 8.63655462e-01, 8.64075630e-01,\n",
       "       8.64915966e-01, 8.65336134e-01, 8.71008403e-01, 8.71428571e-01,\n",
       "       8.86134454e-01, 8.86554622e-01, 8.92436975e-01, 8.92857143e-01,\n",
       "       8.94957983e-01, 8.95378151e-01, 8.96218487e-01, 8.96638655e-01,\n",
       "       8.96848739e-01, 8.97268908e-01, 9.06512605e-01, 9.06932773e-01,\n",
       "       9.22899160e-01, 9.23319328e-01, 9.42647059e-01, 9.43067227e-01,\n",
       "       9.70798319e-01, 9.71218487e-01, 9.92436975e-01, 9.92857143e-01,\n",
       "       9.99579832e-01, 1.00000000e+00])"
      ]
     },
     "execution_count": 168,
     "metadata": {},
     "output_type": "execute_result"
    }
   ],
   "source": [
    "tpr"
   ]
  },
  {
   "cell_type": "code",
   "execution_count": 169,
   "id": "a1e5f112",
   "metadata": {},
   "outputs": [
    {
     "data": {
      "text/plain": [
       "array([0.00000000e+00, 2.39348971e-04, 2.01053135e-02, 2.05840115e-02,\n",
       "       1.90282432e-01, 1.90761130e-01, 2.63044519e-01, 2.63523217e-01,\n",
       "       4.02106271e-01, 4.02584969e-01, 4.53087602e-01, 4.53566300e-01,\n",
       "       4.71278124e-01, 4.71278124e-01, 4.95452370e-01, 4.95931067e-01,\n",
       "       5.37817137e-01, 5.38295835e-01, 6.13451412e-01, 6.13451412e-01,\n",
       "       6.28769746e-01, 6.28769746e-01, 7.08951652e-01, 7.08951652e-01,\n",
       "       8.10196266e-01, 8.10196266e-01, 8.96122547e-01, 8.96122547e-01,\n",
       "       8.97079943e-01, 8.97079943e-01, 9.28434658e-01, 9.28434658e-01,\n",
       "       9.50933461e-01, 9.50933461e-01, 9.61704165e-01, 9.61704165e-01,\n",
       "       9.65294399e-01, 9.65294399e-01, 9.81809478e-01, 9.81809478e-01,\n",
       "       9.83724270e-01, 9.83724270e-01, 9.83724270e-01, 9.83963619e-01,\n",
       "       9.83963619e-01, 9.84202968e-01, 9.84202968e-01, 9.84681666e-01,\n",
       "       9.84681666e-01, 9.85399713e-01, 9.85399713e-01, 9.86596458e-01,\n",
       "       9.86596458e-01, 9.86835807e-01, 9.86835807e-01, 9.87075156e-01,\n",
       "       9.87075156e-01, 9.87314505e-01, 9.87314505e-01, 9.88511249e-01,\n",
       "       9.88511249e-01, 9.89229296e-01, 9.89229296e-01, 9.89229296e-01,\n",
       "       9.90665390e-01, 9.90665390e-01, 9.90904739e-01, 9.90904739e-01,\n",
       "       9.91144088e-01, 9.91144088e-01, 9.91622786e-01, 9.91622786e-01,\n",
       "       9.91862135e-01, 9.91862135e-01, 9.92340833e-01, 9.92340833e-01,\n",
       "       9.92580182e-01, 9.92580182e-01, 9.92819531e-01, 9.92819531e-01,\n",
       "       9.93058880e-01, 9.93058880e-01, 9.93298229e-01, 9.93298229e-01,\n",
       "       9.93537578e-01, 9.93537578e-01, 9.94016276e-01, 9.94016276e-01,\n",
       "       9.94255625e-01, 9.94255625e-01, 9.94494974e-01, 9.94494974e-01,\n",
       "       9.94973672e-01, 9.94973672e-01, 9.94973672e-01, 9.94973672e-01,\n",
       "       9.95213021e-01, 9.95213021e-01, 9.95691719e-01, 9.95691719e-01,\n",
       "       9.95931067e-01, 9.95931067e-01, 9.96409765e-01, 9.96409765e-01,\n",
       "       9.96649114e-01, 9.96649114e-01, 9.96888463e-01, 9.96888463e-01,\n",
       "       9.96888463e-01, 9.97367161e-01, 9.97367161e-01, 9.97606510e-01,\n",
       "       9.97606510e-01, 9.97845859e-01, 9.97845859e-01, 9.97845859e-01,\n",
       "       9.97845859e-01, 9.97845859e-01, 9.97845859e-01, 9.97845859e-01,\n",
       "       9.97845859e-01, 9.97845859e-01, 9.97845859e-01, 9.97845859e-01,\n",
       "       9.98085208e-01, 9.98085208e-01, 9.98085208e-01, 9.98324557e-01,\n",
       "       9.98324557e-01, 9.98563906e-01, 9.98563906e-01, 9.98563906e-01,\n",
       "       9.98563906e-01, 9.98563906e-01, 9.98563906e-01, 9.98563906e-01,\n",
       "       9.98563906e-01, 9.98803255e-01, 9.98803255e-01, 9.98803255e-01,\n",
       "       9.98803255e-01, 9.99042604e-01, 9.99042604e-01, 9.99042604e-01,\n",
       "       9.99042604e-01, 9.99042604e-01, 9.99042604e-01, 9.99042604e-01,\n",
       "       9.99042604e-01, 9.99042604e-01, 9.99042604e-01, 9.99042604e-01,\n",
       "       9.99042604e-01, 9.99042604e-01, 9.99042604e-01, 9.99042604e-01,\n",
       "       9.99042604e-01, 9.99042604e-01, 9.99042604e-01, 9.99042604e-01,\n",
       "       9.99042604e-01, 9.99042604e-01, 9.99042604e-01, 9.99042604e-01,\n",
       "       9.99042604e-01, 9.99281953e-01, 9.99281953e-01, 9.99281953e-01,\n",
       "       9.99281953e-01, 9.99281953e-01, 9.99281953e-01, 9.99281953e-01,\n",
       "       9.99281953e-01, 9.99281953e-01, 9.99281953e-01, 9.99281953e-01,\n",
       "       9.99281953e-01, 9.99281953e-01, 9.99281953e-01, 9.99281953e-01,\n",
       "       9.99521302e-01, 9.99521302e-01, 9.99521302e-01, 9.99521302e-01,\n",
       "       9.99521302e-01, 9.99760651e-01, 9.99760651e-01, 9.99760651e-01,\n",
       "       9.99760651e-01, 9.99760651e-01, 9.99760651e-01, 9.99760651e-01,\n",
       "       9.99760651e-01, 9.99760651e-01, 9.99760651e-01, 9.99760651e-01,\n",
       "       9.99760651e-01, 9.99760651e-01, 9.99760651e-01, 9.99760651e-01,\n",
       "       9.99760651e-01, 9.99760651e-01, 9.99760651e-01, 9.99760651e-01,\n",
       "       9.99760651e-01, 9.99760651e-01, 9.99760651e-01, 9.99760651e-01,\n",
       "       9.99760651e-01, 9.99760651e-01, 9.99760651e-01, 9.99760651e-01,\n",
       "       9.99760651e-01, 9.99760651e-01, 9.99760651e-01, 9.99760651e-01,\n",
       "       9.99760651e-01, 9.99760651e-01, 9.99760651e-01, 9.99760651e-01,\n",
       "       9.99760651e-01, 9.99760651e-01, 9.99760651e-01, 9.99760651e-01,\n",
       "       9.99760651e-01, 9.99760651e-01, 9.99760651e-01, 9.99760651e-01,\n",
       "       9.99760651e-01, 9.99760651e-01, 9.99760651e-01, 9.99760651e-01,\n",
       "       9.99760651e-01, 9.99760651e-01, 9.99760651e-01, 9.99760651e-01,\n",
       "       9.99760651e-01, 9.99760651e-01, 9.99760651e-01, 9.99760651e-01,\n",
       "       9.99760651e-01, 9.99760651e-01, 9.99760651e-01, 9.99760651e-01,\n",
       "       9.99760651e-01, 9.99760651e-01, 9.99760651e-01, 9.99760651e-01,\n",
       "       9.99760651e-01, 9.99760651e-01, 9.99760651e-01, 9.99760651e-01,\n",
       "       9.99760651e-01, 9.99760651e-01, 9.99760651e-01, 9.99760651e-01,\n",
       "       9.99760651e-01, 9.99760651e-01, 9.99760651e-01, 9.99760651e-01,\n",
       "       9.99760651e-01, 9.99760651e-01, 9.99760651e-01, 9.99760651e-01,\n",
       "       9.99760651e-01, 9.99760651e-01, 9.99760651e-01, 9.99760651e-01,\n",
       "       9.99760651e-01, 9.99760651e-01, 9.99760651e-01, 9.99760651e-01,\n",
       "       9.99760651e-01, 9.99760651e-01, 9.99760651e-01, 9.99760651e-01,\n",
       "       9.99760651e-01, 9.99760651e-01, 9.99760651e-01, 9.99760651e-01,\n",
       "       9.99760651e-01, 9.99760651e-01, 9.99760651e-01, 9.99760651e-01,\n",
       "       9.99760651e-01, 9.99760651e-01, 9.99760651e-01, 9.99760651e-01,\n",
       "       9.99760651e-01, 9.99760651e-01, 9.99760651e-01, 9.99760651e-01,\n",
       "       9.99760651e-01, 9.99760651e-01, 9.99760651e-01, 9.99760651e-01,\n",
       "       9.99760651e-01, 9.99760651e-01, 9.99760651e-01, 9.99760651e-01,\n",
       "       9.99760651e-01, 9.99760651e-01, 9.99760651e-01, 9.99760651e-01,\n",
       "       9.99760651e-01, 9.99760651e-01, 9.99760651e-01, 9.99760651e-01,\n",
       "       9.99760651e-01, 9.99760651e-01, 9.99760651e-01, 9.99760651e-01,\n",
       "       9.99760651e-01, 9.99760651e-01, 9.99760651e-01, 9.99760651e-01,\n",
       "       9.99760651e-01, 9.99760651e-01, 9.99760651e-01, 9.99760651e-01,\n",
       "       9.99760651e-01, 9.99760651e-01, 9.99760651e-01, 9.99760651e-01,\n",
       "       9.99760651e-01, 9.99760651e-01, 9.99760651e-01, 9.99760651e-01,\n",
       "       9.99760651e-01, 9.99760651e-01, 9.99760651e-01, 9.99760651e-01,\n",
       "       9.99760651e-01, 9.99760651e-01, 9.99760651e-01, 9.99760651e-01,\n",
       "       9.99760651e-01, 9.99760651e-01, 9.99760651e-01, 9.99760651e-01,\n",
       "       9.99760651e-01, 9.99760651e-01, 9.99760651e-01, 9.99760651e-01,\n",
       "       9.99760651e-01, 9.99760651e-01, 9.99760651e-01, 9.99760651e-01,\n",
       "       9.99760651e-01, 9.99760651e-01, 9.99760651e-01, 9.99760651e-01,\n",
       "       9.99760651e-01, 9.99760651e-01, 9.99760651e-01, 9.99760651e-01,\n",
       "       9.99760651e-01, 9.99760651e-01, 9.99760651e-01, 9.99760651e-01,\n",
       "       9.99760651e-01, 9.99760651e-01, 9.99760651e-01, 9.99760651e-01,\n",
       "       9.99760651e-01, 9.99760651e-01, 9.99760651e-01, 9.99760651e-01,\n",
       "       9.99760651e-01, 9.99760651e-01, 9.99760651e-01, 9.99760651e-01,\n",
       "       9.99760651e-01, 9.99760651e-01, 9.99760651e-01, 9.99760651e-01,\n",
       "       9.99760651e-01, 9.99760651e-01, 9.99760651e-01, 9.99760651e-01,\n",
       "       9.99760651e-01, 9.99760651e-01, 9.99760651e-01, 9.99760651e-01,\n",
       "       9.99760651e-01, 9.99760651e-01, 9.99760651e-01, 9.99760651e-01,\n",
       "       9.99760651e-01, 9.99760651e-01, 9.99760651e-01, 9.99760651e-01,\n",
       "       9.99760651e-01, 9.99760651e-01, 9.99760651e-01, 9.99760651e-01,\n",
       "       9.99760651e-01, 9.99760651e-01, 9.99760651e-01, 9.99760651e-01,\n",
       "       9.99760651e-01, 9.99760651e-01, 9.99760651e-01, 9.99760651e-01,\n",
       "       9.99760651e-01, 9.99760651e-01, 9.99760651e-01, 9.99760651e-01,\n",
       "       9.99760651e-01, 9.99760651e-01, 9.99760651e-01, 9.99760651e-01,\n",
       "       9.99760651e-01, 9.99760651e-01, 9.99760651e-01, 9.99760651e-01,\n",
       "       9.99760651e-01, 9.99760651e-01, 9.99760651e-01, 9.99760651e-01,\n",
       "       9.99760651e-01, 9.99760651e-01, 9.99760651e-01, 9.99760651e-01,\n",
       "       9.99760651e-01, 9.99760651e-01, 9.99760651e-01, 9.99760651e-01,\n",
       "       9.99760651e-01, 9.99760651e-01, 9.99760651e-01, 9.99760651e-01,\n",
       "       9.99760651e-01, 9.99760651e-01, 9.99760651e-01, 9.99760651e-01,\n",
       "       9.99760651e-01, 9.99760651e-01, 9.99760651e-01, 9.99760651e-01,\n",
       "       9.99760651e-01, 9.99760651e-01, 9.99760651e-01, 9.99760651e-01,\n",
       "       9.99760651e-01, 9.99760651e-01, 9.99760651e-01, 9.99760651e-01,\n",
       "       9.99760651e-01, 9.99760651e-01, 9.99760651e-01, 9.99760651e-01,\n",
       "       9.99760651e-01, 9.99760651e-01, 9.99760651e-01, 9.99760651e-01,\n",
       "       9.99760651e-01, 9.99760651e-01, 9.99760651e-01, 9.99760651e-01,\n",
       "       9.99760651e-01, 9.99760651e-01, 9.99760651e-01, 9.99760651e-01,\n",
       "       9.99760651e-01, 9.99760651e-01, 9.99760651e-01, 9.99760651e-01,\n",
       "       9.99760651e-01, 9.99760651e-01, 9.99760651e-01, 9.99760651e-01,\n",
       "       9.99760651e-01, 9.99760651e-01, 9.99760651e-01, 9.99760651e-01,\n",
       "       9.99760651e-01, 9.99760651e-01, 9.99760651e-01, 9.99760651e-01,\n",
       "       9.99760651e-01, 9.99760651e-01, 9.99760651e-01, 9.99760651e-01,\n",
       "       9.99760651e-01, 9.99760651e-01, 9.99760651e-01, 9.99760651e-01,\n",
       "       9.99760651e-01, 9.99760651e-01, 9.99760651e-01, 9.99760651e-01,\n",
       "       9.99760651e-01, 9.99760651e-01, 9.99760651e-01, 9.99760651e-01,\n",
       "       9.99760651e-01, 9.99760651e-01, 9.99760651e-01, 9.99760651e-01,\n",
       "       9.99760651e-01, 9.99760651e-01, 9.99760651e-01, 9.99760651e-01,\n",
       "       9.99760651e-01, 9.99760651e-01, 9.99760651e-01, 9.99760651e-01,\n",
       "       9.99760651e-01, 1.00000000e+00, 1.00000000e+00, 1.00000000e+00,\n",
       "       1.00000000e+00, 1.00000000e+00, 1.00000000e+00, 1.00000000e+00,\n",
       "       1.00000000e+00, 1.00000000e+00, 1.00000000e+00, 1.00000000e+00,\n",
       "       1.00000000e+00, 1.00000000e+00, 1.00000000e+00, 1.00000000e+00,\n",
       "       1.00000000e+00, 1.00000000e+00, 1.00000000e+00, 1.00000000e+00,\n",
       "       1.00000000e+00, 1.00000000e+00, 1.00000000e+00, 1.00000000e+00,\n",
       "       1.00000000e+00, 1.00000000e+00, 1.00000000e+00, 1.00000000e+00,\n",
       "       1.00000000e+00, 1.00000000e+00, 1.00000000e+00, 1.00000000e+00,\n",
       "       1.00000000e+00, 1.00000000e+00, 1.00000000e+00, 1.00000000e+00,\n",
       "       1.00000000e+00, 1.00000000e+00])"
      ]
     },
     "execution_count": 169,
     "metadata": {},
     "output_type": "execute_result"
    }
   ],
   "source": [
    "fpr"
   ]
  },
  {
   "cell_type": "code",
   "execution_count": 170,
   "id": "20110a7f",
   "metadata": {},
   "outputs": [
    {
     "data": {
      "text/plain": [
       "array([1.99978299e+00, 9.99782989e-01, 9.98457586e-01, 9.98447264e-01,\n",
       "       9.92332226e-01, 9.92328628e-01, 9.88794954e-01, 9.88747232e-01,\n",
       "       9.81105907e-01, 9.81082130e-01, 9.77426334e-01, 9.77405170e-01,\n",
       "       9.76020436e-01, 9.76000553e-01, 9.73975659e-01, 9.73898971e-01,\n",
       "       9.70253597e-01, 9.70230454e-01, 9.62134084e-01, 9.62081402e-01,\n",
       "       9.59585158e-01, 9.59540687e-01, 9.45016139e-01, 9.44986844e-01,\n",
       "       9.15271592e-01, 9.15147617e-01, 8.60470666e-01, 8.60374555e-01,\n",
       "       8.60097465e-01, 8.59971411e-01, 8.26117864e-01, 8.25882280e-01,\n",
       "       7.77912739e-01, 7.77585640e-01, 7.57576928e-01, 7.57466463e-01,\n",
       "       7.43715316e-01, 7.43674374e-01, 6.52086598e-01, 6.47387493e-01,\n",
       "       6.35272490e-01, 6.33820830e-01, 6.32020815e-01, 6.31051780e-01,\n",
       "       6.30014924e-01, 6.24878603e-01, 6.23998260e-01, 6.21672776e-01,\n",
       "       6.16648758e-01, 6.15552568e-01, 6.12590993e-01, 6.00694995e-01,\n",
       "       5.97720586e-01, 5.94539467e-01, 5.93569165e-01, 5.93320663e-01,\n",
       "       5.93262670e-01, 5.92923598e-01, 5.92915340e-01, 5.84992833e-01,\n",
       "       5.83353140e-01, 5.74600763e-01, 5.71549438e-01, 5.69998193e-01,\n",
       "       5.61183352e-01, 5.58004197e-01, 5.57849314e-01, 5.53664965e-01,\n",
       "       5.52388199e-01, 5.49992575e-01, 5.47656602e-01, 5.40952333e-01,\n",
       "       5.39829662e-01, 5.27510905e-01, 5.24400087e-01, 5.20376908e-01,\n",
       "       5.19819724e-01, 5.17287558e-01, 5.11738169e-01, 5.10219180e-01,\n",
       "       5.08520690e-01, 5.07837715e-01, 5.07356227e-01, 5.01551151e-01,\n",
       "       4.99606803e-01, 4.94376080e-01, 4.85580972e-01, 4.80705841e-01,\n",
       "       4.79760864e-01, 4.77230274e-01, 4.76695149e-01, 4.54467744e-01,\n",
       "       4.53256418e-01, 4.52788782e-01, 4.51497091e-01, 4.24289440e-01,\n",
       "       4.21467541e-01, 4.18502752e-01, 4.16667872e-01, 4.03646295e-01,\n",
       "       4.00878569e-01, 3.96191773e-01, 3.95048228e-01, 3.80520267e-01,\n",
       "       3.79227365e-01, 3.77344226e-01, 3.76976199e-01, 3.76947451e-01,\n",
       "       3.72223802e-01, 3.69423302e-01, 3.68933817e-01, 3.67750820e-01,\n",
       "       3.66660356e-01, 3.65363814e-01, 3.53825272e-01, 3.53440475e-01,\n",
       "       3.23142510e-01, 3.20283727e-01, 3.19856421e-01, 3.18161952e-01,\n",
       "       3.13876126e-01, 3.13592941e-01, 2.99491694e-01, 2.97584686e-01,\n",
       "       2.97415447e-01, 2.85391414e-01, 2.84968486e-01, 2.84963122e-01,\n",
       "       2.74333845e-01, 2.73833033e-01, 2.59485826e-01, 2.59156933e-01,\n",
       "       2.42402770e-01, 2.40871422e-01, 2.25708260e-01, 2.25441189e-01,\n",
       "       2.19823805e-01, 2.18014820e-01, 2.03822196e-01, 2.03560832e-01,\n",
       "       1.96620284e-01, 1.94687134e-01, 1.93758132e-01, 1.93219485e-01,\n",
       "       1.89948374e-01, 1.89891088e-01, 1.85623157e-01, 1.85557707e-01,\n",
       "       1.83641286e-01, 1.82660498e-01, 1.82283740e-01, 1.82088635e-01,\n",
       "       1.76167763e-01, 1.76164359e-01, 1.67750694e-01, 1.67532240e-01,\n",
       "       1.62881444e-01, 1.62603672e-01, 1.61797555e-01, 1.61163883e-01,\n",
       "       1.53700718e-01, 1.53596418e-01, 1.52970518e-01, 1.52952466e-01,\n",
       "       1.40851660e-01, 1.40433107e-01, 1.40128481e-01, 1.37770393e-01,\n",
       "       1.37753866e-01, 1.35004589e-01, 1.34760027e-01, 1.27159000e-01,\n",
       "       1.27006979e-01, 1.22446902e-01, 1.22173768e-01, 1.18524346e-01,\n",
       "       1.18315949e-01, 1.17245859e-01, 1.17070648e-01, 1.16723184e-01,\n",
       "       1.16412794e-01, 1.13298170e-01, 1.13261093e-01, 1.08489727e-01,\n",
       "       1.08370056e-01, 1.08234607e-01, 1.01518749e-01, 1.01439309e-01,\n",
       "       1.00762201e-01, 1.00282340e-01, 9.87952287e-02, 9.85274416e-02,\n",
       "       9.60208691e-02, 9.55638514e-02, 9.46610479e-02, 9.46481938e-02,\n",
       "       9.42382866e-02, 9.41283481e-02, 9.22944789e-02, 9.19406093e-02,\n",
       "       9.15326661e-02, 9.13240468e-02, 8.96700664e-02, 8.96698219e-02,\n",
       "       8.45359579e-02, 8.44248409e-02, 8.24980347e-02, 8.24765800e-02,\n",
       "       8.15915654e-02, 8.14497604e-02, 7.83481292e-02, 7.83282088e-02,\n",
       "       7.68506712e-02, 7.68127670e-02, 7.41821058e-02, 7.39883875e-02,\n",
       "       7.18659806e-02, 7.17391126e-02, 6.71666659e-02, 6.69950454e-02,\n",
       "       6.62902281e-02, 6.60965262e-02, 6.33253925e-02, 6.33168615e-02,\n",
       "       6.22740710e-02, 6.22725684e-02, 5.98922182e-02, 5.98755239e-02,\n",
       "       5.90669772e-02, 5.89891331e-02, 5.85417850e-02, 5.84227806e-02,\n",
       "       5.71969189e-02, 5.70515319e-02, 5.66164013e-02, 5.65951552e-02,\n",
       "       5.56777855e-02, 5.56670307e-02, 5.55620515e-02, 5.55458792e-02,\n",
       "       5.41989610e-02, 5.41010493e-02, 5.40808421e-02, 5.40099912e-02,\n",
       "       5.24982098e-02, 5.24741043e-02, 5.21761511e-02, 5.21104978e-02,\n",
       "       5.19400137e-02, 5.19129828e-02, 5.19036356e-02, 5.18559225e-02,\n",
       "       5.01991248e-02, 5.00987644e-02, 4.98893822e-02, 4.98822075e-02,\n",
       "       4.95777100e-02, 4.95744765e-02, 4.92534688e-02, 4.92527694e-02,\n",
       "       4.88845009e-02, 4.88632637e-02, 4.83370771e-02, 4.83283457e-02,\n",
       "       4.63977499e-02, 4.63723753e-02, 4.63305655e-02, 4.62387348e-02,\n",
       "       4.61141417e-02, 4.60807565e-02, 4.51305481e-02, 4.50970662e-02,\n",
       "       4.48386483e-02, 4.48300779e-02, 4.42110946e-02, 4.41850281e-02,\n",
       "       4.25564091e-02, 4.25551207e-02, 4.22735706e-02, 4.22009089e-02,\n",
       "       4.03902758e-02, 4.03707657e-02, 3.99431662e-02, 3.99183638e-02,\n",
       "       3.85772925e-02, 3.84744118e-02, 3.84623986e-02, 3.79016735e-02,\n",
       "       3.78804926e-02, 3.78549004e-02, 3.78534462e-02, 3.73555032e-02,\n",
       "       3.73543955e-02, 3.61377460e-02, 3.61317612e-02, 3.60664005e-02,\n",
       "       3.60554879e-02, 3.34554847e-02, 3.34465072e-02, 3.22961347e-02,\n",
       "       3.22157602e-02, 3.12016440e-02, 3.11524504e-02, 3.07894000e-02,\n",
       "       3.07605058e-02, 3.06555517e-02, 3.06161664e-02, 3.03476362e-02,\n",
       "       3.03354755e-02, 2.98168458e-02, 2.97787921e-02, 2.91438824e-02,\n",
       "       2.91286636e-02, 2.90366255e-02, 2.89930241e-02, 2.88979682e-02,\n",
       "       2.88413715e-02, 2.88008663e-02, 2.87691249e-02, 2.82863305e-02,\n",
       "       2.82832046e-02, 2.69780360e-02, 2.69675351e-02, 2.64461610e-02,\n",
       "       2.64114344e-02, 2.56394623e-02, 2.55250753e-02, 2.51955953e-02,\n",
       "       2.51407193e-02, 2.51198911e-02, 2.51128903e-02, 2.49464502e-02,\n",
       "       2.49355961e-02, 2.41267983e-02, 2.41255450e-02, 2.38807115e-02,\n",
       "       2.38635623e-02, 2.38257735e-02, 2.37727321e-02, 2.33880122e-02,\n",
       "       2.33754711e-02, 2.31936594e-02, 2.31528710e-02, 2.27022183e-02,\n",
       "       2.26776528e-02, 2.25082217e-02, 2.24598848e-02, 2.20023700e-02,\n",
       "       2.19719986e-02, 2.19180193e-02, 2.18967746e-02, 2.12927779e-02,\n",
       "       2.12904812e-02, 2.09934876e-02, 2.09743916e-02, 2.08413347e-02,\n",
       "       2.08105214e-02, 2.06691382e-02, 2.06440274e-02, 2.05118022e-02,\n",
       "       2.04965118e-02, 2.02229107e-02, 2.02102051e-02, 1.99163559e-02,\n",
       "       1.99110815e-02, 1.81012860e-02, 1.80952655e-02, 1.80803944e-02,\n",
       "       1.80774375e-02, 1.73100023e-02, 1.73046037e-02, 1.72192426e-02,\n",
       "       1.72102475e-02, 1.72059903e-02, 1.71523437e-02, 1.71521822e-02,\n",
       "       1.65835450e-02, 1.65818284e-02, 1.65768946e-02, 1.65700468e-02,\n",
       "       1.61451346e-02, 1.61434331e-02, 1.60143077e-02, 1.59539992e-02,\n",
       "       1.56557732e-02, 1.56064140e-02, 1.56004863e-02, 1.55829115e-02,\n",
       "       1.54648520e-02, 1.54323602e-02, 1.53758107e-02, 1.53718305e-02,\n",
       "       1.51972469e-02, 1.51920851e-02, 1.51266865e-02, 1.51219346e-02,\n",
       "       1.49528455e-02, 1.49504957e-02, 1.47450406e-02, 1.47422382e-02,\n",
       "       1.46597391e-02, 1.46518160e-02, 1.40501607e-02, 1.40452213e-02,\n",
       "       1.39074836e-02, 1.38776048e-02, 1.38385880e-02, 1.38075237e-02,\n",
       "       1.37567041e-02, 1.37278905e-02, 1.36015520e-02, 1.35950631e-02,\n",
       "       1.33585165e-02, 1.33585114e-02, 1.28288833e-02, 1.27835203e-02,\n",
       "       1.23941152e-02, 1.23894728e-02, 1.23324650e-02, 1.23092899e-02,\n",
       "       1.21008538e-02, 1.20366654e-02, 1.20302772e-02, 1.20098278e-02,\n",
       "       1.17407881e-02, 1.17328235e-02, 1.16995125e-02, 1.16864183e-02,\n",
       "       1.16441239e-02, 1.16421940e-02, 1.13600408e-02, 1.13594300e-02,\n",
       "       1.11593511e-02, 1.11155697e-02, 1.10908343e-02, 1.10887553e-02,\n",
       "       1.07495190e-02, 1.07490296e-02, 1.06501774e-02, 1.05993008e-02,\n",
       "       1.05852002e-02, 1.05806893e-02, 1.04739512e-02, 1.04643500e-02,\n",
       "       1.04079535e-02, 1.03941749e-02, 1.02482620e-02, 1.02476871e-02,\n",
       "       9.84013259e-03, 9.83607494e-03, 9.72497294e-03, 9.70903035e-03,\n",
       "       9.69680360e-03, 9.68001894e-03, 9.05092428e-03, 9.04829803e-03,\n",
       "       8.71425512e-03, 8.71369049e-03, 8.40715648e-03, 8.40646539e-03,\n",
       "       8.39448966e-03, 8.38387351e-03, 8.32212143e-03, 8.30974389e-03,\n",
       "       8.18070329e-03, 8.17540216e-03, 7.98161932e-03, 7.97993277e-03,\n",
       "       7.97004753e-03, 7.95758783e-03, 7.59718542e-03, 7.58748873e-03,\n",
       "       7.26659018e-03, 7.26026282e-03, 7.23229965e-03, 7.22148763e-03,\n",
       "       7.10930302e-03, 7.10676782e-03, 6.85178489e-03, 6.85086797e-03,\n",
       "       6.25002823e-03, 6.24087586e-03, 6.20268324e-03, 6.18967577e-03,\n",
       "       6.17801138e-03, 6.16085003e-03, 6.09021699e-03, 6.08627104e-03,\n",
       "       5.63935359e-03, 5.63692715e-03, 5.34086049e-03, 5.30072670e-03,\n",
       "       5.22780122e-03, 5.21613629e-03, 4.89699219e-03, 4.88886341e-03,\n",
       "       4.56078850e-03, 4.56017124e-03, 4.40386893e-03, 4.40253170e-03,\n",
       "       4.15905264e-03, 4.14344609e-03, 3.47905196e-03, 3.47853206e-03,\n",
       "       3.07266139e-03, 3.06799935e-03, 2.88918596e-03, 2.87492507e-03,\n",
       "       2.73934183e-03, 2.73849422e-03, 2.69317505e-03, 2.69082782e-03,\n",
       "       2.62990677e-03, 2.62799210e-03, 2.53528229e-03, 2.53030844e-03,\n",
       "       2.39369302e-03, 2.39350435e-03, 2.28927295e-03, 2.28704494e-03,\n",
       "       2.27873719e-03, 2.27852791e-03, 2.18150280e-03, 2.18138710e-03,\n",
       "       1.88360771e-03, 1.88324021e-03, 1.80974097e-03, 1.80707037e-03,\n",
       "       1.77792572e-03, 1.77353014e-03, 1.76090644e-03, 1.75781925e-03,\n",
       "       1.74714080e-03, 1.74640382e-03, 1.62255921e-03, 1.61942083e-03,\n",
       "       1.32921955e-03, 1.32274295e-03, 1.02853907e-03, 1.02846540e-03,\n",
       "       6.32106680e-04, 6.27551055e-04, 2.75828321e-04, 2.68566941e-04,\n",
       "       7.65787939e-05, 4.81112625e-06])"
      ]
     },
     "execution_count": 170,
     "metadata": {},
     "output_type": "execute_result"
    }
   ],
   "source": [
    "thresholds"
   ]
  },
  {
   "cell_type": "code",
   "execution_count": 171,
   "id": "3998bb80",
   "metadata": {},
   "outputs": [
    {
     "data": {
      "image/png": "[encoded data removed]",
      "text/plain": [
       "<Figure size 432x288 with 1 Axes>"
      ]
     },
     "metadata": {
      "needs_background": "light"
     },
     "output_type": "display_data"
    }
   ],
   "source": [
    "plt.plot([0,1],[0,1],'k--')\n",
    "plt.plot(tpr,fpr,label='LR')\n",
    "plt.xlabel('FALSE_POSITIVE_RATE')\n",
    "plt.ylabel('TRUE_POSITIVE_RATE')\n",
    "plt.title('LOGISTIC REGRESSION')\n",
    "plt.show()"
   ]
  },
  {
   "cell_type": "code",
   "execution_count": 172,
   "id": "d17492f9",
   "metadata": {},
   "outputs": [
    {
     "data": {
      "text/plain": [
       "0.9916070976020854"
      ]
     },
     "execution_count": 172,
     "metadata": {},
     "output_type": "execute_result"
    }
   ],
   "source": [
    "auc_score=roc_auc_score(y_test,(lr.predict(x_test)))\n",
    "auc_score"
   ]
  },
  {
   "cell_type": "markdown",
   "id": "545f204b",
   "metadata": {},
   "source": [
    "## GAUSSIAN NB "
   ]
  },
  {
   "cell_type": "code",
   "execution_count": 177,
   "id": "cc7039ed",
   "metadata": {},
   "outputs": [],
   "source": [
    "gb=GaussianNB()"
   ]
  },
  {
   "cell_type": "code",
   "execution_count": 178,
   "id": "73fd5391",
   "metadata": {},
   "outputs": [
    {
     "name": "stdout",
     "output_type": "stream",
     "text": [
      "At random_state {0} the training accuracy test is 0.9513300327263573\n",
      "At random_state {0} the testing accuracy test is 0.9516670396061758\n",
      "\n",
      "\n",
      "At random_state {1} the training accuracy test is 0.954434840983469\n",
      "At random_state {1} the testing accuracy test is 0.9485343477287984\n",
      "\n",
      "\n",
      "At random_state {2} the training accuracy test is 0.9528684512321334\n",
      "At random_state {2} the testing accuracy test is 0.9423808458268069\n",
      "\n",
      "\n",
      "At random_state {3} the training accuracy test is 0.9521132276020251\n",
      "At random_state {3} the testing accuracy test is 0.9466323562318192\n",
      "\n",
      "\n",
      "At random_state {4} the training accuracy test is 0.9521132276020251\n",
      "At random_state {4} the testing accuracy test is 0.9495412844036697\n",
      "\n",
      "\n",
      "At random_state {5} the training accuracy test is 0.9543229560012307\n",
      "At random_state {5} the testing accuracy test is 0.9436115462072052\n",
      "\n",
      "\n",
      "At random_state {6} the training accuracy test is 0.9517775726553104\n",
      "At random_state {6} the testing accuracy test is 0.9486462295815619\n",
      "\n",
      "\n",
      "At random_state {7} the training accuracy test is 0.9519454001286677\n",
      "At random_state {7} the testing accuracy test is 0.9454016558514209\n",
      "\n",
      "\n",
      "At random_state {8} the training accuracy test is 0.9526446812676569\n",
      "At random_state {8} the testing accuracy test is 0.9476392929066906\n",
      "\n",
      "\n",
      "At random_state {9} the training accuracy test is 0.9525607675309782\n",
      "At random_state {9} the testing accuracy test is 0.947751174759454\n",
      "\n",
      "\n",
      "At random_state {10} the training accuracy test is 0.9516936589186317\n",
      "At random_state {10} the testing accuracy test is 0.950995748489595\n",
      "\n",
      "\n",
      "At random_state {11} the training accuracy test is 0.9535677323711225\n",
      "At random_state {11} the testing accuracy test is 0.9493175206981428\n",
      "\n",
      "\n",
      "At random_state {12} the training accuracy test is 0.9516377164275125\n",
      "At random_state {12} the testing accuracy test is 0.9474155292011636\n",
      "\n",
      "\n",
      "At random_state {13} the training accuracy test is 0.9519454001286677\n",
      "At random_state {13} the testing accuracy test is 0.9505482210785411\n",
      "\n",
      "\n",
      "At random_state {14} the training accuracy test is 0.9516656876730721\n",
      "At random_state {14} the testing accuracy test is 0.9505482210785411\n",
      "\n",
      "\n",
      "At random_state {15} the training accuracy test is 0.9515817739363934\n",
      "At random_state {15} the testing accuracy test is 0.948422465876035\n",
      "\n",
      "\n",
      "At random_state {16} the training accuracy test is 0.9530362787054908\n",
      "At random_state {16} the testing accuracy test is 0.9479749384649809\n",
      "\n",
      "\n",
      "At random_state {17} the training accuracy test is 0.952309026320942\n",
      "At random_state {17} the testing accuracy test is 0.9485343477287984\n",
      "\n",
      "\n",
      "At random_state {18} the training accuracy test is 0.952253083829823\n",
      "At random_state {18} the testing accuracy test is 0.9436115462072052\n",
      "\n",
      "\n",
      "At random_state {19} the training accuracy test is 0.9521971413387038\n",
      "At random_state {19} the testing accuracy test is 0.945177892145894\n",
      "\n",
      "\n",
      "At random_state {20} the training accuracy test is 0.9540152723000755\n",
      "At random_state {20} the testing accuracy test is 0.9474155292011636\n",
      "\n",
      "\n",
      "At random_state {21} the training accuracy test is 0.9513859752174765\n",
      "At random_state {21} the testing accuracy test is 0.9496531662564333\n",
      "\n",
      "\n",
      "At random_state {22} the training accuracy test is 0.9517775726553104\n",
      "At random_state {22} the testing accuracy test is 0.9513313940478855\n",
      "\n",
      "\n",
      "At random_state {23} the training accuracy test is 0.952504825039859\n",
      "At random_state {23} the testing accuracy test is 0.9468561199373462\n",
      "\n",
      "\n",
      "At random_state {24} the training accuracy test is 0.9533159911610865\n",
      "At random_state {24} the testing accuracy test is 0.9494294025509062\n",
      "\n",
      "\n",
      "At random_state {25} the training accuracy test is 0.9514419177085955\n",
      "At random_state {25} the testing accuracy test is 0.9501006936674872\n",
      "\n",
      "\n",
      "At random_state {26} the training accuracy test is 0.9532880199155268\n",
      "At random_state {26} the testing accuracy test is 0.9527858581338107\n",
      "\n",
      "\n",
      "At random_state {27} the training accuracy test is 0.9529803362143716\n",
      "At random_state {27} the testing accuracy test is 0.9468561199373462\n",
      "\n",
      "\n",
      "At random_state {28} the training accuracy test is 0.9520013426197869\n",
      "At random_state {28} the testing accuracy test is 0.9485343477287984\n",
      "\n",
      "\n",
      "At random_state {29} the training accuracy test is 0.9529523649688121\n",
      "At random_state {29} the testing accuracy test is 0.944282837323786\n",
      "\n",
      "\n",
      "At random_state {30} the training accuracy test is 0.9520013426197869\n",
      "At random_state {30} the testing accuracy test is 0.9499888118147236\n",
      "\n",
      "\n",
      "At random_state {31} the training accuracy test is 0.9518335151464294\n",
      "At random_state {31} the testing accuracy test is 0.9490937569926158\n",
      "\n",
      "\n",
      "At random_state {32} the training accuracy test is 0.9519733713742273\n",
      "At random_state {32} the testing accuracy test is 0.9490937569926158\n",
      "\n",
      "\n",
      "At random_state {33} the training accuracy test is 0.9525887387765377\n",
      "At random_state {33} the testing accuracy test is 0.944506601029313\n",
      "\n",
      "\n",
      "At random_state {34} the training accuracy test is 0.9522810550753825\n",
      "At random_state {34} the testing accuracy test is 0.9464085925262923\n",
      "\n",
      "\n",
      "At random_state {35} the training accuracy test is 0.952504825039859\n",
      "At random_state {35} the testing accuracy test is 0.9459610651152383\n",
      "\n",
      "\n",
      "At random_state {36} the training accuracy test is 0.9513300327263573\n",
      "At random_state {36} the testing accuracy test is 0.9501006936674872\n",
      "\n",
      "\n",
      "At random_state {37} the training accuracy test is 0.9524209113031803\n",
      "At random_state {37} the testing accuracy test is 0.9504363392257775\n",
      "\n",
      "\n",
      "At random_state {38} the training accuracy test is 0.9514419177085955\n",
      "At random_state {38} the testing accuracy test is 0.9517789214589394\n",
      "\n",
      "\n",
      "At random_state {39} the training accuracy test is 0.9531761349332886\n",
      "At random_state {39} the testing accuracy test is 0.9455135377041843\n",
      "\n",
      "\n",
      "At random_state {40} the training accuracy test is 0.9518614863919891\n",
      "At random_state {40} the testing accuracy test is 0.9483105840232714\n",
      "\n",
      "\n",
      "At random_state {41} the training accuracy test is 0.9512181477441191\n",
      "At random_state {41} the testing accuracy test is 0.950771984784068\n",
      "\n",
      "\n",
      "At random_state {42} the training accuracy test is 0.9509104640429639\n",
      "At random_state {42} the testing accuracy test is 0.9521145670172299\n",
      "\n",
      "\n",
      "At random_state {43} the training accuracy test is 0.9531201924421695\n",
      "At random_state {43} the testing accuracy test is 0.9480868203177445\n",
      "\n",
      "\n",
      "At random_state {44} the training accuracy test is 0.9525887387765377\n",
      "At random_state {44} the testing accuracy test is 0.9459610651152383\n",
      "\n",
      "\n",
      "At random_state {45} the training accuracy test is 0.9524209113031803\n",
      "At random_state {45} the testing accuracy test is 0.9494294025509062\n",
      "\n",
      "\n",
      "At random_state {46} the training accuracy test is 0.9521411988475846\n",
      "At random_state {46} the testing accuracy test is 0.9471917654956367\n",
      "\n",
      "\n",
      "At random_state {47} the training accuracy test is 0.952253083829823\n",
      "At random_state {47} the testing accuracy test is 0.9489818751398523\n",
      "\n",
      "\n",
      "At random_state {48} the training accuracy test is 0.9519454001286677\n",
      "At random_state {48} the testing accuracy test is 0.944282837323786\n",
      "\n",
      "\n",
      "At random_state {49} the training accuracy test is 0.9532041061788481\n",
      "At random_state {49} the testing accuracy test is 0.945177892145894\n",
      "\n",
      "\n",
      "At random_state {50} the training accuracy test is 0.953343962406646\n",
      "At random_state {50} the testing accuracy test is 0.9517789214589394\n",
      "\n",
      "\n",
      "At random_state {51} the training accuracy test is 0.9524488825487399\n",
      "At random_state {51} the testing accuracy test is 0.9458491832624748\n",
      "\n",
      "\n",
      "At random_state {52} the training accuracy test is 0.9530922211966099\n",
      "At random_state {52} the testing accuracy test is 0.9528977399865742\n",
      "\n",
      "\n",
      "At random_state {53} the training accuracy test is 0.9530362787054908\n",
      "At random_state {53} the testing accuracy test is 0.945177892145894\n",
      "\n",
      "\n",
      "At random_state {54} the training accuracy test is 0.9544068697379094\n",
      "At random_state {54} the testing accuracy test is 0.9480868203177445\n",
      "\n",
      "\n",
      "At random_state {55} the training accuracy test is 0.9541271572823138\n",
      "At random_state {55} the testing accuracy test is 0.9523383307227568\n",
      "\n",
      "\n",
      "At random_state {56} the training accuracy test is 0.9519174288831082\n",
      "At random_state {56} the testing accuracy test is 0.9465204743790557\n",
      "\n",
      "\n",
      "At random_state {57} the training accuracy test is 0.9526446812676569\n",
      "At random_state {57} the testing accuracy test is 0.9470798836428731\n",
      "\n",
      "\n",
      "At random_state {58} the training accuracy test is 0.9516377164275125\n",
      "At random_state {58} the testing accuracy test is 0.9502125755202506\n",
      "\n",
      "\n",
      "At random_state {59} the training accuracy test is 0.9517775726553104\n",
      "At random_state {59} the testing accuracy test is 0.9486462295815619\n",
      "\n",
      "\n",
      "At random_state {60} the training accuracy test is 0.9543788984923499\n",
      "At random_state {60} the testing accuracy test is 0.9524502125755202\n",
      "\n",
      "\n",
      "At random_state {61} the training accuracy test is 0.9515538026908338\n",
      "At random_state {61} the testing accuracy test is 0.9479749384649809\n",
      "\n",
      "\n",
      "At random_state {62} the training accuracy test is 0.9519733713742273\n",
      "At random_state {62} the testing accuracy test is 0.947527411053927\n",
      "\n",
      "\n",
      "At random_state {63} the training accuracy test is 0.9541271572823138\n",
      "At random_state {63} the testing accuracy test is 0.9480868203177445\n",
      "\n",
      "\n",
      "At random_state {64} the training accuracy test is 0.9517496014097507\n",
      "At random_state {64} the testing accuracy test is 0.9485343477287984\n",
      "\n",
      "\n",
      "At random_state {65} the training accuracy test is 0.9528684512321334\n",
      "At random_state {65} the testing accuracy test is 0.947751174759454\n",
      "\n",
      "\n",
      "At random_state {66} the training accuracy test is 0.9530083074599311\n",
      "At random_state {66} the testing accuracy test is 0.9422689639740434\n",
      "\n",
      "\n",
      "At random_state {67} the training accuracy test is 0.9529243937232525\n",
      "At random_state {67} the testing accuracy test is 0.9486462295815619\n",
      "\n",
      "\n",
      "At random_state {68} the training accuracy test is 0.9511901764985595\n",
      "At random_state {68} the testing accuracy test is 0.950771984784068\n",
      "\n",
      "\n",
      "At random_state {69} the training accuracy test is 0.9518055439008699\n",
      "At random_state {69} the testing accuracy test is 0.9469680017901096\n",
      "\n",
      "\n",
      "At random_state {70} the training accuracy test is 0.952309026320942\n",
      "At random_state {70} the testing accuracy test is 0.9459610651152383\n",
      "\n",
      "\n",
      "At random_state {71} the training accuracy test is 0.952057285110906\n",
      "At random_state {71} the testing accuracy test is 0.9468561199373462\n",
      "\n",
      "\n",
      "At random_state {72} the training accuracy test is 0.9527845374954547\n",
      "At random_state {72} the testing accuracy test is 0.9455135377041843\n",
      "\n",
      "\n",
      "At random_state {73} the training accuracy test is 0.9545187547201477\n",
      "At random_state {73} the testing accuracy test is 0.94473036473484\n",
      "\n",
      "\n",
      "At random_state {74} the training accuracy test is 0.9528964224776929\n",
      "At random_state {74} the testing accuracy test is 0.9487581114343253\n",
      "\n",
      "\n",
      "At random_state {75} the training accuracy test is 0.9522810550753825\n",
      "At random_state {75} the testing accuracy test is 0.9478630566122175\n",
      "\n",
      "\n",
      "At random_state {76} the training accuracy test is 0.9514978601997147\n",
      "At random_state {76} the testing accuracy test is 0.9496531662564333\n",
      "\n",
      "\n",
      "At random_state {77} the training accuracy test is 0.9532600486699673\n",
      "At random_state {77} the testing accuracy test is 0.948422465876035\n",
      "\n",
      "\n",
      "At random_state {78} the training accuracy test is 0.9524209113031803\n",
      "At random_state {78} the testing accuracy test is 0.9480868203177445\n",
      "\n",
      "\n",
      "At random_state {79} the training accuracy test is 0.9519454001286677\n",
      "At random_state {79} the testing accuracy test is 0.9471917654956367\n",
      "\n",
      "\n",
      "At random_state {80} the training accuracy test is 0.9513580039719168\n",
      "At random_state {80} the testing accuracy test is 0.9483105840232714\n",
      "\n",
      "\n",
      "At random_state {81} the training accuracy test is 0.952253083829823\n",
      "At random_state {81} the testing accuracy test is 0.9458491832624748\n",
      "\n",
      "\n",
      "At random_state {82} the training accuracy test is 0.9516936589186317\n",
      "At random_state {82} the testing accuracy test is 0.9479749384649809\n",
      "\n",
      "\n",
      "At random_state {83} the training accuracy test is 0.9515817739363934\n",
      "At random_state {83} the testing accuracy test is 0.9489818751398523\n",
      "\n",
      "\n",
      "At random_state {84} the training accuracy test is 0.9523929400576208\n",
      "At random_state {84} the testing accuracy test is 0.9459610651152383\n",
      "\n",
      "\n",
      "At random_state {85} the training accuracy test is 0.9520293138653464\n",
      "At random_state {85} the testing accuracy test is 0.9474155292011636\n",
      "\n",
      "\n",
      "At random_state {86} the training accuracy test is 0.9531761349332886\n",
      "At random_state {86} the testing accuracy test is 0.9407026180353547\n",
      "\n",
      "\n",
      "At random_state {87} the training accuracy test is 0.9528684512321334\n",
      "At random_state {87} the testing accuracy test is 0.9448422465876035\n",
      "\n",
      "\n",
      "At random_state {88} the training accuracy test is 0.9529243937232525\n",
      "At random_state {88} the testing accuracy test is 0.9457373014097114\n",
      "\n",
      "\n",
      "At random_state {89} the training accuracy test is 0.9526726525132164\n",
      "At random_state {89} the testing accuracy test is 0.944954128440367\n",
      "\n",
      "\n",
      "At random_state {90} the training accuracy test is 0.951609745181953\n",
      "At random_state {90} the testing accuracy test is 0.9478630566122175\n",
      "\n",
      "\n",
      "At random_state {91} the training accuracy test is 0.9513580039719168\n",
      "At random_state {91} the testing accuracy test is 0.9469680017901096\n",
      "\n",
      "\n",
      "At random_state {92} the training accuracy test is 0.9514698889541551\n",
      "At random_state {92} the testing accuracy test is 0.947751174759454\n",
      "\n",
      "\n",
      "At random_state {93} the training accuracy test is 0.9525607675309782\n",
      "At random_state {93} the testing accuracy test is 0.9496531662564333\n",
      "\n",
      "\n",
      "At random_state {94} the training accuracy test is 0.9520852563564656\n",
      "At random_state {94} the testing accuracy test is 0.9459610651152383\n",
      "\n",
      "\n",
      "At random_state {95} the training accuracy test is 0.9521132276020251\n",
      "At random_state {95} the testing accuracy test is 0.9483105840232714\n",
      "\n",
      "\n",
      "At random_state {96} the training accuracy test is 0.9528125087410142\n",
      "At random_state {96} the testing accuracy test is 0.9488699932870889\n",
      "\n",
      "\n",
      "At random_state {97} the training accuracy test is 0.9509384352885234\n",
      "At random_state {97} the testing accuracy test is 0.9534571492503916\n",
      "\n",
      "\n",
      "At random_state {98} the training accuracy test is 0.9515538026908338\n",
      "At random_state {98} the testing accuracy test is 0.9524502125755202\n",
      "\n",
      "\n",
      "At random_state {99} the training accuracy test is 0.950770607815166\n",
      "At random_state {99} the testing accuracy test is 0.9494294025509062\n",
      "\n",
      "\n"
     ]
    }
   ],
   "source": [
    "for i in range(0,100):\n",
    "    x_train,x_test,y_train,y_test=train_test_split(X,Y,test_size=0.20,random_state=i)\n",
    "    gb.fit(x_train,y_train)\n",
    "    predgb=gb.predict(x_train)\n",
    "    predgb1=gb.predict(x_test)\n",
    "    print('At random_state' ,{i}, 'the training accuracy test is', accuracy_score(y_train,predgb))\n",
    "    print('At random_state' ,{i}, 'the testing accuracy test is', accuracy_score(y_test,predgb1))\n",
    "    print('\\n')"
   ]
  },
  {
   "cell_type": "markdown",
   "id": "0d0f64b7",
   "metadata": {},
   "source": [
    "## AT RANDOM STATE 97 WE HAVE THE HIGHEST ACCURACY OF  95.34%"
   ]
  },
  {
   "cell_type": "code",
   "execution_count": 195,
   "id": "63857cf6",
   "metadata": {},
   "outputs": [],
   "source": [
    "x_train,x_test,y_train,y_test=train_test_split(X,Y,test_size=0.20,random_state=97)"
   ]
  },
  {
   "cell_type": "code",
   "execution_count": 180,
   "id": "a485065e",
   "metadata": {},
   "outputs": [
    {
     "data": {
      "text/html": [
       "<style>#sk-container-id-2 {color: black;background-color: white;}#sk-container-id-2 pre{padding: 0;}#sk-container-id-2 div.sk-toggleable {background-color: white;}#sk-container-id-2 label.sk-toggleable__label {cursor: pointer;display: block;width: 100%;margin-bottom: 0;padding: 0.3em;box-sizing: border-box;text-align: center;}#sk-container-id-2 label.sk-toggleable__label-arrow:before {content: \"▸\";float: left;margin-right: 0.25em;color: #696969;}#sk-container-id-2 label.sk-toggleable__label-arrow:hover:before {color: black;}#sk-container-id-2 div.sk-estimator:hover label.sk-toggleable__label-arrow:before {color: black;}#sk-container-id-2 div.sk-toggleable__content {max-height: 0;max-width: 0;overflow: hidden;text-align: left;background-color: #f0f8ff;}#sk-container-id-2 div.sk-toggleable__content pre {margin: 0.2em;color: black;border-radius: 0.25em;background-color: #f0f8ff;}#sk-container-id-2 input.sk-toggleable__control:checked~div.sk-toggleable__content {max-height: 200px;max-width: 100%;overflow: auto;}#sk-container-id-2 input.sk-toggleable__control:checked~label.sk-toggleable__label-arrow:before {content: \"▾\";}#sk-container-id-2 div.sk-estimator input.sk-toggleable__control:checked~label.sk-toggleable__label {background-color: #d4ebff;}#sk-container-id-2 div.sk-label input.sk-toggleable__control:checked~label.sk-toggleable__label {background-color: #d4ebff;}#sk-container-id-2 input.sk-hidden--visually {border: 0;clip: rect(1px 1px 1px 1px);clip: rect(1px, 1px, 1px, 1px);height: 1px;margin: -1px;overflow: hidden;padding: 0;position: absolute;width: 1px;}#sk-container-id-2 div.sk-estimator {font-family: monospace;background-color: #f0f8ff;border: 1px dotted black;border-radius: 0.25em;box-sizing: border-box;margin-bottom: 0.5em;}#sk-container-id-2 div.sk-estimator:hover {background-color: #d4ebff;}#sk-container-id-2 div.sk-parallel-item::after {content: \"\";width: 100%;border-bottom: 1px solid gray;flex-grow: 1;}#sk-container-id-2 div.sk-label:hover label.sk-toggleable__label {background-color: #d4ebff;}#sk-container-id-2 div.sk-serial::before {content: \"\";position: absolute;border-left: 1px solid gray;box-sizing: border-box;top: 0;bottom: 0;left: 50%;z-index: 0;}#sk-container-id-2 div.sk-serial {display: flex;flex-direction: column;align-items: center;background-color: white;padding-right: 0.2em;padding-left: 0.2em;position: relative;}#sk-container-id-2 div.sk-item {position: relative;z-index: 1;}#sk-container-id-2 div.sk-parallel {display: flex;align-items: stretch;justify-content: center;background-color: white;position: relative;}#sk-container-id-2 div.sk-item::before, #sk-container-id-2 div.sk-parallel-item::before {content: \"\";position: absolute;border-left: 1px solid gray;box-sizing: border-box;top: 0;bottom: 0;left: 50%;z-index: -1;}#sk-container-id-2 div.sk-parallel-item {display: flex;flex-direction: column;z-index: 1;position: relative;background-color: white;}#sk-container-id-2 div.sk-parallel-item:first-child::after {align-self: flex-end;width: 50%;}#sk-container-id-2 div.sk-parallel-item:last-child::after {align-self: flex-start;width: 50%;}#sk-container-id-2 div.sk-parallel-item:only-child::after {width: 0;}#sk-container-id-2 div.sk-dashed-wrapped {border: 1px dashed gray;margin: 0 0.4em 0.5em 0.4em;box-sizing: border-box;padding-bottom: 0.4em;background-color: white;}#sk-container-id-2 div.sk-label label {font-family: monospace;font-weight: bold;display: inline-block;line-height: 1.2em;}#sk-container-id-2 div.sk-label-container {text-align: center;}#sk-container-id-2 div.sk-container {/* jupyter's `normalize.less` sets `[hidden] { display: none; }` but bootstrap.min.css set `[hidden] { display: none !important; }` so we also need the `!important` here to be able to override the default hidden behavior on the sphinx rendered scikit-learn.org. See: https://github.com/scikit-learn/scikit-learn/issues/21755 */display: inline-block !important;position: relative;}#sk-container-id-2 div.sk-text-repr-fallback {display: none;}</style><div id=\"sk-container-id-2\" class=\"sk-top-container\"><div class=\"sk-text-repr-fallback\"><pre>GaussianNB()</pre><b>In a Jupyter environment, please rerun this cell to show the HTML representation or trust the notebook. <br />On GitHub, the HTML representation is unable to render, please try loading this page with nbviewer.org.</b></div><div class=\"sk-container\" hidden><div class=\"sk-item\"><div class=\"sk-estimator sk-toggleable\"><input class=\"sk-toggleable__control sk-hidden--visually\" id=\"sk-estimator-id-2\" type=\"checkbox\" checked><label for=\"sk-estimator-id-2\" class=\"sk-toggleable__label sk-toggleable__label-arrow\">GaussianNB</label><div class=\"sk-toggleable__content\"><pre>GaussianNB()</pre></div></div></div></div></div>"
      ],
      "text/plain": [
       "GaussianNB()"
      ]
     },
     "execution_count": 180,
     "metadata": {},
     "output_type": "execute_result"
    }
   ],
   "source": [
    "gb.fit(x_train,y_train)"
   ]
  },
  {
   "cell_type": "code",
   "execution_count": 181,
   "id": "8f4edcc8",
   "metadata": {},
   "outputs": [],
   "source": [
    "PREMB=gb.predict(x_test)"
   ]
  },
  {
   "cell_type": "markdown",
   "id": "77afbd6d",
   "metadata": {},
   "source": [
    "## MODEL ACCURACY "
   ]
  },
  {
   "cell_type": "code",
   "execution_count": 182,
   "id": "3bf79546",
   "metadata": {},
   "outputs": [
    {
     "name": "stdout",
     "output_type": "stream",
     "text": [
      "0.9517789214589394\n"
     ]
    }
   ],
   "source": [
    "print(accuracy_score(y_test,PREMB))"
   ]
  },
  {
   "cell_type": "markdown",
   "id": "d56b8f9e",
   "metadata": {},
   "source": [
    "## CONFUSION MATRIX"
   ]
  },
  {
   "cell_type": "code",
   "execution_count": 183,
   "id": "546a9d8e",
   "metadata": {},
   "outputs": [
    {
     "name": "stdout",
     "output_type": "stream",
     "text": [
      "[[4457  310]\n",
      " [ 121 4050]]\n"
     ]
    }
   ],
   "source": [
    "print(confusion_matrix(y_test,PREMB))"
   ]
  },
  {
   "cell_type": "markdown",
   "id": "ef66b9f4",
   "metadata": {},
   "source": [
    "## CLASSIFICATION REPORT "
   ]
  },
  {
   "cell_type": "code",
   "execution_count": 184,
   "id": "99042ed3",
   "metadata": {},
   "outputs": [
    {
     "name": "stdout",
     "output_type": "stream",
     "text": [
      "              precision    recall  f1-score   support\n",
      "\n",
      "           0       0.97      0.93      0.95      4767\n",
      "           1       0.93      0.97      0.95      4171\n",
      "\n",
      "    accuracy                           0.95      8938\n",
      "   macro avg       0.95      0.95      0.95      8938\n",
      "weighted avg       0.95      0.95      0.95      8938\n",
      "\n"
     ]
    }
   ],
   "source": [
    "print(classification_report(y_test,PREMB))"
   ]
  },
  {
   "cell_type": "markdown",
   "id": "c7462008",
   "metadata": {},
   "source": [
    "## AUC ROC CURVE "
   ]
  },
  {
   "cell_type": "code",
   "execution_count": 185,
   "id": "7a441677",
   "metadata": {},
   "outputs": [],
   "source": [
    "y_pred_prob3=gb.predict_proba(x_test)[:,1]"
   ]
  },
  {
   "cell_type": "code",
   "execution_count": 186,
   "id": "0b47acac",
   "metadata": {},
   "outputs": [
    {
     "data": {
      "text/plain": [
       "array([0., 1., 0., ..., 0., 0., 1.])"
      ]
     },
     "execution_count": 186,
     "metadata": {},
     "output_type": "execute_result"
    }
   ],
   "source": [
    "y_pred_prob3"
   ]
  },
  {
   "cell_type": "code",
   "execution_count": 187,
   "id": "0bb0379c",
   "metadata": {},
   "outputs": [],
   "source": [
    "tpr,fpr,thresholds=roc_curve(y_test,y_pred_prob3)"
   ]
  },
  {
   "cell_type": "code",
   "execution_count": 188,
   "id": "5bd585b8",
   "metadata": {},
   "outputs": [
    {
     "data": {
      "text/plain": [
       "array([0.        , 0.06377176, 0.06419132, 0.06419132, 0.06461087,\n",
       "       0.06461087, 0.06503042, 0.06503042, 0.06565974, 0.06565974,\n",
       "       0.0660793 , 0.0660793 , 0.06628907, 0.06628907, 0.06670862,\n",
       "       0.06754772, 0.06754772, 0.06796728, 0.06838683, 0.06880638,\n",
       "       0.06880638, 0.06922593, 0.06922593, 0.06964548, 0.06964548,\n",
       "       0.06985525, 0.06985525, 0.07027481, 0.07027481, 0.07048458,\n",
       "       0.07048458, 0.07069436, 0.07069436, 0.07111391, 0.07174323,\n",
       "       0.07174323, 0.07195301, 0.07195301, 0.07258234, 0.07258234,\n",
       "       0.07300189, 0.07300189, 0.07342144, 0.07342144, 0.07363121,\n",
       "       0.07363121, 0.07384099, 0.07384099, 0.07405077, 0.07405077,\n",
       "       0.07426054, 0.07426054, 0.07468009, 0.07468009, 0.07488987,\n",
       "       0.07488987, 0.07551919, 0.07551919, 0.07614852, 0.07614852,\n",
       "       0.07656807, 0.07656807, 0.07824628, 0.07824628, 0.07950493,\n",
       "       0.07950493, 0.07971471, 0.08013426, 0.08076358, 0.08076358,\n",
       "       0.08181246, 0.08181246, 0.08244179, 0.08244179, 0.08265156,\n",
       "       0.08265156, 0.08286134, 0.08286134, 0.08328089, 0.08432977,\n",
       "       0.08432977, 0.08516887, 0.08558842, 0.08558842, 0.08621775,\n",
       "       0.0866373 , 0.08726662, 0.08768618, 0.08810573, 0.08810573,\n",
       "       0.0883155 , 0.0883155 , 0.08894483, 0.08936438, 0.09125236,\n",
       "       0.09125236, 1.        ])"
      ]
     },
     "execution_count": 188,
     "metadata": {},
     "output_type": "execute_result"
    }
   ],
   "source": [
    "tpr"
   ]
  },
  {
   "cell_type": "code",
   "execution_count": 189,
   "id": "0ddb09af",
   "metadata": {},
   "outputs": [
    {
     "data": {
      "text/plain": [
       "array([0.        , 0.97027092, 0.97027092, 0.97051067, 0.97051067,\n",
       "       0.97075042, 0.97075042, 0.97099017, 0.97099017, 0.97146967,\n",
       "       0.97146967, 0.97194917, 0.97194917, 0.97242867, 0.97242867,\n",
       "       0.97242867, 0.97266842, 0.97266842, 0.97266842, 0.97266842,\n",
       "       0.97290818, 0.97290818, 0.97314793, 0.97314793, 0.97362743,\n",
       "       0.97362743, 0.97410693, 0.97410693, 0.97434668, 0.97434668,\n",
       "       0.97458643, 0.97458643, 0.97482618, 0.97482618, 0.97482618,\n",
       "       0.97506593, 0.97506593, 0.97530568, 0.97530568, 0.97578518,\n",
       "       0.97578518, 0.97626468, 0.97626468, 0.97650444, 0.97650444,\n",
       "       0.97698394, 0.97698394, 0.97722369, 0.97722369, 0.97794294,\n",
       "       0.97794294, 0.97818269, 0.97818269, 0.97842244, 0.97842244,\n",
       "       0.97890194, 0.97890194, 0.97914169, 0.97914169, 0.97938144,\n",
       "       0.97938144, 0.9801007 , 0.9801007 , 0.9805802 , 0.9805802 ,\n",
       "       0.9810597 , 0.9810597 , 0.9810597 , 0.9810597 , 0.9815392 ,\n",
       "       0.9815392 , 0.9820187 , 0.9820187 , 0.98225845, 0.98225845,\n",
       "       0.9824982 , 0.9824982 , 0.98273795, 0.98273795, 0.98273795,\n",
       "       0.98321745, 0.98321745, 0.98321745, 0.9834572 , 0.9834572 ,\n",
       "       0.9834572 , 0.9834572 , 0.9834572 , 0.9834572 , 0.98369696,\n",
       "       0.98369696, 0.98393671, 0.98393671, 0.98393671, 0.98393671,\n",
       "       0.98417646, 1.        ])"
      ]
     },
     "execution_count": 189,
     "metadata": {},
     "output_type": "execute_result"
    }
   ],
   "source": [
    "fpr"
   ]
  },
  {
   "cell_type": "code",
   "execution_count": 190,
   "id": "e8ab095b",
   "metadata": {},
   "outputs": [
    {
     "data": {
      "text/plain": [
       "array([2.00000000e+000, 1.00000000e+000, 1.00000000e+000, 9.99999961e-001,\n",
       "       9.99887495e-001, 9.98400960e-001, 9.89982372e-001, 9.81801650e-001,\n",
       "       5.17044235e-010, 6.80354991e-011, 1.85154011e-014, 1.96460244e-022,\n",
       "       3.67614290e-023, 3.75036018e-028, 7.90380779e-033, 1.09629114e-038,\n",
       "       7.28691864e-039, 1.65373446e-041, 8.78617376e-044, 6.22474989e-050,\n",
       "       6.65288906e-051, 7.08142972e-054, 1.96228487e-056, 1.59785193e-061,\n",
       "       3.38034137e-065, 1.54255945e-068, 4.52833996e-070, 1.76117544e-070,\n",
       "       9.79127934e-072, 2.82676660e-073, 1.87464415e-078, 2.35365388e-079,\n",
       "       5.65074679e-082, 1.31566226e-083, 1.96804871e-092, 1.02355447e-094,\n",
       "       1.70272663e-096, 8.64449815e-097, 1.51586445e-100, 1.04050186e-103,\n",
       "       3.87373424e-113, 4.80203639e-116, 2.04828444e-118, 3.84160866e-120,\n",
       "       3.32750047e-120, 1.49261703e-123, 1.43236299e-123, 3.10545514e-124,\n",
       "       2.27199368e-124, 1.79774535e-133, 3.27171528e-137, 4.86342449e-139,\n",
       "       3.13296037e-142, 5.85176165e-146, 2.59136746e-146, 1.53195058e-146,\n",
       "       5.14721837e-151, 1.33896609e-151, 5.30132416e-158, 1.36727846e-158,\n",
       "       1.07553909e-166, 1.46544761e-175, 4.31570943e-194, 8.82788865e-196,\n",
       "       2.00329319e-201, 1.55430109e-201, 3.04222393e-202, 1.08206924e-202,\n",
       "       2.83776742e-205, 6.07041807e-206, 2.53661664e-218, 3.20774284e-222,\n",
       "       2.63553271e-227, 5.21959062e-229, 4.69793243e-232, 4.18533721e-233,\n",
       "       5.09561770e-239, 1.37021055e-240, 6.64903766e-243, 1.05795960e-252,\n",
       "       1.97135474e-253, 2.41317721e-258, 1.83239487e-258, 1.25084405e-263,\n",
       "       1.59491707e-271, 4.03311480e-274, 6.63265596e-280, 8.53985959e-281,\n",
       "       4.57684132e-283, 8.88688649e-284, 3.09196402e-284, 6.62843577e-286,\n",
       "       1.66274096e-292, 5.45888511e-294, 7.01573217e-322, 2.47032823e-323,\n",
       "       0.00000000e+000])"
      ]
     },
     "execution_count": 190,
     "metadata": {},
     "output_type": "execute_result"
    }
   ],
   "source": [
    "thresholds"
   ]
  },
  {
   "cell_type": "code",
   "execution_count": 191,
   "id": "03787bd0",
   "metadata": {},
   "outputs": [
    {
     "data": {
      "image/png": "[encoded data removed]",
      "text/plain": [
       "<Figure size 432x288 with 1 Axes>"
      ]
     },
     "metadata": {
      "needs_background": "light"
     },
     "output_type": "display_data"
    }
   ],
   "source": [
    "plt.plot([0,1],[0,1],'k--')\n",
    "plt.plot(tpr,fpr,label='GB')\n",
    "plt.xlabel('FALSE_POSITIVE_RATE')\n",
    "plt.ylabel('TRUE_POSITIVE_RATE')\n",
    "plt.title('GB_CLASSIFIER')\n",
    "plt.show()"
   ]
  },
  {
   "cell_type": "code",
   "execution_count": 192,
   "id": "ca3925ba",
   "metadata": {},
   "outputs": [
    {
     "data": {
      "text/plain": [
       "0.9529798763848216"
      ]
     },
     "execution_count": 192,
     "metadata": {},
     "output_type": "execute_result"
    }
   ],
   "source": [
    "auc_score=roc_auc_score(y_test,(gb.predict(x_test)))\n",
    "auc_score"
   ]
  },
  {
   "cell_type": "markdown",
   "id": "965fb03a",
   "metadata": {},
   "source": [
    "## RANDOM FOREST CLASSIFIER "
   ]
  },
  {
   "cell_type": "code",
   "execution_count": 193,
   "id": "0b8d99e9",
   "metadata": {},
   "outputs": [],
   "source": [
    "rm=RandomForestClassifier()"
   ]
  },
  {
   "cell_type": "code",
   "execution_count": 194,
   "id": "ffb7c6ed",
   "metadata": {},
   "outputs": [
    {
     "name": "stdout",
     "output_type": "stream",
     "text": [
      "At random_state {0} the training accuracy test is 0.9999720287544405\n",
      "At random_state {0} the testing accuracy test is 0.9982098903557843\n",
      "\n",
      "\n",
      "At random_state {1} the training accuracy test is 1.0\n",
      "At random_state {1} the testing accuracy test is 0.9976504810919669\n",
      "\n",
      "\n",
      "At random_state {2} the training accuracy test is 0.9999720287544405\n",
      "At random_state {2} the testing accuracy test is 0.9983217722085478\n",
      "\n",
      "\n",
      "At random_state {3} the training accuracy test is 1.0\n",
      "At random_state {3} the testing accuracy test is 0.9973148355336764\n",
      "\n",
      "\n",
      "At random_state {4} the training accuracy test is 0.9999720287544405\n",
      "At random_state {4} the testing accuracy test is 0.9984336540613112\n",
      "\n",
      "\n",
      "At random_state {5} the training accuracy test is 0.9999720287544405\n",
      "At random_state {5} the testing accuracy test is 0.9985455359140747\n",
      "\n",
      "\n",
      "At random_state {6} the training accuracy test is 0.9999720287544405\n",
      "At random_state {6} the testing accuracy test is 0.9976504810919669\n",
      "\n",
      "\n",
      "At random_state {7} the training accuracy test is 0.9999720287544405\n",
      "At random_state {7} the testing accuracy test is 0.9982098903557843\n",
      "\n",
      "\n",
      "At random_state {8} the training accuracy test is 1.0\n",
      "At random_state {8} the testing accuracy test is 0.9976504810919669\n",
      "\n",
      "\n",
      "At random_state {9} the training accuracy test is 0.9999720287544405\n",
      "At random_state {9} the testing accuracy test is 0.9980980085030208\n",
      "\n",
      "\n",
      "At random_state {10} the training accuracy test is 0.9999720287544405\n",
      "At random_state {10} the testing accuracy test is 0.9980980085030208\n",
      "\n",
      "\n",
      "At random_state {11} the training accuracy test is 0.9999720287544405\n",
      "At random_state {11} the testing accuracy test is 0.9972029536809129\n",
      "\n",
      "\n",
      "At random_state {12} the training accuracy test is 0.9999720287544405\n",
      "At random_state {12} the testing accuracy test is 0.9986574177668383\n",
      "\n",
      "\n",
      "At random_state {13} the training accuracy test is 1.0\n",
      "At random_state {13} the testing accuracy test is 0.9978742447974939\n",
      "\n",
      "\n",
      "At random_state {14} the training accuracy test is 0.9999720287544405\n",
      "At random_state {14} the testing accuracy test is 0.9980980085030208\n",
      "\n",
      "\n",
      "At random_state {15} the training accuracy test is 0.9999720287544405\n",
      "At random_state {15} the testing accuracy test is 0.9978742447974939\n",
      "\n",
      "\n",
      "At random_state {16} the training accuracy test is 0.9999720287544405\n",
      "At random_state {16} the testing accuracy test is 0.9976504810919669\n",
      "\n",
      "\n",
      "At random_state {17} the training accuracy test is 0.9999720287544405\n",
      "At random_state {17} the testing accuracy test is 0.9982098903557843\n",
      "\n",
      "\n",
      "At random_state {18} the training accuracy test is 0.9999720287544405\n",
      "At random_state {18} the testing accuracy test is 0.9984336540613112\n",
      "\n",
      "\n",
      "At random_state {19} the training accuracy test is 0.9999720287544405\n",
      "At random_state {19} the testing accuracy test is 0.9987692996196017\n",
      "\n",
      "\n",
      "At random_state {20} the training accuracy test is 0.9999720287544405\n",
      "At random_state {20} the testing accuracy test is 0.9979861266502573\n",
      "\n",
      "\n",
      "At random_state {21} the training accuracy test is 0.9999720287544405\n",
      "At random_state {21} the testing accuracy test is 0.9972029536809129\n",
      "\n",
      "\n",
      "At random_state {22} the training accuracy test is 0.9999720287544405\n",
      "At random_state {22} the testing accuracy test is 0.9979861266502573\n",
      "\n",
      "\n",
      "At random_state {23} the training accuracy test is 0.9999720287544405\n",
      "At random_state {23} the testing accuracy test is 0.9982098903557843\n",
      "\n",
      "\n",
      "At random_state {24} the training accuracy test is 1.0\n",
      "At random_state {24} the testing accuracy test is 0.9980980085030208\n",
      "\n",
      "\n",
      "At random_state {25} the training accuracy test is 0.9999720287544405\n",
      "At random_state {25} the testing accuracy test is 0.9984336540613112\n",
      "\n",
      "\n",
      "At random_state {26} the training accuracy test is 0.9999720287544405\n",
      "At random_state {26} the testing accuracy test is 0.9976504810919669\n",
      "\n",
      "\n",
      "At random_state {27} the training accuracy test is 0.9999720287544405\n",
      "At random_state {27} the testing accuracy test is 0.9973148355336764\n",
      "\n",
      "\n",
      "At random_state {28} the training accuracy test is 0.9999720287544405\n",
      "At random_state {28} the testing accuracy test is 0.9989930633251287\n",
      "\n",
      "\n",
      "At random_state {29} the training accuracy test is 0.9999720287544405\n",
      "At random_state {29} the testing accuracy test is 0.9982098903557843\n",
      "\n",
      "\n",
      "At random_state {30} the training accuracy test is 0.9999720287544405\n",
      "At random_state {30} the testing accuracy test is 0.9985455359140747\n",
      "\n",
      "\n",
      "At random_state {31} the training accuracy test is 0.9999720287544405\n",
      "At random_state {31} the testing accuracy test is 0.9975385992392034\n",
      "\n",
      "\n",
      "At random_state {32} the training accuracy test is 0.9999720287544405\n",
      "At random_state {32} the testing accuracy test is 0.9983217722085478\n",
      "\n",
      "\n",
      "At random_state {33} the training accuracy test is 0.9999720287544405\n",
      "At random_state {33} the testing accuracy test is 0.9979861266502573\n",
      "\n",
      "\n",
      "At random_state {34} the training accuracy test is 0.9999720287544405\n",
      "At random_state {34} the testing accuracy test is 0.9988811814723652\n",
      "\n",
      "\n",
      "At random_state {35} the training accuracy test is 1.0\n",
      "At random_state {35} the testing accuracy test is 0.9984336540613112\n",
      "\n",
      "\n",
      "At random_state {36} the training accuracy test is 0.9999720287544405\n",
      "At random_state {36} the testing accuracy test is 0.9985455359140747\n",
      "\n",
      "\n",
      "At random_state {37} the training accuracy test is 0.9999720287544405\n",
      "At random_state {37} the testing accuracy test is 0.9984336540613112\n",
      "\n",
      "\n",
      "At random_state {38} the training accuracy test is 0.9999720287544405\n",
      "At random_state {38} the testing accuracy test is 0.9985455359140747\n",
      "\n",
      "\n",
      "At random_state {39} the training accuracy test is 0.9999720287544405\n",
      "At random_state {39} the testing accuracy test is 0.9980980085030208\n",
      "\n",
      "\n",
      "At random_state {40} the training accuracy test is 0.9999720287544405\n",
      "At random_state {40} the testing accuracy test is 0.9978742447974939\n",
      "\n",
      "\n",
      "At random_state {41} the training accuracy test is 0.9999720287544405\n",
      "At random_state {41} the testing accuracy test is 0.9986574177668383\n",
      "\n",
      "\n",
      "At random_state {42} the training accuracy test is 0.9999720287544405\n",
      "At random_state {42} the testing accuracy test is 0.9977623629447304\n",
      "\n",
      "\n",
      "At random_state {43} the training accuracy test is 0.9999720287544405\n",
      "At random_state {43} the testing accuracy test is 0.99742671738644\n",
      "\n",
      "\n",
      "At random_state {44} the training accuracy test is 1.0\n",
      "At random_state {44} the testing accuracy test is 0.9984336540613112\n",
      "\n",
      "\n",
      "At random_state {45} the training accuracy test is 0.9999720287544405\n",
      "At random_state {45} the testing accuracy test is 0.9975385992392034\n",
      "\n",
      "\n",
      "At random_state {46} the training accuracy test is 0.9999720287544405\n",
      "At random_state {46} the testing accuracy test is 0.9984336540613112\n",
      "\n",
      "\n",
      "At random_state {47} the training accuracy test is 0.9999720287544405\n",
      "At random_state {47} the testing accuracy test is 0.99742671738644\n",
      "\n",
      "\n",
      "At random_state {48} the training accuracy test is 0.9999720287544405\n",
      "At random_state {48} the testing accuracy test is 0.9979861266502573\n",
      "\n",
      "\n",
      "At random_state {49} the training accuracy test is 0.9999720287544405\n",
      "At random_state {49} the testing accuracy test is 0.9976504810919669\n",
      "\n",
      "\n",
      "At random_state {50} the training accuracy test is 1.0\n",
      "At random_state {50} the testing accuracy test is 0.9975385992392034\n",
      "\n",
      "\n",
      "At random_state {51} the training accuracy test is 0.9999720287544405\n",
      "At random_state {51} the testing accuracy test is 0.9979861266502573\n",
      "\n",
      "\n",
      "At random_state {52} the training accuracy test is 0.9999720287544405\n",
      "At random_state {52} the testing accuracy test is 0.9984336540613112\n",
      "\n",
      "\n",
      "At random_state {53} the training accuracy test is 0.9999720287544405\n",
      "At random_state {53} the testing accuracy test is 0.9983217722085478\n",
      "\n",
      "\n",
      "At random_state {54} the training accuracy test is 0.9999720287544405\n",
      "At random_state {54} the testing accuracy test is 0.9983217722085478\n",
      "\n",
      "\n",
      "At random_state {55} the training accuracy test is 0.9999720287544405\n",
      "At random_state {55} the testing accuracy test is 0.9976504810919669\n",
      "\n",
      "\n",
      "At random_state {56} the training accuracy test is 0.9999720287544405\n",
      "At random_state {56} the testing accuracy test is 0.9977623629447304\n",
      "\n",
      "\n",
      "At random_state {57} the training accuracy test is 0.9999720287544405\n",
      "At random_state {57} the testing accuracy test is 0.9982098903557843\n",
      "\n",
      "\n",
      "At random_state {58} the training accuracy test is 0.9999720287544405\n",
      "At random_state {58} the testing accuracy test is 0.9982098903557843\n",
      "\n",
      "\n",
      "At random_state {59} the training accuracy test is 1.0\n",
      "At random_state {59} the testing accuracy test is 0.9976504810919669\n",
      "\n",
      "\n",
      "At random_state {60} the training accuracy test is 0.9999720287544405\n",
      "At random_state {60} the testing accuracy test is 0.9984336540613112\n",
      "\n",
      "\n",
      "At random_state {61} the training accuracy test is 0.9999720287544405\n",
      "At random_state {61} the testing accuracy test is 0.9978742447974939\n",
      "\n",
      "\n",
      "At random_state {62} the training accuracy test is 0.9999720287544405\n",
      "At random_state {62} the testing accuracy test is 0.99742671738644\n",
      "\n",
      "\n",
      "At random_state {63} the training accuracy test is 0.9999720287544405\n",
      "At random_state {63} the testing accuracy test is 0.9979861266502573\n",
      "\n",
      "\n",
      "At random_state {64} the training accuracy test is 0.9999720287544405\n",
      "At random_state {64} the testing accuracy test is 0.9980980085030208\n",
      "\n",
      "\n",
      "At random_state {65} the training accuracy test is 0.9999720287544405\n",
      "At random_state {65} the testing accuracy test is 0.9979861266502573\n",
      "\n",
      "\n",
      "At random_state {66} the training accuracy test is 1.0\n",
      "At random_state {66} the testing accuracy test is 0.9979861266502573\n",
      "\n",
      "\n",
      "At random_state {67} the training accuracy test is 0.9999720287544405\n",
      "At random_state {67} the testing accuracy test is 0.9985455359140747\n",
      "\n",
      "\n",
      "At random_state {68} the training accuracy test is 0.9999720287544405\n",
      "At random_state {68} the testing accuracy test is 0.9980980085030208\n",
      "\n",
      "\n",
      "At random_state {69} the training accuracy test is 0.9999720287544405\n",
      "At random_state {69} the testing accuracy test is 0.9988811814723652\n",
      "\n",
      "\n",
      "At random_state {70} the training accuracy test is 0.9999720287544405\n",
      "At random_state {70} the testing accuracy test is 0.9982098903557843\n",
      "\n",
      "\n",
      "At random_state {71} the training accuracy test is 0.9999720287544405\n",
      "At random_state {71} the testing accuracy test is 0.9978742447974939\n",
      "\n",
      "\n",
      "At random_state {72} the training accuracy test is 0.9999720287544405\n",
      "At random_state {72} the testing accuracy test is 0.9982098903557843\n",
      "\n",
      "\n",
      "At random_state {73} the training accuracy test is 0.9999720287544405\n",
      "At random_state {73} the testing accuracy test is 0.99742671738644\n",
      "\n",
      "\n",
      "At random_state {74} the training accuracy test is 0.9999720287544405\n",
      "At random_state {74} the testing accuracy test is 0.996755426269859\n",
      "\n",
      "\n",
      "At random_state {75} the training accuracy test is 0.9999720287544405\n",
      "At random_state {75} the testing accuracy test is 0.9980980085030208\n",
      "\n",
      "\n",
      "At random_state {76} the training accuracy test is 0.9999720287544405\n",
      "At random_state {76} the testing accuracy test is 0.9991049451778922\n",
      "\n",
      "\n",
      "At random_state {77} the training accuracy test is 0.9999720287544405\n",
      "At random_state {77} the testing accuracy test is 0.9978742447974939\n",
      "\n",
      "\n",
      "At random_state {78} the training accuracy test is 0.9999720287544405\n",
      "At random_state {78} the testing accuracy test is 0.9983217722085478\n",
      "\n",
      "\n",
      "At random_state {79} the training accuracy test is 0.9999720287544405\n",
      "At random_state {79} the testing accuracy test is 0.996755426269859\n",
      "\n",
      "\n",
      "At random_state {80} the training accuracy test is 0.9999720287544405\n",
      "At random_state {80} the testing accuracy test is 0.9984336540613112\n",
      "\n",
      "\n",
      "At random_state {81} the training accuracy test is 0.9999720287544405\n",
      "At random_state {81} the testing accuracy test is 0.9986574177668383\n",
      "\n",
      "\n",
      "At random_state {82} the training accuracy test is 0.9999720287544405\n",
      "At random_state {82} the testing accuracy test is 0.9975385992392034\n",
      "\n",
      "\n",
      "At random_state {83} the training accuracy test is 0.9999720287544405\n",
      "At random_state {83} the testing accuracy test is 0.9979861266502573\n",
      "\n",
      "\n",
      "At random_state {84} the training accuracy test is 0.9999720287544405\n",
      "At random_state {84} the testing accuracy test is 0.996531662564332\n",
      "\n",
      "\n",
      "At random_state {85} the training accuracy test is 0.9999720287544405\n",
      "At random_state {85} the testing accuracy test is 0.9976504810919669\n",
      "\n",
      "\n",
      "At random_state {86} the training accuracy test is 0.9999720287544405\n",
      "At random_state {86} the testing accuracy test is 0.9979861266502573\n",
      "\n",
      "\n",
      "At random_state {87} the training accuracy test is 0.9999720287544405\n",
      "At random_state {87} the testing accuracy test is 0.9980980085030208\n",
      "\n",
      "\n",
      "At random_state {88} the training accuracy test is 0.9999720287544405\n",
      "At random_state {88} the testing accuracy test is 0.9968673081226225\n",
      "\n",
      "\n",
      "At random_state {89} the training accuracy test is 0.9999720287544405\n",
      "At random_state {89} the testing accuracy test is 0.9979861266502573\n",
      "\n",
      "\n",
      "At random_state {90} the training accuracy test is 0.9999720287544405\n",
      "At random_state {90} the testing accuracy test is 0.9982098903557843\n",
      "\n",
      "\n",
      "At random_state {91} the training accuracy test is 1.0\n",
      "At random_state {91} the testing accuracy test is 0.9980980085030208\n",
      "\n",
      "\n",
      "At random_state {92} the training accuracy test is 1.0\n",
      "At random_state {92} the testing accuracy test is 0.9975385992392034\n",
      "\n",
      "\n",
      "At random_state {93} the training accuracy test is 1.0\n",
      "At random_state {93} the testing accuracy test is 0.9975385992392034\n",
      "\n",
      "\n",
      "At random_state {94} the training accuracy test is 0.9999720287544405\n",
      "At random_state {94} the testing accuracy test is 0.9977623629447304\n",
      "\n",
      "\n",
      "At random_state {95} the training accuracy test is 0.9999720287544405\n",
      "At random_state {95} the testing accuracy test is 0.9984336540613112\n",
      "\n",
      "\n",
      "At random_state {96} the training accuracy test is 0.9999720287544405\n",
      "At random_state {96} the testing accuracy test is 0.9985455359140747\n",
      "\n",
      "\n",
      "At random_state {97} the training accuracy test is 0.9999720287544405\n",
      "At random_state {97} the testing accuracy test is 0.9977623629447304\n",
      "\n",
      "\n",
      "At random_state {98} the training accuracy test is 1.0\n",
      "At random_state {98} the testing accuracy test is 0.9979861266502573\n",
      "\n",
      "\n",
      "At random_state {99} the training accuracy test is 0.9999720287544405\n",
      "At random_state {99} the testing accuracy test is 0.9983217722085478\n",
      "\n",
      "\n"
     ]
    }
   ],
   "source": [
    "for i in range(0,100):\n",
    "    x_train,x_test,y_train,y_test=train_test_split(X,Y,test_size=0.20,random_state=i)\n",
    "    rm.fit(x_train,y_train)\n",
    "    predrm=rm.predict(x_train)\n",
    "    predrm1=rm.predict(x_test)\n",
    "    print('At random_state' ,{i}, 'the training accuracy test is', accuracy_score(y_train,predrm))\n",
    "    print('At random_state' ,{i}, 'the testing accuracy test is', accuracy_score(y_test,predrm1))\n",
    "    print('\\n')"
   ]
  },
  {
   "cell_type": "markdown",
   "id": "f40ea7d4",
   "metadata": {},
   "source": [
    "## AT RANDOM STATE 28 WE HAVE THE HIGHEST ACCURACY OF 99.89%"
   ]
  },
  {
   "cell_type": "code",
   "execution_count": 196,
   "id": "2b182e0a",
   "metadata": {},
   "outputs": [],
   "source": [
    "x_train,x_test,y_train,y_test=train_test_split(X,Y,test_size=0.20,random_state=28)"
   ]
  },
  {
   "cell_type": "code",
   "execution_count": 197,
   "id": "b743d5f0",
   "metadata": {},
   "outputs": [
    {
     "data": {
      "text/html": [
       "<style>#sk-container-id-3 {color: black;background-color: white;}#sk-container-id-3 pre{padding: 0;}#sk-container-id-3 div.sk-toggleable {background-color: white;}#sk-container-id-3 label.sk-toggleable__label {cursor: pointer;display: block;width: 100%;margin-bottom: 0;padding: 0.3em;box-sizing: border-box;text-align: center;}#sk-container-id-3 label.sk-toggleable__label-arrow:before {content: \"▸\";float: left;margin-right: 0.25em;color: #696969;}#sk-container-id-3 label.sk-toggleable__label-arrow:hover:before {color: black;}#sk-container-id-3 div.sk-estimator:hover label.sk-toggleable__label-arrow:before {color: black;}#sk-container-id-3 div.sk-toggleable__content {max-height: 0;max-width: 0;overflow: hidden;text-align: left;background-color: #f0f8ff;}#sk-container-id-3 div.sk-toggleable__content pre {margin: 0.2em;color: black;border-radius: 0.25em;background-color: #f0f8ff;}#sk-container-id-3 input.sk-toggleable__control:checked~div.sk-toggleable__content {max-height: 200px;max-width: 100%;overflow: auto;}#sk-container-id-3 input.sk-toggleable__control:checked~label.sk-toggleable__label-arrow:before {content: \"▾\";}#sk-container-id-3 div.sk-estimator input.sk-toggleable__control:checked~label.sk-toggleable__label {background-color: #d4ebff;}#sk-container-id-3 div.sk-label input.sk-toggleable__control:checked~label.sk-toggleable__label {background-color: #d4ebff;}#sk-container-id-3 input.sk-hidden--visually {border: 0;clip: rect(1px 1px 1px 1px);clip: rect(1px, 1px, 1px, 1px);height: 1px;margin: -1px;overflow: hidden;padding: 0;position: absolute;width: 1px;}#sk-container-id-3 div.sk-estimator {font-family: monospace;background-color: #f0f8ff;border: 1px dotted black;border-radius: 0.25em;box-sizing: border-box;margin-bottom: 0.5em;}#sk-container-id-3 div.sk-estimator:hover {background-color: #d4ebff;}#sk-container-id-3 div.sk-parallel-item::after {content: \"\";width: 100%;border-bottom: 1px solid gray;flex-grow: 1;}#sk-container-id-3 div.sk-label:hover label.sk-toggleable__label {background-color: #d4ebff;}#sk-container-id-3 div.sk-serial::before {content: \"\";position: absolute;border-left: 1px solid gray;box-sizing: border-box;top: 0;bottom: 0;left: 50%;z-index: 0;}#sk-container-id-3 div.sk-serial {display: flex;flex-direction: column;align-items: center;background-color: white;padding-right: 0.2em;padding-left: 0.2em;position: relative;}#sk-container-id-3 div.sk-item {position: relative;z-index: 1;}#sk-container-id-3 div.sk-parallel {display: flex;align-items: stretch;justify-content: center;background-color: white;position: relative;}#sk-container-id-3 div.sk-item::before, #sk-container-id-3 div.sk-parallel-item::before {content: \"\";position: absolute;border-left: 1px solid gray;box-sizing: border-box;top: 0;bottom: 0;left: 50%;z-index: -1;}#sk-container-id-3 div.sk-parallel-item {display: flex;flex-direction: column;z-index: 1;position: relative;background-color: white;}#sk-container-id-3 div.sk-parallel-item:first-child::after {align-self: flex-end;width: 50%;}#sk-container-id-3 div.sk-parallel-item:last-child::after {align-self: flex-start;width: 50%;}#sk-container-id-3 div.sk-parallel-item:only-child::after {width: 0;}#sk-container-id-3 div.sk-dashed-wrapped {border: 1px dashed gray;margin: 0 0.4em 0.5em 0.4em;box-sizing: border-box;padding-bottom: 0.4em;background-color: white;}#sk-container-id-3 div.sk-label label {font-family: monospace;font-weight: bold;display: inline-block;line-height: 1.2em;}#sk-container-id-3 div.sk-label-container {text-align: center;}#sk-container-id-3 div.sk-container {/* jupyter's `normalize.less` sets `[hidden] { display: none; }` but bootstrap.min.css set `[hidden] { display: none !important; }` so we also need the `!important` here to be able to override the default hidden behavior on the sphinx rendered scikit-learn.org. See: https://github.com/scikit-learn/scikit-learn/issues/21755 */display: inline-block !important;position: relative;}#sk-container-id-3 div.sk-text-repr-fallback {display: none;}</style><div id=\"sk-container-id-3\" class=\"sk-top-container\"><div class=\"sk-text-repr-fallback\"><pre>RandomForestClassifier()</pre><b>In a Jupyter environment, please rerun this cell to show the HTML representation or trust the notebook. <br />On GitHub, the HTML representation is unable to render, please try loading this page with nbviewer.org.</b></div><div class=\"sk-container\" hidden><div class=\"sk-item\"><div class=\"sk-estimator sk-toggleable\"><input class=\"sk-toggleable__control sk-hidden--visually\" id=\"sk-estimator-id-3\" type=\"checkbox\" checked><label for=\"sk-estimator-id-3\" class=\"sk-toggleable__label sk-toggleable__label-arrow\">RandomForestClassifier</label><div class=\"sk-toggleable__content\"><pre>RandomForestClassifier()</pre></div></div></div></div></div>"
      ],
      "text/plain": [
       "RandomForestClassifier()"
      ]
     },
     "execution_count": 197,
     "metadata": {},
     "output_type": "execute_result"
    }
   ],
   "source": [
    "rm.fit(x_train,y_train)"
   ]
  },
  {
   "cell_type": "code",
   "execution_count": 198,
   "id": "3906b669",
   "metadata": {},
   "outputs": [],
   "source": [
    "PRERM=rm.predict(x_test)"
   ]
  },
  {
   "cell_type": "markdown",
   "id": "d065b453",
   "metadata": {},
   "source": [
    "## MODEL ACCURACY "
   ]
  },
  {
   "cell_type": "code",
   "execution_count": 199,
   "id": "ebc461b7",
   "metadata": {},
   "outputs": [
    {
     "name": "stdout",
     "output_type": "stream",
     "text": [
      "0.9989930633251287\n"
     ]
    }
   ],
   "source": [
    "print(accuracy_score(y_test,PRERM))"
   ]
  },
  {
   "cell_type": "markdown",
   "id": "1dc507cb",
   "metadata": {},
   "source": [
    "## CONFUSION MATRIX"
   ]
  },
  {
   "cell_type": "code",
   "execution_count": 200,
   "id": "f2b5fd04",
   "metadata": {},
   "outputs": [
    {
     "name": "stdout",
     "output_type": "stream",
     "text": [
      "[[4676    6]\n",
      " [   3 4253]]\n"
     ]
    }
   ],
   "source": [
    "print(confusion_matrix(y_test,PRERM))"
   ]
  },
  {
   "cell_type": "markdown",
   "id": "135e4090",
   "metadata": {},
   "source": [
    "## CLASSIFICATION REPORT "
   ]
  },
  {
   "cell_type": "code",
   "execution_count": 201,
   "id": "64609adc",
   "metadata": {},
   "outputs": [
    {
     "name": "stdout",
     "output_type": "stream",
     "text": [
      "              precision    recall  f1-score   support\n",
      "\n",
      "           0       1.00      1.00      1.00      4682\n",
      "           1       1.00      1.00      1.00      4256\n",
      "\n",
      "    accuracy                           1.00      8938\n",
      "   macro avg       1.00      1.00      1.00      8938\n",
      "weighted avg       1.00      1.00      1.00      8938\n",
      "\n"
     ]
    }
   ],
   "source": [
    "print(classification_report(y_test,PRERM))"
   ]
  },
  {
   "cell_type": "markdown",
   "id": "06cf073d",
   "metadata": {},
   "source": [
    "## AUC ROC CURVE "
   ]
  },
  {
   "cell_type": "code",
   "execution_count": 202,
   "id": "69f68d58",
   "metadata": {},
   "outputs": [],
   "source": [
    "y_pred_prob4=rm.predict_proba(x_test)[:,1]"
   ]
  },
  {
   "cell_type": "code",
   "execution_count": 203,
   "id": "f43dc55d",
   "metadata": {},
   "outputs": [
    {
     "data": {
      "text/plain": [
       "array([1.00000000e-02, 1.19248363e-04, 7.40000000e-01, ...,\n",
       "       9.20000000e-01, 9.20000000e-01, 9.50000000e-01])"
      ]
     },
     "execution_count": 203,
     "metadata": {},
     "output_type": "execute_result"
    }
   ],
   "source": [
    "y_pred_prob4"
   ]
  },
  {
   "cell_type": "code",
   "execution_count": 204,
   "id": "c42e0ddb",
   "metadata": {},
   "outputs": [],
   "source": [
    "tpr,fpr,thresholds=roc_curve(y_test,y_pred_prob4)"
   ]
  },
  {
   "cell_type": "code",
   "execution_count": 205,
   "id": "7638346b",
   "metadata": {},
   "outputs": [
    {
     "data": {
      "text/plain": [
       "array([0.00000000e+00, 0.00000000e+00, 0.00000000e+00, 0.00000000e+00,\n",
       "       0.00000000e+00, 0.00000000e+00, 0.00000000e+00, 0.00000000e+00,\n",
       "       0.00000000e+00, 0.00000000e+00, 0.00000000e+00, 0.00000000e+00,\n",
       "       0.00000000e+00, 0.00000000e+00, 0.00000000e+00, 0.00000000e+00,\n",
       "       0.00000000e+00, 0.00000000e+00, 0.00000000e+00, 0.00000000e+00,\n",
       "       0.00000000e+00, 0.00000000e+00, 0.00000000e+00, 0.00000000e+00,\n",
       "       0.00000000e+00, 0.00000000e+00, 0.00000000e+00, 0.00000000e+00,\n",
       "       0.00000000e+00, 0.00000000e+00, 2.13583938e-04, 2.13583938e-04,\n",
       "       2.13583938e-04, 4.27167877e-04, 4.27167877e-04, 4.27167877e-04,\n",
       "       4.27167877e-04, 4.27167877e-04, 4.27167877e-04, 4.27167877e-04,\n",
       "       4.27167877e-04, 4.27167877e-04, 4.27167877e-04, 4.27167877e-04,\n",
       "       4.27167877e-04, 6.40751815e-04, 6.40751815e-04, 6.40751815e-04,\n",
       "       6.40751815e-04, 6.40751815e-04, 6.40751815e-04, 6.40751815e-04,\n",
       "       8.54335754e-04, 1.06791969e-03, 1.06791969e-03, 1.06791969e-03,\n",
       "       1.28150363e-03, 1.92225545e-03, 2.13583938e-03, 2.56300726e-03,\n",
       "       3.84451089e-03, 4.69884665e-03, 5.98035028e-03, 8.54335754e-03,\n",
       "       9.82486117e-03, 1.11063648e-02, 1.19607006e-02, 1.38829560e-02,\n",
       "       1.55916275e-02, 1.70867151e-02, 1.75138830e-02, 1.77274669e-02,\n",
       "       2.11448099e-02, 2.15719778e-02, 2.32806493e-02, 2.58436566e-02,\n",
       "       2.71251602e-02, 3.09696711e-02, 3.11832550e-02, 3.58821017e-02,\n",
       "       3.63092695e-02, 3.97266126e-02, 4.69884665e-02, 5.27552328e-02,\n",
       "       5.29688167e-02, 6.10850064e-02, 6.12985903e-02, 6.85604443e-02,\n",
       "       6.87740282e-02, 7.85988894e-02, 7.88124733e-02, 8.75694148e-02,\n",
       "       9.44041008e-02, 9.46176848e-02, 1.05083298e-01, 1.05296882e-01,\n",
       "       1.19179838e-01, 1.19393422e-01, 1.33917129e-01, 1.34344297e-01,\n",
       "       1.47159334e-01, 1.47800085e-01, 1.64886801e-01, 1.65527552e-01,\n",
       "       1.86031610e-01, 1.86245194e-01, 1.86672362e-01, 2.08244340e-01,\n",
       "       2.09098676e-01, 2.37078172e-01, 2.37291756e-01, 2.37718924e-01,\n",
       "       2.38359675e-01, 2.79581375e-01, 2.81076463e-01, 3.21870995e-01,\n",
       "       3.22938915e-01, 3.71849637e-01, 3.72703973e-01, 4.34002563e-01,\n",
       "       4.35070483e-01, 4.35497651e-01, 5.16659547e-01, 5.18368219e-01,\n",
       "       5.18795387e-01, 5.19222554e-01, 6.10209312e-01, 6.13626655e-01,\n",
       "       6.14053823e-01, 6.14908159e-01, 7.34301581e-01, 7.34942332e-01,\n",
       "       7.35369500e-01, 7.36651004e-01, 7.37505340e-01, 7.37718924e-01,\n",
       "       8.52413499e-01, 8.78470739e-01, 8.83169586e-01, 8.83596754e-01,\n",
       "       8.84878257e-01, 8.85305425e-01, 8.86586929e-01, 8.87014097e-01,\n",
       "       8.87868432e-01, 8.88295600e-01, 8.89149936e-01, 1.00000000e+00])"
      ]
     },
     "execution_count": 205,
     "metadata": {},
     "output_type": "execute_result"
    }
   ],
   "source": [
    "tpr"
   ]
  },
  {
   "cell_type": "code",
   "execution_count": 206,
   "id": "992e7f28",
   "metadata": {},
   "outputs": [
    {
     "data": {
      "text/plain": [
       "array([0.        , 0.04041353, 0.10573308, 0.10596805, 0.18256579,\n",
       "       0.26644737, 0.26668233, 0.34774436, 0.42081767, 0.48378759,\n",
       "       0.54346805, 0.59844925, 0.59915414, 0.6506109 , 0.65084586,\n",
       "       0.6912594 , 0.69172932, 0.69196429, 0.73026316, 0.73049812,\n",
       "       0.76456767, 0.76480263, 0.79605263, 0.81860902, 0.81884398,\n",
       "       0.84046053, 0.86184211, 0.86207707, 0.88110902, 0.88157895,\n",
       "       0.89591165, 0.89614662, 0.90906955, 0.91917293, 0.93162594,\n",
       "       0.9318609 , 0.94337406, 0.94948308, 0.95700188, 0.97321429,\n",
       "       0.97744361, 0.98096805, 0.98378759, 0.98566729, 0.98707707,\n",
       "       0.98966165, 0.99107143, 0.99224624, 0.99365602, 0.99389098,\n",
       "       0.9943609 , 0.99506579, 0.99600564, 0.99671053, 0.99765038,\n",
       "       0.99906015, 0.99929511, 0.99929511, 0.99953008, 0.99953008,\n",
       "       0.99953008, 0.99953008, 0.99976504, 0.99976504, 0.99976504,\n",
       "       1.        , 1.        , 1.        , 1.        , 1.        ,\n",
       "       1.        , 1.        , 1.        , 1.        , 1.        ,\n",
       "       1.        , 1.        , 1.        , 1.        , 1.        ,\n",
       "       1.        , 1.        , 1.        , 1.        , 1.        ,\n",
       "       1.        , 1.        , 1.        , 1.        , 1.        ,\n",
       "       1.        , 1.        , 1.        , 1.        , 1.        ,\n",
       "       1.        , 1.        , 1.        , 1.        , 1.        ,\n",
       "       1.        , 1.        , 1.        , 1.        , 1.        ,\n",
       "       1.        , 1.        , 1.        , 1.        , 1.        ,\n",
       "       1.        , 1.        , 1.        , 1.        , 1.        ,\n",
       "       1.        , 1.        , 1.        , 1.        , 1.        ,\n",
       "       1.        , 1.        , 1.        , 1.        , 1.        ,\n",
       "       1.        , 1.        , 1.        , 1.        , 1.        ,\n",
       "       1.        , 1.        , 1.        , 1.        , 1.        ,\n",
       "       1.        , 1.        , 1.        , 1.        , 1.        ,\n",
       "       1.        , 1.        , 1.        , 1.        , 1.        ,\n",
       "       1.        , 1.        , 1.        ])"
      ]
     },
     "execution_count": 206,
     "metadata": {},
     "output_type": "execute_result"
    }
   ],
   "source": [
    "fpr"
   ]
  },
  {
   "cell_type": "code",
   "execution_count": 207,
   "id": "adb5595b",
   "metadata": {},
   "outputs": [
    {
     "data": {
      "text/plain": [
       "array([2.00000000e+00, 1.00000000e+00, 9.90000000e-01, 9.80021505e-01,\n",
       "       9.80000000e-01, 9.70000000e-01, 9.60039761e-01, 9.60000000e-01,\n",
       "       9.50000000e-01, 9.40000000e-01, 9.30000000e-01, 9.20000000e-01,\n",
       "       9.10018215e-01, 9.10000000e-01, 9.00020000e-01, 9.00000000e-01,\n",
       "       8.90074212e-01, 8.90035907e-01, 8.90000000e-01, 8.80018215e-01,\n",
       "       8.80000000e-01, 8.70020000e-01, 8.70000000e-01, 8.60000000e-01,\n",
       "       8.50035907e-01, 8.50000000e-01, 8.40000000e-01, 8.30020619e-01,\n",
       "       8.30000000e-01, 8.20019685e-01, 8.20000000e-01, 8.10018282e-01,\n",
       "       8.10000000e-01, 8.00000000e-01, 7.90000000e-01, 7.80074212e-01,\n",
       "       7.80000000e-01, 7.70000000e-01, 7.60000000e-01, 7.30000000e-01,\n",
       "       7.20000000e-01, 7.10000000e-01, 7.00000000e-01, 6.90000000e-01,\n",
       "       6.80000000e-01, 6.70000000e-01, 6.60000000e-01, 6.50000000e-01,\n",
       "       6.40000000e-01, 6.30000000e-01, 6.20000000e-01, 6.10000000e-01,\n",
       "       6.00000000e-01, 5.90000000e-01, 5.60000000e-01, 5.40000000e-01,\n",
       "       5.20000000e-01, 4.70000000e-01, 4.60000000e-01, 4.40000000e-01,\n",
       "       4.30000000e-01, 4.20000000e-01, 4.10000000e-01, 3.80000000e-01,\n",
       "       3.70000000e-01, 3.60000000e-01, 3.50000000e-01, 3.40000000e-01,\n",
       "       3.20000000e-01, 3.10000000e-01, 3.00020367e-01, 3.00018215e-01,\n",
       "       3.00000000e-01, 2.90192174e-01, 2.90000000e-01, 2.80000000e-01,\n",
       "       2.70000000e-01, 2.60000000e-01, 2.50036630e-01, 2.50000000e-01,\n",
       "       2.40020619e-01, 2.40000000e-01, 2.30000000e-01, 2.20000000e-01,\n",
       "       2.10171513e-01, 2.10000000e-01, 2.00019841e-01, 2.00000000e-01,\n",
       "       1.90114757e-01, 1.90000000e-01, 1.80056405e-01, 1.80000000e-01,\n",
       "       1.70000000e-01, 1.60461061e-01, 1.60000000e-01, 1.50271588e-01,\n",
       "       1.50000000e-01, 1.40018553e-01, 1.40000000e-01, 1.30020000e-01,\n",
       "       1.30000000e-01, 1.20036630e-01, 1.20000000e-01, 1.10037175e-01,\n",
       "       1.10000000e-01, 1.00039154e-01, 1.00036630e-01, 1.00000000e-01,\n",
       "       9.00206186e-02, 9.00000000e-02, 8.10735005e-02, 8.01894915e-02,\n",
       "       8.00201207e-02, 8.00000000e-02, 7.00178571e-02, 7.00000000e-02,\n",
       "       6.00181488e-02, 6.00000000e-02, 5.00178571e-02, 5.00000000e-02,\n",
       "       4.00366300e-02, 4.00206186e-02, 4.00000000e-02, 3.00191939e-02,\n",
       "       3.00183486e-02, 3.00180832e-02, 3.00000000e-02, 2.00390625e-02,\n",
       "       2.00379507e-02, 2.00180832e-02, 2.00000000e-02, 1.01213743e-02,\n",
       "       1.00994535e-02, 1.00379507e-02, 1.00183486e-02, 1.00178571e-02,\n",
       "       1.00000000e-02, 1.72785756e-03, 1.76694943e-04, 1.53324480e-04,\n",
       "       1.12052859e-04, 9.65843555e-05, 5.86855761e-05, 4.16666667e-05,\n",
       "       3.71747212e-05, 3.66300366e-05, 1.82815356e-05, 0.00000000e+00])"
      ]
     },
     "execution_count": 207,
     "metadata": {},
     "output_type": "execute_result"
    }
   ],
   "source": [
    "thresholds"
   ]
  },
  {
   "cell_type": "code",
   "execution_count": 208,
   "id": "837540f3",
   "metadata": {},
   "outputs": [
    {
     "data": {
      "image/png": "[encoded data removed]",
      "text/plain": [
       "<Figure size 432x288 with 1 Axes>"
      ]
     },
     "metadata": {
      "needs_background": "light"
     },
     "output_type": "display_data"
    }
   ],
   "source": [
    "plt.plot([0,1],[0,1],'k--')\n",
    "plt.plot(tpr,fpr,label='RFC')\n",
    "plt.xlabel('FALSE_POSITIVE_RATE')\n",
    "plt.ylabel('TRUE_POSITIVE_RATE')\n",
    "plt.title('RF_CLASSIFIER')\n",
    "plt.show()"
   ]
  },
  {
   "cell_type": "code",
   "execution_count": 209,
   "id": "e41fffe6",
   "metadata": {},
   "outputs": [
    {
     "data": {
      "text/plain": [
       "0.9990068045755139"
      ]
     },
     "execution_count": 209,
     "metadata": {},
     "output_type": "execute_result"
    }
   ],
   "source": [
    "auc_score=roc_auc_score(y_test,(rm.predict(x_test)))\n",
    "auc_score"
   ]
  },
  {
   "cell_type": "markdown",
   "id": "22d55fb9",
   "metadata": {},
   "source": [
    "## DECISION TREE CLASSIFIER "
   ]
  },
  {
   "cell_type": "code",
   "execution_count": 212,
   "id": "8d8435cc",
   "metadata": {},
   "outputs": [],
   "source": [
    "dtc=DecisionTreeClassifier()"
   ]
  },
  {
   "cell_type": "code",
   "execution_count": 214,
   "id": "53227908",
   "metadata": {},
   "outputs": [
    {
     "name": "stdout",
     "output_type": "stream",
     "text": [
      "At random_state {0} the training accuracy test is 0.9999720287544405\n",
      "At random_state {0} the testing accuracy test is 0.9963078988588051\n",
      "\n",
      "\n",
      "At random_state {1} the training accuracy test is 1.0\n",
      "At random_state {1} the testing accuracy test is 0.996531662564332\n",
      "\n",
      "\n",
      "At random_state {2} the training accuracy test is 0.9999720287544405\n",
      "At random_state {2} the testing accuracy test is 0.996755426269859\n",
      "\n",
      "\n",
      "At random_state {3} the training accuracy test is 1.0\n",
      "At random_state {3} the testing accuracy test is 0.996755426269859\n",
      "\n",
      "\n",
      "At random_state {4} the training accuracy test is 0.9999720287544405\n",
      "At random_state {4} the testing accuracy test is 0.9958603714477512\n",
      "\n",
      "\n",
      "At random_state {5} the training accuracy test is 0.9999720287544405\n",
      "At random_state {5} the testing accuracy test is 0.9963078988588051\n",
      "\n",
      "\n",
      "At random_state {6} the training accuracy test is 0.9999720287544405\n",
      "At random_state {6} the testing accuracy test is 0.9968673081226225\n",
      "\n",
      "\n",
      "At random_state {7} the training accuracy test is 0.9999720287544405\n",
      "At random_state {7} the testing accuracy test is 0.9968673081226225\n",
      "\n",
      "\n",
      "At random_state {8} the training accuracy test is 1.0\n",
      "At random_state {8} the testing accuracy test is 0.9958603714477512\n",
      "\n",
      "\n",
      "At random_state {9} the training accuracy test is 0.9999720287544405\n",
      "At random_state {9} the testing accuracy test is 0.996531662564332\n",
      "\n",
      "\n",
      "At random_state {10} the training accuracy test is 0.9999720287544405\n",
      "At random_state {10} the testing accuracy test is 0.9966435444170956\n",
      "\n",
      "\n",
      "At random_state {11} the training accuracy test is 0.9999720287544405\n",
      "At random_state {11} the testing accuracy test is 0.9955247258894607\n",
      "\n",
      "\n",
      "At random_state {12} the training accuracy test is 0.9999720287544405\n",
      "At random_state {12} the testing accuracy test is 0.9968673081226225\n",
      "\n",
      "\n",
      "At random_state {13} the training accuracy test is 1.0\n",
      "At random_state {13} the testing accuracy test is 0.9960841351532781\n",
      "\n",
      "\n",
      "At random_state {14} the training accuracy test is 0.9999720287544405\n",
      "At random_state {14} the testing accuracy test is 0.9958603714477512\n",
      "\n",
      "\n",
      "At random_state {15} the training accuracy test is 0.9999720287544405\n",
      "At random_state {15} the testing accuracy test is 0.9966435444170956\n",
      "\n",
      "\n",
      "At random_state {16} the training accuracy test is 0.9999720287544405\n",
      "At random_state {16} the testing accuracy test is 0.9958603714477512\n",
      "\n",
      "\n",
      "At random_state {17} the training accuracy test is 0.9999720287544405\n",
      "At random_state {17} the testing accuracy test is 0.9968673081226225\n",
      "\n",
      "\n",
      "At random_state {18} the training accuracy test is 0.9999720287544405\n",
      "At random_state {18} the testing accuracy test is 0.9972029536809129\n",
      "\n",
      "\n",
      "At random_state {19} the training accuracy test is 0.9999720287544405\n",
      "At random_state {19} the testing accuracy test is 0.9964197807115686\n",
      "\n",
      "\n",
      "At random_state {20} the training accuracy test is 0.9999720287544405\n",
      "At random_state {20} the testing accuracy test is 0.9956366077422242\n",
      "\n",
      "\n",
      "At random_state {21} the training accuracy test is 0.9999720287544405\n",
      "At random_state {21} the testing accuracy test is 0.9973148355336764\n",
      "\n",
      "\n",
      "At random_state {22} the training accuracy test is 0.9999720287544405\n",
      "At random_state {22} the testing accuracy test is 0.9972029536809129\n",
      "\n",
      "\n",
      "At random_state {23} the training accuracy test is 0.9999720287544405\n",
      "At random_state {23} the testing accuracy test is 0.996755426269859\n",
      "\n",
      "\n",
      "At random_state {24} the training accuracy test is 1.0\n",
      "At random_state {24} the testing accuracy test is 0.9960841351532781\n",
      "\n",
      "\n",
      "At random_state {25} the training accuracy test is 0.9999720287544405\n",
      "At random_state {25} the testing accuracy test is 0.9958603714477512\n",
      "\n",
      "\n",
      "At random_state {26} the training accuracy test is 0.9999720287544405\n",
      "At random_state {26} the testing accuracy test is 0.9960841351532781\n",
      "\n",
      "\n",
      "At random_state {27} the training accuracy test is 0.9999720287544405\n",
      "At random_state {27} the testing accuracy test is 0.9964197807115686\n",
      "\n",
      "\n",
      "At random_state {28} the training accuracy test is 0.9999720287544405\n",
      "At random_state {28} the testing accuracy test is 0.996755426269859\n",
      "\n",
      "\n",
      "At random_state {29} the training accuracy test is 0.9999720287544405\n",
      "At random_state {29} the testing accuracy test is 0.9961960170060417\n",
      "\n",
      "\n",
      "At random_state {30} the training accuracy test is 0.9999720287544405\n",
      "At random_state {30} the testing accuracy test is 0.996755426269859\n",
      "\n",
      "\n",
      "At random_state {31} the training accuracy test is 0.9999720287544405\n",
      "At random_state {31} the testing accuracy test is 0.996531662564332\n",
      "\n",
      "\n",
      "At random_state {32} the training accuracy test is 0.9999720287544405\n",
      "At random_state {32} the testing accuracy test is 0.996531662564332\n",
      "\n",
      "\n",
      "At random_state {33} the training accuracy test is 0.9999720287544405\n",
      "At random_state {33} the testing accuracy test is 0.9960841351532781\n",
      "\n",
      "\n",
      "At random_state {34} the training accuracy test is 0.9999720287544405\n",
      "At random_state {34} the testing accuracy test is 0.9972029536809129\n",
      "\n",
      "\n",
      "At random_state {35} the training accuracy test is 1.0\n",
      "At random_state {35} the testing accuracy test is 0.9953009621839337\n",
      "\n",
      "\n",
      "At random_state {36} the training accuracy test is 0.9999720287544405\n",
      "At random_state {36} the testing accuracy test is 0.996531662564332\n",
      "\n",
      "\n",
      "At random_state {37} the training accuracy test is 0.9999720287544405\n",
      "At random_state {37} the testing accuracy test is 0.9959722533005146\n",
      "\n",
      "\n",
      "At random_state {38} the training accuracy test is 0.9999720287544405\n",
      "At random_state {38} the testing accuracy test is 0.9968673081226225\n",
      "\n",
      "\n",
      "At random_state {39} the training accuracy test is 0.9999720287544405\n",
      "At random_state {39} the testing accuracy test is 0.9961960170060417\n",
      "\n",
      "\n",
      "At random_state {40} the training accuracy test is 0.9999720287544405\n",
      "At random_state {40} the testing accuracy test is 0.9961960170060417\n",
      "\n",
      "\n",
      "At random_state {41} the training accuracy test is 0.9999720287544405\n",
      "At random_state {41} the testing accuracy test is 0.996979189975386\n",
      "\n",
      "\n",
      "At random_state {42} the training accuracy test is 0.9999720287544405\n",
      "At random_state {42} the testing accuracy test is 0.9961960170060417\n",
      "\n",
      "\n",
      "At random_state {43} the training accuracy test is 0.9999720287544405\n",
      "At random_state {43} the testing accuracy test is 0.9954128440366973\n",
      "\n",
      "\n",
      "At random_state {44} the training accuracy test is 1.0\n",
      "At random_state {44} the testing accuracy test is 0.9970910718281495\n",
      "\n",
      "\n",
      "At random_state {45} the training accuracy test is 0.9999720287544405\n",
      "At random_state {45} the testing accuracy test is 0.9958603714477512\n",
      "\n",
      "\n",
      "At random_state {46} the training accuracy test is 0.9999720287544405\n",
      "At random_state {46} the testing accuracy test is 0.9959722533005146\n",
      "\n",
      "\n",
      "At random_state {47} the training accuracy test is 0.9999720287544405\n",
      "At random_state {47} the testing accuracy test is 0.9963078988588051\n",
      "\n",
      "\n",
      "At random_state {48} the training accuracy test is 0.9999720287544405\n",
      "At random_state {48} the testing accuracy test is 0.9964197807115686\n",
      "\n",
      "\n",
      "At random_state {49} the training accuracy test is 0.9999720287544405\n",
      "At random_state {49} the testing accuracy test is 0.9964197807115686\n",
      "\n",
      "\n",
      "At random_state {50} the training accuracy test is 1.0\n",
      "At random_state {50} the testing accuracy test is 0.9961960170060417\n",
      "\n",
      "\n",
      "At random_state {51} the training accuracy test is 0.9999720287544405\n",
      "At random_state {51} the testing accuracy test is 0.9966435444170956\n",
      "\n",
      "\n",
      "At random_state {52} the training accuracy test is 0.9999720287544405\n",
      "At random_state {52} the testing accuracy test is 0.996531662564332\n",
      "\n",
      "\n",
      "At random_state {53} the training accuracy test is 0.9999720287544405\n",
      "At random_state {53} the testing accuracy test is 0.9961960170060417\n",
      "\n",
      "\n",
      "At random_state {54} the training accuracy test is 0.9999720287544405\n",
      "At random_state {54} the testing accuracy test is 0.996755426269859\n",
      "\n",
      "\n",
      "At random_state {55} the training accuracy test is 0.9999720287544405\n",
      "At random_state {55} the testing accuracy test is 0.9959722533005146\n",
      "\n",
      "\n",
      "At random_state {56} the training accuracy test is 0.9999720287544405\n",
      "At random_state {56} the testing accuracy test is 0.9966435444170956\n",
      "\n",
      "\n",
      "At random_state {57} the training accuracy test is 0.9999720287544405\n",
      "At random_state {57} the testing accuracy test is 0.9966435444170956\n",
      "\n",
      "\n",
      "At random_state {58} the training accuracy test is 0.9999720287544405\n",
      "At random_state {58} the testing accuracy test is 0.996755426269859\n",
      "\n",
      "\n",
      "At random_state {59} the training accuracy test is 1.0\n",
      "At random_state {59} the testing accuracy test is 0.9953009621839337\n",
      "\n",
      "\n",
      "At random_state {60} the training accuracy test is 0.9999720287544405\n",
      "At random_state {60} the testing accuracy test is 0.9968673081226225\n",
      "\n",
      "\n",
      "At random_state {61} the training accuracy test is 0.9999720287544405\n",
      "At random_state {61} the testing accuracy test is 0.9972029536809129\n",
      "\n",
      "\n",
      "At random_state {62} the training accuracy test is 0.9999720287544405\n",
      "At random_state {62} the testing accuracy test is 0.9964197807115686\n",
      "\n",
      "\n",
      "At random_state {63} the training accuracy test is 0.9999720287544405\n",
      "At random_state {63} the testing accuracy test is 0.9964197807115686\n",
      "\n",
      "\n",
      "At random_state {64} the training accuracy test is 0.9999720287544405\n",
      "At random_state {64} the testing accuracy test is 0.9954128440366973\n",
      "\n",
      "\n",
      "At random_state {65} the training accuracy test is 0.9999720287544405\n",
      "At random_state {65} the testing accuracy test is 0.9960841351532781\n",
      "\n",
      "\n",
      "At random_state {66} the training accuracy test is 1.0\n",
      "At random_state {66} the testing accuracy test is 0.9960841351532781\n",
      "\n",
      "\n",
      "At random_state {67} the training accuracy test is 0.9999720287544405\n",
      "At random_state {67} the testing accuracy test is 0.9963078988588051\n",
      "\n",
      "\n",
      "At random_state {68} the training accuracy test is 0.9999720287544405\n",
      "At random_state {68} the testing accuracy test is 0.9959722533005146\n",
      "\n",
      "\n",
      "At random_state {69} the training accuracy test is 0.9999720287544405\n",
      "At random_state {69} the testing accuracy test is 0.9968673081226225\n",
      "\n",
      "\n",
      "At random_state {70} the training accuracy test is 0.9999720287544405\n",
      "At random_state {70} the testing accuracy test is 0.9973148355336764\n",
      "\n",
      "\n",
      "At random_state {71} the training accuracy test is 0.9999720287544405\n",
      "At random_state {71} the testing accuracy test is 0.9961960170060417\n",
      "\n",
      "\n",
      "At random_state {72} the training accuracy test is 0.9999720287544405\n",
      "At random_state {72} the testing accuracy test is 0.9953009621839337\n",
      "\n",
      "\n",
      "At random_state {73} the training accuracy test is 0.9999720287544405\n",
      "At random_state {73} the testing accuracy test is 0.9960841351532781\n",
      "\n",
      "\n",
      "At random_state {74} the training accuracy test is 0.9999720287544405\n",
      "At random_state {74} the testing accuracy test is 0.9956366077422242\n",
      "\n",
      "\n",
      "At random_state {75} the training accuracy test is 0.9999720287544405\n",
      "At random_state {75} the testing accuracy test is 0.9955247258894607\n",
      "\n",
      "\n",
      "At random_state {76} the training accuracy test is 0.9999720287544405\n",
      "At random_state {76} the testing accuracy test is 0.996755426269859\n",
      "\n",
      "\n",
      "At random_state {77} the training accuracy test is 0.9999720287544405\n",
      "At random_state {77} the testing accuracy test is 0.996755426269859\n",
      "\n",
      "\n",
      "At random_state {78} the training accuracy test is 0.9999720287544405\n",
      "At random_state {78} the testing accuracy test is 0.9948534347728798\n",
      "\n",
      "\n",
      "At random_state {79} the training accuracy test is 0.9999720287544405\n",
      "At random_state {79} the testing accuracy test is 0.9966435444170956\n",
      "\n",
      "\n",
      "At random_state {80} the training accuracy test is 0.9999720287544405\n",
      "At random_state {80} the testing accuracy test is 0.996755426269859\n",
      "\n",
      "\n",
      "At random_state {81} the training accuracy test is 0.9999720287544405\n",
      "At random_state {81} the testing accuracy test is 0.996979189975386\n",
      "\n",
      "\n",
      "At random_state {82} the training accuracy test is 0.9999720287544405\n",
      "At random_state {82} the testing accuracy test is 0.9949653166256434\n",
      "\n",
      "\n",
      "At random_state {83} the training accuracy test is 0.9999720287544405\n",
      "At random_state {83} the testing accuracy test is 0.9963078988588051\n",
      "\n",
      "\n",
      "At random_state {84} the training accuracy test is 0.9999720287544405\n",
      "At random_state {84} the testing accuracy test is 0.9949653166256434\n",
      "\n",
      "\n",
      "At random_state {85} the training accuracy test is 0.9999720287544405\n",
      "At random_state {85} the testing accuracy test is 0.9959722533005146\n",
      "\n",
      "\n",
      "At random_state {86} the training accuracy test is 0.9999720287544405\n",
      "At random_state {86} the testing accuracy test is 0.9966435444170956\n",
      "\n",
      "\n",
      "At random_state {87} the training accuracy test is 0.9999720287544405\n",
      "At random_state {87} the testing accuracy test is 0.9956366077422242\n",
      "\n",
      "\n",
      "At random_state {88} the training accuracy test is 0.9999720287544405\n",
      "At random_state {88} the testing accuracy test is 0.9955247258894607\n",
      "\n",
      "\n",
      "At random_state {89} the training accuracy test is 0.9999720287544405\n",
      "At random_state {89} the testing accuracy test is 0.9958603714477512\n",
      "\n",
      "\n",
      "At random_state {90} the training accuracy test is 0.9999720287544405\n",
      "At random_state {90} the testing accuracy test is 0.9956366077422242\n",
      "\n",
      "\n",
      "At random_state {91} the training accuracy test is 1.0\n",
      "At random_state {91} the testing accuracy test is 0.9964197807115686\n",
      "\n",
      "\n",
      "At random_state {92} the training accuracy test is 1.0\n",
      "At random_state {92} the testing accuracy test is 0.9959722533005146\n",
      "\n",
      "\n",
      "At random_state {93} the training accuracy test is 1.0\n",
      "At random_state {93} the testing accuracy test is 0.9961960170060417\n",
      "\n",
      "\n",
      "At random_state {94} the training accuracy test is 0.9999720287544405\n",
      "At random_state {94} the testing accuracy test is 0.9959722533005146\n",
      "\n",
      "\n",
      "At random_state {95} the training accuracy test is 0.9999720287544405\n",
      "At random_state {95} the testing accuracy test is 0.996755426269859\n",
      "\n",
      "\n",
      "At random_state {96} the training accuracy test is 0.9999720287544405\n",
      "At random_state {96} the testing accuracy test is 0.9961960170060417\n",
      "\n",
      "\n",
      "At random_state {97} the training accuracy test is 0.9999720287544405\n",
      "At random_state {97} the testing accuracy test is 0.996531662564332\n",
      "\n",
      "\n",
      "At random_state {98} the training accuracy test is 1.0\n",
      "At random_state {98} the testing accuracy test is 0.9961960170060417\n",
      "\n",
      "\n",
      "At random_state {99} the training accuracy test is 0.9999720287544405\n",
      "At random_state {99} the testing accuracy test is 0.9963078988588051\n",
      "\n",
      "\n"
     ]
    }
   ],
   "source": [
    "for i in range(0,100):\n",
    "    x_train,x_test,y_train,y_test=train_test_split(X,Y,test_size=0.20,random_state=i)\n",
    "    dtc.fit(x_train,y_train)\n",
    "    preddtc=dtc.predict(x_train)\n",
    "    preddtc1=dtc.predict(x_test)\n",
    "    print('At random_state' ,{i}, 'the training accuracy test is', accuracy_score(y_train,preddtc))\n",
    "    print('At random_state' ,{i}, 'the testing accuracy test is', accuracy_score(y_test,preddtc1))\n",
    "    print('\\n')"
   ]
  },
  {
   "cell_type": "markdown",
   "id": "26d27a7b",
   "metadata": {},
   "source": [
    "## AT RANDOM STATE 70 WE HAVE THE HIGHEST ACCURACY OF 99.73%"
   ]
  },
  {
   "cell_type": "code",
   "execution_count": 215,
   "id": "70fcc0d1",
   "metadata": {},
   "outputs": [],
   "source": [
    "x_train,x_test,y_train,y_test=train_test_split(X,Y,test_size=0.20,random_state=70)"
   ]
  },
  {
   "cell_type": "code",
   "execution_count": 216,
   "id": "380d199f",
   "metadata": {},
   "outputs": [
    {
     "data": {
      "text/html": [
       "<style>#sk-container-id-4 {color: black;background-color: white;}#sk-container-id-4 pre{padding: 0;}#sk-container-id-4 div.sk-toggleable {background-color: white;}#sk-container-id-4 label.sk-toggleable__label {cursor: pointer;display: block;width: 100%;margin-bottom: 0;padding: 0.3em;box-sizing: border-box;text-align: center;}#sk-container-id-4 label.sk-toggleable__label-arrow:before {content: \"▸\";float: left;margin-right: 0.25em;color: #696969;}#sk-container-id-4 label.sk-toggleable__label-arrow:hover:before {color: black;}#sk-container-id-4 div.sk-estimator:hover label.sk-toggleable__label-arrow:before {color: black;}#sk-container-id-4 div.sk-toggleable__content {max-height: 0;max-width: 0;overflow: hidden;text-align: left;background-color: #f0f8ff;}#sk-container-id-4 div.sk-toggleable__content pre {margin: 0.2em;color: black;border-radius: 0.25em;background-color: #f0f8ff;}#sk-container-id-4 input.sk-toggleable__control:checked~div.sk-toggleable__content {max-height: 200px;max-width: 100%;overflow: auto;}#sk-container-id-4 input.sk-toggleable__control:checked~label.sk-toggleable__label-arrow:before {content: \"▾\";}#sk-container-id-4 div.sk-estimator input.sk-toggleable__control:checked~label.sk-toggleable__label {background-color: #d4ebff;}#sk-container-id-4 div.sk-label input.sk-toggleable__control:checked~label.sk-toggleable__label {background-color: #d4ebff;}#sk-container-id-4 input.sk-hidden--visually {border: 0;clip: rect(1px 1px 1px 1px);clip: rect(1px, 1px, 1px, 1px);height: 1px;margin: -1px;overflow: hidden;padding: 0;position: absolute;width: 1px;}#sk-container-id-4 div.sk-estimator {font-family: monospace;background-color: #f0f8ff;border: 1px dotted black;border-radius: 0.25em;box-sizing: border-box;margin-bottom: 0.5em;}#sk-container-id-4 div.sk-estimator:hover {background-color: #d4ebff;}#sk-container-id-4 div.sk-parallel-item::after {content: \"\";width: 100%;border-bottom: 1px solid gray;flex-grow: 1;}#sk-container-id-4 div.sk-label:hover label.sk-toggleable__label {background-color: #d4ebff;}#sk-container-id-4 div.sk-serial::before {content: \"\";position: absolute;border-left: 1px solid gray;box-sizing: border-box;top: 0;bottom: 0;left: 50%;z-index: 0;}#sk-container-id-4 div.sk-serial {display: flex;flex-direction: column;align-items: center;background-color: white;padding-right: 0.2em;padding-left: 0.2em;position: relative;}#sk-container-id-4 div.sk-item {position: relative;z-index: 1;}#sk-container-id-4 div.sk-parallel {display: flex;align-items: stretch;justify-content: center;background-color: white;position: relative;}#sk-container-id-4 div.sk-item::before, #sk-container-id-4 div.sk-parallel-item::before {content: \"\";position: absolute;border-left: 1px solid gray;box-sizing: border-box;top: 0;bottom: 0;left: 50%;z-index: -1;}#sk-container-id-4 div.sk-parallel-item {display: flex;flex-direction: column;z-index: 1;position: relative;background-color: white;}#sk-container-id-4 div.sk-parallel-item:first-child::after {align-self: flex-end;width: 50%;}#sk-container-id-4 div.sk-parallel-item:last-child::after {align-self: flex-start;width: 50%;}#sk-container-id-4 div.sk-parallel-item:only-child::after {width: 0;}#sk-container-id-4 div.sk-dashed-wrapped {border: 1px dashed gray;margin: 0 0.4em 0.5em 0.4em;box-sizing: border-box;padding-bottom: 0.4em;background-color: white;}#sk-container-id-4 div.sk-label label {font-family: monospace;font-weight: bold;display: inline-block;line-height: 1.2em;}#sk-container-id-4 div.sk-label-container {text-align: center;}#sk-container-id-4 div.sk-container {/* jupyter's `normalize.less` sets `[hidden] { display: none; }` but bootstrap.min.css set `[hidden] { display: none !important; }` so we also need the `!important` here to be able to override the default hidden behavior on the sphinx rendered scikit-learn.org. See: https://github.com/scikit-learn/scikit-learn/issues/21755 */display: inline-block !important;position: relative;}#sk-container-id-4 div.sk-text-repr-fallback {display: none;}</style><div id=\"sk-container-id-4\" class=\"sk-top-container\"><div class=\"sk-text-repr-fallback\"><pre>DecisionTreeClassifier()</pre><b>In a Jupyter environment, please rerun this cell to show the HTML representation or trust the notebook. <br />On GitHub, the HTML representation is unable to render, please try loading this page with nbviewer.org.</b></div><div class=\"sk-container\" hidden><div class=\"sk-item\"><div class=\"sk-estimator sk-toggleable\"><input class=\"sk-toggleable__control sk-hidden--visually\" id=\"sk-estimator-id-4\" type=\"checkbox\" checked><label for=\"sk-estimator-id-4\" class=\"sk-toggleable__label sk-toggleable__label-arrow\">DecisionTreeClassifier</label><div class=\"sk-toggleable__content\"><pre>DecisionTreeClassifier()</pre></div></div></div></div></div>"
      ],
      "text/plain": [
       "DecisionTreeClassifier()"
      ]
     },
     "execution_count": 216,
     "metadata": {},
     "output_type": "execute_result"
    }
   ],
   "source": [
    "dtc.fit(x_train,y_train)"
   ]
  },
  {
   "cell_type": "code",
   "execution_count": 217,
   "id": "1c36c482",
   "metadata": {},
   "outputs": [],
   "source": [
    "PREDTC=dtc.predict(x_test)"
   ]
  },
  {
   "cell_type": "markdown",
   "id": "3530f03f",
   "metadata": {},
   "source": [
    "## MODEL ACCURACY"
   ]
  },
  {
   "cell_type": "code",
   "execution_count": 219,
   "id": "4eb11c9a",
   "metadata": {},
   "outputs": [
    {
     "name": "stdout",
     "output_type": "stream",
     "text": [
      "0.9975385992392034\n"
     ]
    }
   ],
   "source": [
    "print(accuracy_score(y_test,PREDTC))"
   ]
  },
  {
   "cell_type": "markdown",
   "id": "c78af29e",
   "metadata": {},
   "source": [
    "## CONFUSION MATRIX"
   ]
  },
  {
   "cell_type": "code",
   "execution_count": 220,
   "id": "b510d00b",
   "metadata": {},
   "outputs": [
    {
     "name": "stdout",
     "output_type": "stream",
     "text": [
      "[[4699    9]\n",
      " [  13 4217]]\n"
     ]
    }
   ],
   "source": [
    "print(confusion_matrix(y_test,PREDTC))"
   ]
  },
  {
   "cell_type": "markdown",
   "id": "96641484",
   "metadata": {},
   "source": [
    "## CLASSIFICATION REPORT"
   ]
  },
  {
   "cell_type": "code",
   "execution_count": 221,
   "id": "0ba901da",
   "metadata": {},
   "outputs": [
    {
     "name": "stdout",
     "output_type": "stream",
     "text": [
      "              precision    recall  f1-score   support\n",
      "\n",
      "           0       1.00      1.00      1.00      4708\n",
      "           1       1.00      1.00      1.00      4230\n",
      "\n",
      "    accuracy                           1.00      8938\n",
      "   macro avg       1.00      1.00      1.00      8938\n",
      "weighted avg       1.00      1.00      1.00      8938\n",
      "\n"
     ]
    }
   ],
   "source": [
    "print(classification_report(y_test,PREDTC))"
   ]
  },
  {
   "cell_type": "markdown",
   "id": "29d75ee2",
   "metadata": {},
   "source": [
    "## AUC ROC CURVE"
   ]
  },
  {
   "cell_type": "code",
   "execution_count": 222,
   "id": "c8700ac9",
   "metadata": {},
   "outputs": [],
   "source": [
    "y_pred_prob2=dtc.predict_proba(x_test)[:,1]"
   ]
  },
  {
   "cell_type": "code",
   "execution_count": 223,
   "id": "b925bf0f",
   "metadata": {},
   "outputs": [
    {
     "data": {
      "text/plain": [
       "array([1., 1., 1., ..., 1., 1., 0.])"
      ]
     },
     "execution_count": 223,
     "metadata": {},
     "output_type": "execute_result"
    }
   ],
   "source": [
    "y_pred_prob2"
   ]
  },
  {
   "cell_type": "code",
   "execution_count": 224,
   "id": "8010b8bd",
   "metadata": {},
   "outputs": [],
   "source": [
    "tpr,fpr,thresholds=roc_curve(y_test,y_pred_prob2)"
   ]
  },
  {
   "cell_type": "code",
   "execution_count": 225,
   "id": "211899a5",
   "metadata": {},
   "outputs": [
    {
     "data": {
      "text/plain": [
       "array([0.        , 0.00191164, 0.03271028, 1.        ])"
      ]
     },
     "execution_count": 225,
     "metadata": {},
     "output_type": "execute_result"
    }
   ],
   "source": [
    "tpr"
   ]
  },
  {
   "cell_type": "code",
   "execution_count": 226,
   "id": "8903dfed",
   "metadata": {},
   "outputs": [
    {
     "data": {
      "text/plain": [
       "array([0.        , 0.99692671, 0.99692671, 1.        ])"
      ]
     },
     "execution_count": 226,
     "metadata": {},
     "output_type": "execute_result"
    }
   ],
   "source": [
    "fpr"
   ]
  },
  {
   "cell_type": "code",
   "execution_count": 227,
   "id": "4e520ecb",
   "metadata": {},
   "outputs": [
    {
     "data": {
      "text/plain": [
       "array([2.00000000e+00, 1.00000000e+00, 1.96078431e-03, 0.00000000e+00])"
      ]
     },
     "execution_count": 227,
     "metadata": {},
     "output_type": "execute_result"
    }
   ],
   "source": [
    "thresholds"
   ]
  },
  {
   "cell_type": "code",
   "execution_count": 228,
   "id": "3975de2e",
   "metadata": {},
   "outputs": [
    {
     "data": {
      "image/png": "[encoded data removed]",
      "text/plain": [
       "<Figure size 432x288 with 1 Axes>"
      ]
     },
     "metadata": {
      "needs_background": "light"
     },
     "output_type": "display_data"
    }
   ],
   "source": [
    "plt.plot([0,1],[0,1],'k--')\n",
    "plt.plot(tpr,fpr,label='SVC')\n",
    "plt.xlabel('FALSE_POSITIVE_RATE')\n",
    "plt.ylabel('TRUE_POSITIVE_RATE')\n",
    "plt.title('DTC_CLASSIFIER')\n",
    "plt.show()"
   ]
  },
  {
   "cell_type": "code",
   "execution_count": 229,
   "id": "c9c55d85",
   "metadata": {},
   "outputs": [
    {
     "data": {
      "text/plain": [
       "0.9975075370929418"
      ]
     },
     "execution_count": 229,
     "metadata": {},
     "output_type": "execute_result"
    }
   ],
   "source": [
    "auc_score=roc_auc_score(y_test,(dtc.predict(x_test)))\n",
    "auc_score"
   ]
  },
  {
   "cell_type": "markdown",
   "id": "bf012cd5",
   "metadata": {},
   "source": [
    "## CROSS VAL SCORE"
   ]
  },
  {
   "cell_type": "code",
   "execution_count": 230,
   "id": "afafa7b3",
   "metadata": {},
   "outputs": [
    {
     "name": "stdout",
     "output_type": "stream",
     "text": [
      "CV is 0.9817626821342651\n",
      "CV is 0.9298028529094605\n",
      "CV is 0.996822421186311\n",
      "CV is 0.9903554447882985\n"
     ]
    }
   ],
   "source": [
    "for m in [lr,gb,rm,dtc]:\n",
    "    cv=cross_val_score(m,X,Y,cv=8)\n",
    "    print('CV','is',(cv.mean()))"
   ]
  },
  {
   "cell_type": "markdown",
   "id": "d0171259",
   "metadata": {},
   "source": [
    "## THERE IS EXTREMELY LOW OVERFITTING IN THE DATASET "
   ]
  },
  {
   "cell_type": "markdown",
   "id": "6f3a8ce4",
   "metadata": {},
   "source": [
    "## DIFFERENCE BETWEEN CV MEAN SCORE AND MODEL ACCURACY SCORE "
   ]
  },
  {
   "cell_type": "markdown",
   "id": "402d80c0",
   "metadata": {},
   "source": [
    "### LR"
   ]
  },
  {
   "cell_type": "code",
   "execution_count": 231,
   "id": "eb3f1cce",
   "metadata": {},
   "outputs": [
    {
     "data": {
      "text/plain": [
       "0.9699999999999989"
      ]
     },
     "execution_count": 231,
     "metadata": {},
     "output_type": "execute_result"
    }
   ],
   "source": [
    "(99.14-98.17)"
   ]
  },
  {
   "cell_type": "markdown",
   "id": "dc1fc5e1",
   "metadata": {},
   "source": [
    "### GB"
   ]
  },
  {
   "cell_type": "code",
   "execution_count": 232,
   "id": "afb2428e",
   "metadata": {},
   "outputs": [
    {
     "data": {
      "text/plain": [
       "2.1899999999999977"
      ]
     },
     "execution_count": 232,
     "metadata": {},
     "output_type": "execute_result"
    }
   ],
   "source": [
    "(95.17-92.98)"
   ]
  },
  {
   "cell_type": "markdown",
   "id": "3d100577",
   "metadata": {},
   "source": [
    "### RM "
   ]
  },
  {
   "cell_type": "code",
   "execution_count": 233,
   "id": "9839a5d1",
   "metadata": {},
   "outputs": [
    {
     "data": {
      "text/plain": [
       "0.20999999999999375"
      ]
     },
     "execution_count": 233,
     "metadata": {},
     "output_type": "execute_result"
    }
   ],
   "source": [
    "(99.89-99.68)"
   ]
  },
  {
   "cell_type": "markdown",
   "id": "cb065873",
   "metadata": {},
   "source": [
    "### DTC"
   ]
  },
  {
   "cell_type": "code",
   "execution_count": 234,
   "id": "2191df70",
   "metadata": {},
   "outputs": [
    {
     "data": {
      "text/plain": [
       "0.7199999999999989"
      ]
     },
     "execution_count": 234,
     "metadata": {},
     "output_type": "execute_result"
    }
   ],
   "source": [
    "(99.75-99.03)"
   ]
  },
  {
   "cell_type": "markdown",
   "id": "cdcc86e0",
   "metadata": {},
   "source": [
    "## WE WILL HYPER TUNE RANDOM FOREST CLASSIFIER AS THE DIFFERENCE BETWEEN MODEL ACCURACY AND THE CV MEAN SCORE IS THE MINIMUM ADN IT IS THE HIGHEST IN TERMS OF ACCURACY PERCENTAGE"
   ]
  },
  {
   "cell_type": "markdown",
   "id": "1b5780eb",
   "metadata": {},
   "source": [
    "## HYPER TUNING - RANDOM FOREST CLASSIFIER "
   ]
  },
  {
   "cell_type": "code",
   "execution_count": 235,
   "id": "ccf89078",
   "metadata": {},
   "outputs": [],
   "source": [
    "RM2=RandomForestClassifier()"
   ]
  },
  {
   "cell_type": "code",
   "execution_count": 236,
   "id": "798fab87",
   "metadata": {},
   "outputs": [],
   "source": [
    "DD={'n_estimators':[50,100,150],'criterion':['gini','entropy','log_loss'],'min_samples_split':[2,3,4,],'min_samples_leaf':[1,2,3]}"
   ]
  },
  {
   "cell_type": "code",
   "execution_count": 237,
   "id": "53216d48",
   "metadata": {},
   "outputs": [],
   "source": [
    "gd=GridSearchCV(RM2,DD,cv=5,scoring='accuracy')"
   ]
  },
  {
   "cell_type": "code",
   "execution_count": 238,
   "id": "73cf617e",
   "metadata": {},
   "outputs": [
    {
     "data": {
      "text/html": [
       "<style>#sk-container-id-5 {color: black;background-color: white;}#sk-container-id-5 pre{padding: 0;}#sk-container-id-5 div.sk-toggleable {background-color: white;}#sk-container-id-5 label.sk-toggleable__label {cursor: pointer;display: block;width: 100%;margin-bottom: 0;padding: 0.3em;box-sizing: border-box;text-align: center;}#sk-container-id-5 label.sk-toggleable__label-arrow:before {content: \"▸\";float: left;margin-right: 0.25em;color: #696969;}#sk-container-id-5 label.sk-toggleable__label-arrow:hover:before {color: black;}#sk-container-id-5 div.sk-estimator:hover label.sk-toggleable__label-arrow:before {color: black;}#sk-container-id-5 div.sk-toggleable__content {max-height: 0;max-width: 0;overflow: hidden;text-align: left;background-color: #f0f8ff;}#sk-container-id-5 div.sk-toggleable__content pre {margin: 0.2em;color: black;border-radius: 0.25em;background-color: #f0f8ff;}#sk-container-id-5 input.sk-toggleable__control:checked~div.sk-toggleable__content {max-height: 200px;max-width: 100%;overflow: auto;}#sk-container-id-5 input.sk-toggleable__control:checked~label.sk-toggleable__label-arrow:before {content: \"▾\";}#sk-container-id-5 div.sk-estimator input.sk-toggleable__control:checked~label.sk-toggleable__label {background-color: #d4ebff;}#sk-container-id-5 div.sk-label input.sk-toggleable__control:checked~label.sk-toggleable__label {background-color: #d4ebff;}#sk-container-id-5 input.sk-hidden--visually {border: 0;clip: rect(1px 1px 1px 1px);clip: rect(1px, 1px, 1px, 1px);height: 1px;margin: -1px;overflow: hidden;padding: 0;position: absolute;width: 1px;}#sk-container-id-5 div.sk-estimator {font-family: monospace;background-color: #f0f8ff;border: 1px dotted black;border-radius: 0.25em;box-sizing: border-box;margin-bottom: 0.5em;}#sk-container-id-5 div.sk-estimator:hover {background-color: #d4ebff;}#sk-container-id-5 div.sk-parallel-item::after {content: \"\";width: 100%;border-bottom: 1px solid gray;flex-grow: 1;}#sk-container-id-5 div.sk-label:hover label.sk-toggleable__label {background-color: #d4ebff;}#sk-container-id-5 div.sk-serial::before {content: \"\";position: absolute;border-left: 1px solid gray;box-sizing: border-box;top: 0;bottom: 0;left: 50%;z-index: 0;}#sk-container-id-5 div.sk-serial {display: flex;flex-direction: column;align-items: center;background-color: white;padding-right: 0.2em;padding-left: 0.2em;position: relative;}#sk-container-id-5 div.sk-item {position: relative;z-index: 1;}#sk-container-id-5 div.sk-parallel {display: flex;align-items: stretch;justify-content: center;background-color: white;position: relative;}#sk-container-id-5 div.sk-item::before, #sk-container-id-5 div.sk-parallel-item::before {content: \"\";position: absolute;border-left: 1px solid gray;box-sizing: border-box;top: 0;bottom: 0;left: 50%;z-index: -1;}#sk-container-id-5 div.sk-parallel-item {display: flex;flex-direction: column;z-index: 1;position: relative;background-color: white;}#sk-container-id-5 div.sk-parallel-item:first-child::after {align-self: flex-end;width: 50%;}#sk-container-id-5 div.sk-parallel-item:last-child::after {align-self: flex-start;width: 50%;}#sk-container-id-5 div.sk-parallel-item:only-child::after {width: 0;}#sk-container-id-5 div.sk-dashed-wrapped {border: 1px dashed gray;margin: 0 0.4em 0.5em 0.4em;box-sizing: border-box;padding-bottom: 0.4em;background-color: white;}#sk-container-id-5 div.sk-label label {font-family: monospace;font-weight: bold;display: inline-block;line-height: 1.2em;}#sk-container-id-5 div.sk-label-container {text-align: center;}#sk-container-id-5 div.sk-container {/* jupyter's `normalize.less` sets `[hidden] { display: none; }` but bootstrap.min.css set `[hidden] { display: none !important; }` so we also need the `!important` here to be able to override the default hidden behavior on the sphinx rendered scikit-learn.org. See: https://github.com/scikit-learn/scikit-learn/issues/21755 */display: inline-block !important;position: relative;}#sk-container-id-5 div.sk-text-repr-fallback {display: none;}</style><div id=\"sk-container-id-5\" class=\"sk-top-container\"><div class=\"sk-text-repr-fallback\"><pre>GridSearchCV(cv=5, estimator=RandomForestClassifier(),\n",
       "             param_grid={&#x27;criterion&#x27;: [&#x27;gini&#x27;, &#x27;entropy&#x27;, &#x27;log_loss&#x27;],\n",
       "                         &#x27;min_samples_leaf&#x27;: [1, 2, 3],\n",
       "                         &#x27;min_samples_split&#x27;: [2, 3, 4],\n",
       "                         &#x27;n_estimators&#x27;: [50, 100, 150]},\n",
       "             scoring=&#x27;accuracy&#x27;)</pre><b>In a Jupyter environment, please rerun this cell to show the HTML representation or trust the notebook. <br />On GitHub, the HTML representation is unable to render, please try loading this page with nbviewer.org.</b></div><div class=\"sk-container\" hidden><div class=\"sk-item sk-dashed-wrapped\"><div class=\"sk-label-container\"><div class=\"sk-label sk-toggleable\"><input class=\"sk-toggleable__control sk-hidden--visually\" id=\"sk-estimator-id-5\" type=\"checkbox\" ><label for=\"sk-estimator-id-5\" class=\"sk-toggleable__label sk-toggleable__label-arrow\">GridSearchCV</label><div class=\"sk-toggleable__content\"><pre>GridSearchCV(cv=5, estimator=RandomForestClassifier(),\n",
       "             param_grid={&#x27;criterion&#x27;: [&#x27;gini&#x27;, &#x27;entropy&#x27;, &#x27;log_loss&#x27;],\n",
       "                         &#x27;min_samples_leaf&#x27;: [1, 2, 3],\n",
       "                         &#x27;min_samples_split&#x27;: [2, 3, 4],\n",
       "                         &#x27;n_estimators&#x27;: [50, 100, 150]},\n",
       "             scoring=&#x27;accuracy&#x27;)</pre></div></div></div><div class=\"sk-parallel\"><div class=\"sk-parallel-item\"><div class=\"sk-item\"><div class=\"sk-label-container\"><div class=\"sk-label sk-toggleable\"><input class=\"sk-toggleable__control sk-hidden--visually\" id=\"sk-estimator-id-6\" type=\"checkbox\" ><label for=\"sk-estimator-id-6\" class=\"sk-toggleable__label sk-toggleable__label-arrow\">estimator: RandomForestClassifier</label><div class=\"sk-toggleable__content\"><pre>RandomForestClassifier()</pre></div></div></div><div class=\"sk-serial\"><div class=\"sk-item\"><div class=\"sk-estimator sk-toggleable\"><input class=\"sk-toggleable__control sk-hidden--visually\" id=\"sk-estimator-id-7\" type=\"checkbox\" ><label for=\"sk-estimator-id-7\" class=\"sk-toggleable__label sk-toggleable__label-arrow\">RandomForestClassifier</label><div class=\"sk-toggleable__content\"><pre>RandomForestClassifier()</pre></div></div></div></div></div></div></div></div></div></div>"
      ],
      "text/plain": [
       "GridSearchCV(cv=5, estimator=RandomForestClassifier(),\n",
       "             param_grid={'criterion': ['gini', 'entropy', 'log_loss'],\n",
       "                         'min_samples_leaf': [1, 2, 3],\n",
       "                         'min_samples_split': [2, 3, 4],\n",
       "                         'n_estimators': [50, 100, 150]},\n",
       "             scoring='accuracy')"
      ]
     },
     "execution_count": 238,
     "metadata": {},
     "output_type": "execute_result"
    }
   ],
   "source": [
    "gd.fit(x_train,y_train)"
   ]
  },
  {
   "cell_type": "code",
   "execution_count": 239,
   "id": "f0c7a2f5",
   "metadata": {},
   "outputs": [
    {
     "data": {
      "text/plain": [
       "{'criterion': 'gini',\n",
       " 'min_samples_leaf': 1,\n",
       " 'min_samples_split': 4,\n",
       " 'n_estimators': 100}"
      ]
     },
     "execution_count": 239,
     "metadata": {},
     "output_type": "execute_result"
    }
   ],
   "source": [
    "gd.best_params_"
   ]
  },
  {
   "cell_type": "code",
   "execution_count": 240,
   "id": "254b943f",
   "metadata": {},
   "outputs": [],
   "source": [
    "RM3=RandomForestClassifier(n_estimators=100,criterion='gini',min_samples_split=4,min_samples_leaf=1)"
   ]
  },
  {
   "cell_type": "code",
   "execution_count": 241,
   "id": "dbcb40d5",
   "metadata": {},
   "outputs": [
    {
     "data": {
      "text/html": [
       "<style>#sk-container-id-6 {color: black;background-color: white;}#sk-container-id-6 pre{padding: 0;}#sk-container-id-6 div.sk-toggleable {background-color: white;}#sk-container-id-6 label.sk-toggleable__label {cursor: pointer;display: block;width: 100%;margin-bottom: 0;padding: 0.3em;box-sizing: border-box;text-align: center;}#sk-container-id-6 label.sk-toggleable__label-arrow:before {content: \"▸\";float: left;margin-right: 0.25em;color: #696969;}#sk-container-id-6 label.sk-toggleable__label-arrow:hover:before {color: black;}#sk-container-id-6 div.sk-estimator:hover label.sk-toggleable__label-arrow:before {color: black;}#sk-container-id-6 div.sk-toggleable__content {max-height: 0;max-width: 0;overflow: hidden;text-align: left;background-color: #f0f8ff;}#sk-container-id-6 div.sk-toggleable__content pre {margin: 0.2em;color: black;border-radius: 0.25em;background-color: #f0f8ff;}#sk-container-id-6 input.sk-toggleable__control:checked~div.sk-toggleable__content {max-height: 200px;max-width: 100%;overflow: auto;}#sk-container-id-6 input.sk-toggleable__control:checked~label.sk-toggleable__label-arrow:before {content: \"▾\";}#sk-container-id-6 div.sk-estimator input.sk-toggleable__control:checked~label.sk-toggleable__label {background-color: #d4ebff;}#sk-container-id-6 div.sk-label input.sk-toggleable__control:checked~label.sk-toggleable__label {background-color: #d4ebff;}#sk-container-id-6 input.sk-hidden--visually {border: 0;clip: rect(1px 1px 1px 1px);clip: rect(1px, 1px, 1px, 1px);height: 1px;margin: -1px;overflow: hidden;padding: 0;position: absolute;width: 1px;}#sk-container-id-6 div.sk-estimator {font-family: monospace;background-color: #f0f8ff;border: 1px dotted black;border-radius: 0.25em;box-sizing: border-box;margin-bottom: 0.5em;}#sk-container-id-6 div.sk-estimator:hover {background-color: #d4ebff;}#sk-container-id-6 div.sk-parallel-item::after {content: \"\";width: 100%;border-bottom: 1px solid gray;flex-grow: 1;}#sk-container-id-6 div.sk-label:hover label.sk-toggleable__label {background-color: #d4ebff;}#sk-container-id-6 div.sk-serial::before {content: \"\";position: absolute;border-left: 1px solid gray;box-sizing: border-box;top: 0;bottom: 0;left: 50%;z-index: 0;}#sk-container-id-6 div.sk-serial {display: flex;flex-direction: column;align-items: center;background-color: white;padding-right: 0.2em;padding-left: 0.2em;position: relative;}#sk-container-id-6 div.sk-item {position: relative;z-index: 1;}#sk-container-id-6 div.sk-parallel {display: flex;align-items: stretch;justify-content: center;background-color: white;position: relative;}#sk-container-id-6 div.sk-item::before, #sk-container-id-6 div.sk-parallel-item::before {content: \"\";position: absolute;border-left: 1px solid gray;box-sizing: border-box;top: 0;bottom: 0;left: 50%;z-index: -1;}#sk-container-id-6 div.sk-parallel-item {display: flex;flex-direction: column;z-index: 1;position: relative;background-color: white;}#sk-container-id-6 div.sk-parallel-item:first-child::after {align-self: flex-end;width: 50%;}#sk-container-id-6 div.sk-parallel-item:last-child::after {align-self: flex-start;width: 50%;}#sk-container-id-6 div.sk-parallel-item:only-child::after {width: 0;}#sk-container-id-6 div.sk-dashed-wrapped {border: 1px dashed gray;margin: 0 0.4em 0.5em 0.4em;box-sizing: border-box;padding-bottom: 0.4em;background-color: white;}#sk-container-id-6 div.sk-label label {font-family: monospace;font-weight: bold;display: inline-block;line-height: 1.2em;}#sk-container-id-6 div.sk-label-container {text-align: center;}#sk-container-id-6 div.sk-container {/* jupyter's `normalize.less` sets `[hidden] { display: none; }` but bootstrap.min.css set `[hidden] { display: none !important; }` so we also need the `!important` here to be able to override the default hidden behavior on the sphinx rendered scikit-learn.org. See: https://github.com/scikit-learn/scikit-learn/issues/21755 */display: inline-block !important;position: relative;}#sk-container-id-6 div.sk-text-repr-fallback {display: none;}</style><div id=\"sk-container-id-6\" class=\"sk-top-container\"><div class=\"sk-text-repr-fallback\"><pre>RandomForestClassifier(min_samples_split=4)</pre><b>In a Jupyter environment, please rerun this cell to show the HTML representation or trust the notebook. <br />On GitHub, the HTML representation is unable to render, please try loading this page with nbviewer.org.</b></div><div class=\"sk-container\" hidden><div class=\"sk-item\"><div class=\"sk-estimator sk-toggleable\"><input class=\"sk-toggleable__control sk-hidden--visually\" id=\"sk-estimator-id-8\" type=\"checkbox\" checked><label for=\"sk-estimator-id-8\" class=\"sk-toggleable__label sk-toggleable__label-arrow\">RandomForestClassifier</label><div class=\"sk-toggleable__content\"><pre>RandomForestClassifier(min_samples_split=4)</pre></div></div></div></div></div>"
      ],
      "text/plain": [
       "RandomForestClassifier(min_samples_split=4)"
      ]
     },
     "execution_count": 241,
     "metadata": {},
     "output_type": "execute_result"
    }
   ],
   "source": [
    "RM3.fit(x_train,y_train)"
   ]
  },
  {
   "cell_type": "code",
   "execution_count": 242,
   "id": "a9880979",
   "metadata": {},
   "outputs": [],
   "source": [
    "PRERM3=RM3.predict(x_test)"
   ]
  },
  {
   "cell_type": "markdown",
   "id": "3aca7b30",
   "metadata": {},
   "source": [
    "## MODEL ACCURACY"
   ]
  },
  {
   "cell_type": "code",
   "execution_count": 243,
   "id": "0f60ac2e",
   "metadata": {},
   "outputs": [
    {
     "name": "stdout",
     "output_type": "stream",
     "text": [
      "0.9982098903557843\n"
     ]
    }
   ],
   "source": [
    "print(accuracy_score(y_test,PRERM3))"
   ]
  },
  {
   "cell_type": "markdown",
   "id": "eab36dd6",
   "metadata": {},
   "source": [
    "## CONFUSION MATRIX"
   ]
  },
  {
   "cell_type": "code",
   "execution_count": 244,
   "id": "493090f5",
   "metadata": {},
   "outputs": [
    {
     "name": "stdout",
     "output_type": "stream",
     "text": [
      "[[4696   12]\n",
      " [   4 4226]]\n"
     ]
    }
   ],
   "source": [
    "print(confusion_matrix(y_test,PRERM3))"
   ]
  },
  {
   "cell_type": "markdown",
   "id": "8aeaf258",
   "metadata": {},
   "source": [
    "## CLASSIFICATION REPORT"
   ]
  },
  {
   "cell_type": "code",
   "execution_count": 245,
   "id": "c8f5ccd2",
   "metadata": {},
   "outputs": [
    {
     "name": "stdout",
     "output_type": "stream",
     "text": [
      "              precision    recall  f1-score   support\n",
      "\n",
      "           0       1.00      1.00      1.00      4708\n",
      "           1       1.00      1.00      1.00      4230\n",
      "\n",
      "    accuracy                           1.00      8938\n",
      "   macro avg       1.00      1.00      1.00      8938\n",
      "weighted avg       1.00      1.00      1.00      8938\n",
      "\n"
     ]
    }
   ],
   "source": [
    "print(classification_report(y_test,PRERM3))"
   ]
  },
  {
   "cell_type": "markdown",
   "id": "916e6c08",
   "metadata": {},
   "source": [
    "## AUC ROC CURVE "
   ]
  },
  {
   "cell_type": "code",
   "execution_count": 246,
   "id": "3cea7a86",
   "metadata": {},
   "outputs": [],
   "source": [
    "y_pred_prob7=RM3.predict_proba(x_test)[:,1]"
   ]
  },
  {
   "cell_type": "code",
   "execution_count": 247,
   "id": "9750357a",
   "metadata": {},
   "outputs": [
    {
     "data": {
      "text/plain": [
       "array([1.        , 0.98      , 0.92      , ..., 0.96      , 0.95833333,\n",
       "       0.        ])"
      ]
     },
     "execution_count": 247,
     "metadata": {},
     "output_type": "execute_result"
    }
   ],
   "source": [
    "y_pred_prob7"
   ]
  },
  {
   "cell_type": "code",
   "execution_count": 248,
   "id": "12ad290c",
   "metadata": {},
   "outputs": [],
   "source": [
    "tpr,fpr,thresholds=roc_curve(y_test,y_pred_prob7)"
   ]
  },
  {
   "cell_type": "code",
   "execution_count": 249,
   "id": "791d006b",
   "metadata": {},
   "outputs": [
    {
     "data": {
      "text/plain": [
       "array([0.        , 0.        , 0.        , ..., 0.91801189, 0.91864911,\n",
       "       1.        ])"
      ]
     },
     "execution_count": 249,
     "metadata": {},
     "output_type": "execute_result"
    }
   ],
   "source": [
    "tpr"
   ]
  },
  {
   "cell_type": "code",
   "execution_count": 250,
   "id": "18d5b4fc",
   "metadata": {},
   "outputs": [
    {
     "data": {
      "text/plain": [
       "array([0.        , 0.03309693, 0.03380615, ..., 1.        , 1.        ,\n",
       "       1.        ])"
      ]
     },
     "execution_count": 250,
     "metadata": {},
     "output_type": "execute_result"
    }
   ],
   "source": [
    "fpr"
   ]
  },
  {
   "cell_type": "code",
   "execution_count": 251,
   "id": "adac930d",
   "metadata": {},
   "outputs": [
    {
     "data": {
      "text/plain": [
       "array([2.00000000e+00, 1.00000000e+00, 9.98000000e-01, ...,\n",
       "       1.96850394e-05, 1.83823529e-05, 0.00000000e+00])"
      ]
     },
     "execution_count": 251,
     "metadata": {},
     "output_type": "execute_result"
    }
   ],
   "source": [
    "thresholds"
   ]
  },
  {
   "cell_type": "code",
   "execution_count": 252,
   "id": "d75000d4",
   "metadata": {},
   "outputs": [
    {
     "data": {
      "image/png": "[encoded data removed]",
      "text/plain": [
       "<Figure size 432x288 with 1 Axes>"
      ]
     },
     "metadata": {
      "needs_background": "light"
     },
     "output_type": "display_data"
    }
   ],
   "source": [
    "plt.plot([0,1],[0,1],'k--')\n",
    "plt.plot(tpr,fpr,label='SVC')\n",
    "plt.xlabel('FALSE_POSITIVE_RATE')\n",
    "plt.ylabel('TRUE_POSITIVE_RATE')\n",
    "plt.title('RANDOM_FOREST_CLASSIFIER')\n",
    "plt.show()"
   ]
  },
  {
   "cell_type": "code",
   "execution_count": 253,
   "id": "812e0aa7",
   "metadata": {},
   "outputs": [
    {
     "data": {
      "text/plain": [
       "0.998252760253158"
      ]
     },
     "execution_count": 253,
     "metadata": {},
     "output_type": "execute_result"
    }
   ],
   "source": [
    "auc_score=roc_auc_score(y_test,(RM3.predict(x_test)))\n",
    "auc_score"
   ]
  },
  {
   "cell_type": "markdown",
   "id": "92747d43",
   "metadata": {},
   "source": [
    "## CONCLUSION "
   ]
  },
  {
   "cell_type": "markdown",
   "id": "eb3b5053",
   "metadata": {},
   "source": [
    "## THERE IS AN IMPROVEMENT IN ACCURACY SCORE POST HYPER TUNING,HENCE WE WILL SAVE AND SELECT RM3 MODEL"
   ]
  },
  {
   "cell_type": "code",
   "execution_count": 254,
   "id": "b4295c47",
   "metadata": {},
   "outputs": [],
   "source": [
    "import pickle"
   ]
  },
  {
   "cell_type": "code",
   "execution_count": 255,
   "id": "23cd06c0",
   "metadata": {},
   "outputs": [],
   "source": [
    "filename='churn.pkl'\n",
    "pickle.dump(RM3,open(filename,'wb'))"
   ]
  },
  {
   "cell_type": "code",
   "execution_count": 256,
   "id": "2729f0d8",
   "metadata": {},
   "outputs": [],
   "source": [
    "loaded_model11=pickle.load(open('churn.pkl','rb'))"
   ]
  },
  {
   "cell_type": "code",
   "execution_count": 257,
   "id": "c44ae089",
   "metadata": {},
   "outputs": [],
   "source": [
    "conclusion11=pd.DataFrame([loaded_model11.predict(x_test)[:],y_test[:]],index=['PREDICTED','ORIGINAL'])"
   ]
  },
  {
   "cell_type": "code",
   "execution_count": 258,
   "id": "804f02a6",
   "metadata": {},
   "outputs": [
    {
     "data": {
      "text/html": [
       "<div>\n",
       "<style scoped>\n",
       "    .dataframe tbody tr th:only-of-type {\n",
       "        vertical-align: middle;\n",
       "    }\n",
       "\n",
       "    .dataframe tbody tr th {\n",
       "        vertical-align: top;\n",
       "    }\n",
       "\n",
       "    .dataframe thead th {\n",
       "        text-align: right;\n",
       "    }\n",
       "</style>\n",
       "<table border=\"1\" class=\"dataframe\">\n",
       "  <thead>\n",
       "    <tr style=\"text-align: right;\">\n",
       "      <th></th>\n",
       "      <th>0</th>\n",
       "      <th>1</th>\n",
       "      <th>2</th>\n",
       "      <th>3</th>\n",
       "      <th>4</th>\n",
       "      <th>5</th>\n",
       "      <th>6</th>\n",
       "      <th>7</th>\n",
       "      <th>8</th>\n",
       "      <th>9</th>\n",
       "      <th>...</th>\n",
       "      <th>8928</th>\n",
       "      <th>8929</th>\n",
       "      <th>8930</th>\n",
       "      <th>8931</th>\n",
       "      <th>8932</th>\n",
       "      <th>8933</th>\n",
       "      <th>8934</th>\n",
       "      <th>8935</th>\n",
       "      <th>8936</th>\n",
       "      <th>8937</th>\n",
       "    </tr>\n",
       "  </thead>\n",
       "  <tbody>\n",
       "    <tr>\n",
       "      <th>PREDICTED</th>\n",
       "      <td>1</td>\n",
       "      <td>1</td>\n",
       "      <td>1</td>\n",
       "      <td>0</td>\n",
       "      <td>1</td>\n",
       "      <td>0</td>\n",
       "      <td>0</td>\n",
       "      <td>0</td>\n",
       "      <td>1</td>\n",
       "      <td>0</td>\n",
       "      <td>...</td>\n",
       "      <td>0</td>\n",
       "      <td>1</td>\n",
       "      <td>1</td>\n",
       "      <td>0</td>\n",
       "      <td>1</td>\n",
       "      <td>0</td>\n",
       "      <td>1</td>\n",
       "      <td>1</td>\n",
       "      <td>1</td>\n",
       "      <td>0</td>\n",
       "    </tr>\n",
       "    <tr>\n",
       "      <th>ORIGINAL</th>\n",
       "      <td>1</td>\n",
       "      <td>1</td>\n",
       "      <td>1</td>\n",
       "      <td>0</td>\n",
       "      <td>1</td>\n",
       "      <td>0</td>\n",
       "      <td>0</td>\n",
       "      <td>0</td>\n",
       "      <td>1</td>\n",
       "      <td>0</td>\n",
       "      <td>...</td>\n",
       "      <td>0</td>\n",
       "      <td>1</td>\n",
       "      <td>1</td>\n",
       "      <td>0</td>\n",
       "      <td>1</td>\n",
       "      <td>0</td>\n",
       "      <td>1</td>\n",
       "      <td>1</td>\n",
       "      <td>1</td>\n",
       "      <td>0</td>\n",
       "    </tr>\n",
       "  </tbody>\n",
       "</table>\n",
       "<p>2 rows × 8938 columns</p>\n",
       "</div>"
      ],
      "text/plain": [
       "           0     1     2     3     4     5     6     7     8     9     ...  \\\n",
       "PREDICTED     1     1     1     0     1     0     0     0     1     0  ...   \n",
       "ORIGINAL      1     1     1     0     1     0     0     0     1     0  ...   \n",
       "\n",
       "           8928  8929  8930  8931  8932  8933  8934  8935  8936  8937  \n",
       "PREDICTED     0     1     1     0     1     0     1     1     1     0  \n",
       "ORIGINAL      0     1     1     0     1     0     1     1     1     0  \n",
       "\n",
       "[2 rows x 8938 columns]"
      ]
     },
     "execution_count": 258,
     "metadata": {},
     "output_type": "execute_result"
    }
   ],
   "source": [
    "conclusion11"
   ]
  }
 ],
 "metadata": {
  "kernelspec": {
   "display_name": "Python 3 (ipykernel)",
   "language": "python",
   "name": "python3"
  },
  "language_info": {
   "codemirror_mode": {
    "name": "ipython",
    "version": 3
   },
   "file_extension": ".py",
   "mimetype": "text/x-python",
   "name": "python",
   "nbconvert_exporter": "python",
   "pygments_lexer": "ipython3",
   "version": "3.9.12"
  }
 },
 "nbformat": 4,
 "nbformat_minor": 5
}
